{
  "nbformat": 4,
  "nbformat_minor": 0,
  "metadata": {
    "colab": {
      "provenance": []
    },
    "kernelspec": {
      "name": "python3",
      "display_name": "Python 3"
    },
    "language_info": {
      "name": "python"
    }
  },
  "cells": [
    {
      "cell_type": "code",
      "source": [
        "# 수정 전\n",
        "\n",
        "#크롤링시 필요한 라이브러리 불러오기\n",
        "from bs4 import BeautifulSoup\n",
        "import requests\n",
        "import re\n",
        "import datetime\n",
        "from tqdm import tqdm\n",
        "import sys\n",
        "import time\n",
        "\n",
        "# 크롤링할 url 생성하는 함수 만들기(검색어, 시작 날짜, 종료 날짜, 최대 페이지)\n",
        "def makeUrl(search, s_date, e_date, maxpage):\n",
        "    s_from = s_date.replace(\".\",\"\")\n",
        "    e_to = e_date.replace(\".\",\"\")\n",
        "    page = 1  \n",
        "    maxpage_t =(int(maxpage)-1)*10+1   # 11= 2페이지 21=3페이지 31=4페이지  ...81=9페이지 , 91=10페이지, 101=11페이지\n",
        "    urls = []\n",
        "    for i in range(maxpage_t):\n",
        "        url = \"https://search.naver.com/search.naver?where=news&query=\" + search + \"&sort=0&ds=\" + s_date + \"&de=\" + e_date + \"&nso=so%3Ar%2Cp%3Afrom\" + s_from + \"to\" + e_to + \"%2Ca%3A&start=\" + str(page)\n",
        "        urls.append(url)\n",
        "        page += 10\n",
        "    return urls    \n",
        "\n",
        "# html에서 원하는 속성 추출하는 함수 만들기(기사, 추출하려는 속성값)\n",
        "def news_attrs_crawler(articles,attrs):\n",
        "    attrs_content=[]\n",
        "    for i in articles:\n",
        "        attrs_content.append(i.attrs[attrs])\n",
        "    return attrs_content\n",
        "\n",
        "# ConnectionError방지\n",
        "headers = {\"User-Agent\": \"Mozilla/5.0 (Windows NT 10.0; Win64; x64) Chrome/98.0.4758.102\"}\n",
        "\n",
        "#html 생성해서 기사 크롤링하는 함수 만들기(url): 링크를 반환\n",
        "def articles_crawler(url):\n",
        "    #html 불러오기\n",
        "    original_html = requests.get(i,headers=headers)\n",
        "    html = BeautifulSoup(original_html.text, \"html.parser\")\n",
        "\n",
        "    url_naver = html.select(\"div.group_news > ul.list_news > li div.news_area > div.news_info > div.info_group > a.info\")\n",
        "    url = news_attrs_crawler(url_naver,'href')\n",
        "    return url\n",
        "\n",
        "\n",
        "#####뉴스 크롤링 시작#####\n",
        "search = input(\"검색어 입력: \")  \n",
        "s_date = input(\"시작 날짜 입력(예시: 2019.01.04): \")  #2019.01.04\n",
        "e_date = input(\"종료 날짜 입력(예시: 2019.01.05): \")   #2019.01.05\n",
        "maxpage = input(\"최대 크롤링할 페이지 수를 입력하세요: \")\n",
        "\n",
        "# naver url 생성\n",
        "url = makeUrl(search, s_date, e_date, maxpage)\n",
        "\n",
        "#뉴스 크롤러 실행\n",
        "news_titles = []\n",
        "news_url =[]\n",
        "news_contents =[]\n",
        "news_dates = []\n",
        "news_names = []\n",
        "for i in url:\n",
        "    url = articles_crawler(url)\n",
        "    news_url.append(url)\n",
        "\n",
        "\n",
        "#제목, 링크, 내용 1차원 리스트로 꺼내는 함수 생성\n",
        "def makeList(newlist, content):\n",
        "    for i in content:\n",
        "        for j in i:\n",
        "            newlist.append(j)\n",
        "    return newlist\n",
        "\n",
        "    \n",
        "#제목, 링크, 내용 담을 리스트 생성\n",
        "news_url_1 = []\n",
        "\n",
        "#1차원 리스트로 만들기(내용 제외)\n",
        "makeList(news_url_1,news_url)\n",
        "\n",
        "#NAVER 뉴스만 남기기\n",
        "final_urls = []\n",
        "for i in tqdm(range(len(news_url_1))):\n",
        "    if \"news.naver.com\" in news_url_1[i]:\n",
        "        final_urls.append(news_url_1[i])\n",
        "    else:\n",
        "        pass\n",
        "\n",
        "\n",
        "# 뉴스 내용 크롤링\n",
        "for i in tqdm(final_urls):\n",
        "    #각 기사 html get하기\n",
        "    news = requests.get(i,headers=headers)\n",
        "    news_html = BeautifulSoup(news.text,\"html.parser\")\n",
        "\n",
        "    time.sleep(2)\n",
        "\n",
        "    # 언론사명 가져 오기\n",
        "    names = news_html.select('#contents > div.copyright > div > p')\n",
        "    if names:\n",
        "      name = names[0].string[12:-38]\n",
        "    elif names != names:\n",
        "      time.sleep(2)\n",
        "      names = news_html.select('#content > div.end_ct > div > div.copyright > div > p')\n",
        "      name = names[0].string[12:-38]\n",
        "    else:\n",
        "      name = ''\n",
        "\n",
        "    # 뉴스 제목 가져 오기\n",
        "    title = news_html.select_one(\"#ct > div.media_end_head.go_trans > div.media_end_head_title > h2\")\n",
        "    if title == None:\n",
        "        title = news_html.select_one(\"#content > div.end_ct > div > h2\")\n",
        "    \n",
        "    # 뉴스 본문 가져 오기\n",
        "    content = news_html.select(\"div#dic_area\")\n",
        "    if content == []:\n",
        "        content = news_html.select(\"#articeBody\")\n",
        "\n",
        "    # 기사 텍스트만 가져 오기:  list합치기\n",
        "    content = ''.join(str(content))\n",
        "\n",
        "    # html 태그 제거 및 텍스트 다듬기\n",
        "    pattern1 = '<[^>]*>'\n",
        "    title = re.sub(pattern=pattern1, repl='', string=str(title))\n",
        "    content = re.sub(pattern=pattern1, repl='', string=content)\n",
        "    pattern2 = \"\"\"[\\n\\n\\n\\n\\n// flash 오류를 우회하기 위한 함수 추가\\nfunction _flash_removeCallback() {}\"\"\"\n",
        "    content = content.replace(pattern2, '')\n",
        "\n",
        "    news_names.append(name)\n",
        "    news_titles.append(title)\n",
        "    news_contents.append(content)\n",
        "\n",
        "# 날짜 가져 오기\n",
        "    try:\n",
        "        html_date = news_html.select_one(\"div#ct> div.media_end_head.go_trans > div.media_end_head_info.nv_notrans > div.media_end_head_info_datestamp > div > span\")\n",
        "        news_date = html_date.attrs['data-date-time'][:10]\n",
        "    except AttributeError:\n",
        "        news_date = news_html.select_one(\"#content > div.end_ct > div > div.article_info > span > em\")\n",
        "        news_date = re.sub(pattern=pattern1,repl='', string=str(news_date))\n",
        "\n",
        "    news_dates.append(news_date)\n",
        "\n",
        "\n",
        "###데이터 프레임으로 만들기###\n",
        "import pandas as pd\n",
        "\n",
        "#데이터 프레임 만들기\n",
        "news_df = pd.DataFrame({'date':news_dates, 'name': news_names, 'title':news_titles, 'content':news_contents, 'link': final_urls})\n",
        "\n",
        "#중복 행 지우기\n",
        "# news_df = news_df.drop_duplicates(keep='first',ignore_index=True)\n",
        "\n",
        "#데이터 프레임을 엑셀 파일로 저장\n",
        "outputFileName = f'{s_date} ~ {e_date}.xlsx'\n",
        "news_df.to_excel(outputFileName, sheet_name='sheet1')"
      ],
      "metadata": {
        "id": "pZXx192Z5fkm"
      },
      "execution_count": null,
      "outputs": []
    },
    {
      "cell_type": "code",
      "source": [
        "# 간략화\n",
        "\n",
        "#크롤링시 필요한 라이브러리 불러오기\n",
        "from bs4 import BeautifulSoup\n",
        "import requests\n",
        "import re\n",
        "import datetime\n",
        "from tqdm import tqdm\n",
        "import sys\n",
        "import time\n",
        "\n",
        "# 크롤링할 url 생성하는 함수 만들기(검색어, 시작 날짜, 종료 날짜, 최대 페이지)\n",
        "def makeUrl(search, s_date, e_date, maxpage):\n",
        "    s_from = s_date.replace(\".\",\"\")\n",
        "    e_to = e_date.replace(\".\",\"\")\n",
        "    url = [f\"https://search.naver.com/search.naver?where=news&query={search}&sort=0&ds={s_date}&de={e_date}&nso=so%3Ar%2Cp%3Afrom{s_from}to{e_to}%2Ca%3A&start={i}\" for i in range(1, int(maxpage) * 10, 10)]\n",
        "    return url  \n",
        "\n",
        "# html에서 원하는 속성 추출하는 함수 만들기(기사, 추출하려는 속성값)\n",
        "def news_attrs_crawler(articles, attrs):\n",
        "    attrs_content = [i.attrs[attrs] for i in articles]\n",
        "    return attrs_content\n",
        "\n",
        "# ConnectionError방지\n",
        "headers = {\"User-Agent\": \"Mozilla/5.0 (Windows NT 10.0; Win64; x64) Chrome/98.0.4758.102\"}\n",
        "\n",
        "#html 생성해서 기사 크롤링하는 함수 만들기(url): 링크를 반환\n",
        "def articles_crawler(url):\n",
        "    #html 불러오기\n",
        "    original_html = requests.get(i,headers=headers)\n",
        "    html = BeautifulSoup(original_html.text, \"html.parser\")\n",
        "\n",
        "    url_naver = html.select(\"div.group_news > ul.list_news > li div.news_area > div.news_info > div.info_group > a.info\")\n",
        "    url = news_attrs_crawler(url_naver,'href')\n",
        "    return url\n",
        "\n",
        "\n",
        "#####뉴스 크롤링 시작#####\n",
        "search = input(\"검색어 입력: \")  \n",
        "s_date = input(\"시작 날짜 입력(예시: 2019.01.04): \")  #2019.01.04\n",
        "e_date = input(\"종료 날짜 입력(예시: 2019.01.05): \")   #2019.01.05\n",
        "maxpage = input(\"최대 크롤링할 페이지 수를 입력하세요: \")\n",
        "\n",
        "# naver url 생성\n",
        "url = makeUrl(search, s_date, e_date, maxpage)\n",
        "\n",
        "#뉴스 크롤러 실행\n",
        "news_titles = []\n",
        "news_url =[]\n",
        "news_contents =[]\n",
        "news_dates = []\n",
        "news_names = []\n",
        "for i in url:\n",
        "    url = articles_crawler(url)\n",
        "    news_url.append(url)\n",
        "\n",
        "\n",
        "#제목, 링크, 내용 1차원 리스트로 꺼내는 함수 생성\n",
        "def makeList(newlist, content):\n",
        "    for i in content:\n",
        "        for j in i:\n",
        "            newlist.append(j)\n",
        "    return newlist\n",
        "\n",
        "    \n",
        "#제목, 링크, 내용 담을 리스트 생성\n",
        "news_url_1 = []\n",
        "\n",
        "#1차원 리스트로 만들기(내용 제외)\n",
        "makeList(news_url_1,news_url)\n",
        "\n",
        "#NAVER 뉴스만 남기기\n",
        "final_urls = []\n",
        "for i in tqdm(range(len(news_url_1))):\n",
        "    if \"news.naver.com\" in news_url_1[i]:\n",
        "        final_urls.append(news_url_1[i])\n",
        "    else:\n",
        "        pass\n",
        "\n",
        "\n",
        "# 뉴스 내용 크롤링\n",
        "for i in tqdm(final_urls):\n",
        "    #각 기사 html get하기\n",
        "    news = requests.get(i,headers=headers)\n",
        "    news_html = BeautifulSoup(news.text,\"html.parser\")\n",
        "\n",
        "    time.sleep(2)\n",
        "\n",
        "    # 언론사명 가져 오기\n",
        "    names = news_html.select('#contents > div.copyright > div > p')\n",
        "    if names:\n",
        "      name = names[0].string[12:-38]\n",
        "    elif names != names:\n",
        "      time.sleep(2)\n",
        "      names = news_html.select('#content > div.end_ct > div > div.copyright > div > p')\n",
        "      name = names[0].string[12:-38]\n",
        "    else:\n",
        "      name = ''\n",
        "\n",
        "    # 뉴스 제목 가져 오기\n",
        "    title = news_html.select_one(\"#ct > div.media_end_head.go_trans > div.media_end_head_title > h2\")\n",
        "    if title == None:\n",
        "        title = news_html.select_one(\"#content > div.end_ct > div > h2\")\n",
        "    \n",
        "    # 뉴스 본문 가져 오기\n",
        "    content = news_html.select(\"div#dic_area\")\n",
        "    if content == []:\n",
        "        content = news_html.select(\"#articeBody\")\n",
        "\n",
        "    # 기사 텍스트만 가져 오기:  list합치기\n",
        "    content = ''.join(str(content))\n",
        "\n",
        "    # html 태그 제거 및 텍스트 다듬기\n",
        "    pattern1 = '<[^>]*>' # 태그 제거\n",
        "    pattern2 = r'[\\n\\t<>]|&lt;|&gt;' # 특수 기호 제거\n",
        "\n",
        "    title = re.sub(pattern=pattern1, repl='', string=str(title))\n",
        "    title = re.sub(pattern=pattern2, repl='', string=str(title))\n",
        "\n",
        "    content = re.sub(pattern=pattern1, repl='', string=content)\n",
        "    pattern3 = \"\"\"[\\n\\n\\n\\n\\n// flash 오류를 우회하기 위한 함수 추가\\nfunction _flash_removeCallback() {}\"\"\"\n",
        "    content = content.replace(pattern3, '')\n",
        "    content = re.sub(pattern2, '', content)[1:-1] # 기사 본문 맨 앞, 맨 뒤 [ ] 제거\n",
        "\n",
        "    news_names.append(name)\n",
        "    news_titles.append(title)\n",
        "    news_contents.append(content)\n",
        "\n",
        "# 날짜 가져 오기\n",
        "    try:\n",
        "        html_date = news_html.select_one(\"div#ct> div.media_end_head.go_trans > div.media_end_head_info.nv_notrans > div.media_end_head_info_datestamp > div > span\")\n",
        "        news_date = html_date.attrs['data-date-time'][:10]\n",
        "    except AttributeError:\n",
        "        news_date = news_html.select_one(\"#content > div.end_ct > div > div.article_info > span > em\")\n",
        "        news_date = re.sub(pattern=pattern1,repl='', string=str(news_date))\n",
        "\n",
        "    # news_dates.append(news_date)\n",
        "    news_dates.append(news_date[:10].replace('.', '-'))\n",
        "\n",
        "\n",
        "###데이터 프레임으로 만들기###\n",
        "import pandas as pd\n",
        "\n",
        "#데이터 프레임 만들기\n",
        "news_df = pd.DataFrame({'date':news_dates, 'name': news_names, 'title':news_titles, 'content':news_contents, 'link': final_urls})\n",
        "\n",
        "#중복 행 지우기\n",
        "news_df = news_df.drop_duplicates(keep='first', ignore_index=True)\n",
        "\n",
        "#데이터 프레임을 엑셀 파일로 저장\n",
        "outputFileName = f'{s_date} ~ {e_date}.xlsx'\n",
        "news_df.to_excel(outputFileName, sheet_name='sheet1')"
      ],
      "metadata": {
        "colab": {
          "base_uri": "https://localhost:8080/"
        },
        "id": "nykusiPmL3ki",
        "outputId": "4c71ec59-d08f-456b-a874-34699ead6dc3"
      },
      "execution_count": null,
      "outputs": [
        {
          "name": "stdout",
          "output_type": "stream",
          "text": [
            "검색어 입력: 서울 아파트 매매\n",
            "시작 날짜 입력(예시: 2019.01.04): 2020.04.01\n",
            "종료 날짜 입력(예시: 2019.01.05): 2020.06.30\n",
            "최대 크롤링할 페이지 수를 입력하세요: 300\n"
          ]
        },
        {
          "output_type": "stream",
          "name": "stderr",
          "text": [
            "100%|██████████| 4550/4550 [00:00<00:00, 1086112.53it/s]\n",
            "100%|██████████| 1550/1550 [1:07:08<00:00,  2.60s/it]\n"
          ]
        }
      ]
    },
    {
      "cell_type": "code",
      "source": [
        "news_df.info()"
      ],
      "metadata": {
        "colab": {
          "base_uri": "https://localhost:8080/"
        },
        "id": "A3R4TGtSpV65",
        "outputId": "6960b1df-ecdf-40f8-da0d-89f9b83d12ad"
      },
      "execution_count": null,
      "outputs": [
        {
          "output_type": "stream",
          "name": "stdout",
          "text": [
            "<class 'pandas.core.frame.DataFrame'>\n",
            "RangeIndex: 1335 entries, 0 to 1334\n",
            "Data columns (total 5 columns):\n",
            " #   Column   Non-Null Count  Dtype \n",
            "---  ------   --------------  ----- \n",
            " 0   date     1335 non-null   object\n",
            " 1   name     1335 non-null   object\n",
            " 2   title    1335 non-null   object\n",
            " 3   content  1335 non-null   object\n",
            " 4   link     1335 non-null   object\n",
            "dtypes: object(5)\n",
            "memory usage: 52.3+ KB\n"
          ]
        }
      ]
    },
    {
      "cell_type": "code",
      "source": [
        "news_df"
      ],
      "metadata": {
        "colab": {
          "base_uri": "https://localhost:8080/",
          "height": 1000
        },
        "id": "_YtOFZtupZPr",
        "outputId": "8f05c212-93c2-44ba-a2ff-51ed42d6906a"
      },
      "execution_count": null,
      "outputs": [
        {
          "output_type": "execute_result",
          "data": {
            "text/plain": [
              "            date    name                                 title  \\\n",
              "0     2020-03-31    연합뉴스    대출 중단 등 악재에도 2월 서울 아파트 거래량 '깜짝' 증가   \n",
              "1     2020-03-31     뉴스1                        강남3구 아파트 값 하락세   \n",
              "2     2020-03-29    조선일보            쌀값 3배 오른 동안 84배 상승한 강남 아파트   \n",
              "3     2020-03-31    국민일보      수억 값싼 급매물 출현… 서울 아파트 매매가격 하락세 돌입   \n",
              "4     2020-03-31   아시아경제                   코로나에도 늘어난 서울 아파트 거래   \n",
              "...          ...     ...                                   ...   \n",
              "1126  2020-01-29     더팩트     자이·힐스테이트·래미안…아파트 브랜드, 집값 얼마나 좌우할까   \n",
              "1127  2020-01-23   헤럴드경제              12·16 규제 역풍맞은 이낙연 강남 아파트   \n",
              "1128  2020-01-28  디지털타임스      지방 큰손, 상경투자 급증세… 9억 이하 아파트 집중 매입   \n",
              "1129  2020-01-29    한국경제                    집값 오르자…미분양 아파트도 웃돈   \n",
              "1130  2020-03-26    연합뉴스  [재산공개] 이정옥 장관 18억1천만원…김희경 차관 30억9천만원   \n",
              "\n",
              "                                                content  \\\n",
              "0     강남 급매물 거래, 강북 풍선효과로 1월 대비 25% 늘어15억 초과 거래비중도 증...   \n",
              "1     (서울=뉴스1) 이승배 기자 = 강력한 대출 규제를 낀 정부의 12·16 부동산대책...   \n",
              "2     하나금융경영연구소 보고서최저임금도 GDP보다 상승폭이 더 커40년간 1인당 GDP와...   \n",
              "3     지난해 6월 첫주 이후 처음… 코로나19 사태·규제 강화로 시장의 불안감 커졌기 때...   \n",
              "4     지난달 서울 아파트 매매 계약 건수 8074건전월 대비 24.7%, 전년 동월 대비...   \n",
              "...                                                 ...   \n",
              "1126  브랜드 아파트에 대한 수요층의 관심이 갈수록 두드지러지고 있다. /더팩트 DB브랜드...   \n",
              "1127  이달 초에 전세 계약 체결최초 매물 등록은 지난달 11일최근 호가 낮췄지만 거래 끊...   \n",
              "1128  작년 3687건 달해… 26% 차지중랑·구로 등 외곽지역서 활발서울의 한 부동산중개...   \n",
              "1129  2~3년 전엔 눈물의 분양이젠 수천만원 프리미엄경기 용인 남사면에 들어선 'e편한세...   \n",
              "1130  정부측 인사하는 이정옥 여가부 장관(서울=연합뉴스) 진성철 기자 = 이정옥 여성가족...   \n",
              "\n",
              "                                                   link  \n",
              "0     https://n.news.naver.com/mnews/article/001/001...  \n",
              "1     https://n.news.naver.com/mnews/article/421/000...  \n",
              "2     https://n.news.naver.com/mnews/article/023/000...  \n",
              "3     https://n.news.naver.com/mnews/article/005/000...  \n",
              "4     https://n.news.naver.com/mnews/article/277/000...  \n",
              "...                                                 ...  \n",
              "1126  https://n.news.naver.com/mnews/article/629/000...  \n",
              "1127  https://n.news.naver.com/mnews/article/016/000...  \n",
              "1128  https://n.news.naver.com/mnews/article/029/000...  \n",
              "1129  https://n.news.naver.com/mnews/article/015/000...  \n",
              "1130  https://n.news.naver.com/mnews/article/001/001...  \n",
              "\n",
              "[1131 rows x 5 columns]"
            ],
            "text/html": [
              "\n",
              "  <div id=\"df-9fd75e05-7cf1-4cf2-aafc-673c11e1c553\">\n",
              "    <div class=\"colab-df-container\">\n",
              "      <div>\n",
              "<style scoped>\n",
              "    .dataframe tbody tr th:only-of-type {\n",
              "        vertical-align: middle;\n",
              "    }\n",
              "\n",
              "    .dataframe tbody tr th {\n",
              "        vertical-align: top;\n",
              "    }\n",
              "\n",
              "    .dataframe thead th {\n",
              "        text-align: right;\n",
              "    }\n",
              "</style>\n",
              "<table border=\"1\" class=\"dataframe\">\n",
              "  <thead>\n",
              "    <tr style=\"text-align: right;\">\n",
              "      <th></th>\n",
              "      <th>date</th>\n",
              "      <th>name</th>\n",
              "      <th>title</th>\n",
              "      <th>content</th>\n",
              "      <th>link</th>\n",
              "    </tr>\n",
              "  </thead>\n",
              "  <tbody>\n",
              "    <tr>\n",
              "      <th>0</th>\n",
              "      <td>2020-03-31</td>\n",
              "      <td>연합뉴스</td>\n",
              "      <td>대출 중단 등 악재에도 2월 서울 아파트 거래량 '깜짝' 증가</td>\n",
              "      <td>강남 급매물 거래, 강북 풍선효과로 1월 대비 25% 늘어15억 초과 거래비중도 증...</td>\n",
              "      <td>https://n.news.naver.com/mnews/article/001/001...</td>\n",
              "    </tr>\n",
              "    <tr>\n",
              "      <th>1</th>\n",
              "      <td>2020-03-31</td>\n",
              "      <td>뉴스1</td>\n",
              "      <td>강남3구 아파트 값 하락세</td>\n",
              "      <td>(서울=뉴스1) 이승배 기자 = 강력한 대출 규제를 낀 정부의 12·16 부동산대책...</td>\n",
              "      <td>https://n.news.naver.com/mnews/article/421/000...</td>\n",
              "    </tr>\n",
              "    <tr>\n",
              "      <th>2</th>\n",
              "      <td>2020-03-29</td>\n",
              "      <td>조선일보</td>\n",
              "      <td>쌀값 3배 오른 동안 84배 상승한 강남 아파트</td>\n",
              "      <td>하나금융경영연구소 보고서최저임금도 GDP보다 상승폭이 더 커40년간 1인당 GDP와...</td>\n",
              "      <td>https://n.news.naver.com/mnews/article/023/000...</td>\n",
              "    </tr>\n",
              "    <tr>\n",
              "      <th>3</th>\n",
              "      <td>2020-03-31</td>\n",
              "      <td>국민일보</td>\n",
              "      <td>수억 값싼 급매물 출현… 서울 아파트 매매가격 하락세 돌입</td>\n",
              "      <td>지난해 6월 첫주 이후 처음… 코로나19 사태·규제 강화로 시장의 불안감 커졌기 때...</td>\n",
              "      <td>https://n.news.naver.com/mnews/article/005/000...</td>\n",
              "    </tr>\n",
              "    <tr>\n",
              "      <th>4</th>\n",
              "      <td>2020-03-31</td>\n",
              "      <td>아시아경제</td>\n",
              "      <td>코로나에도 늘어난 서울 아파트 거래</td>\n",
              "      <td>지난달 서울 아파트 매매 계약 건수 8074건전월 대비 24.7%, 전년 동월 대비...</td>\n",
              "      <td>https://n.news.naver.com/mnews/article/277/000...</td>\n",
              "    </tr>\n",
              "    <tr>\n",
              "      <th>...</th>\n",
              "      <td>...</td>\n",
              "      <td>...</td>\n",
              "      <td>...</td>\n",
              "      <td>...</td>\n",
              "      <td>...</td>\n",
              "    </tr>\n",
              "    <tr>\n",
              "      <th>1126</th>\n",
              "      <td>2020-01-29</td>\n",
              "      <td>더팩트</td>\n",
              "      <td>자이·힐스테이트·래미안…아파트 브랜드, 집값 얼마나 좌우할까</td>\n",
              "      <td>브랜드 아파트에 대한 수요층의 관심이 갈수록 두드지러지고 있다. /더팩트 DB브랜드...</td>\n",
              "      <td>https://n.news.naver.com/mnews/article/629/000...</td>\n",
              "    </tr>\n",
              "    <tr>\n",
              "      <th>1127</th>\n",
              "      <td>2020-01-23</td>\n",
              "      <td>헤럴드경제</td>\n",
              "      <td>12·16 규제 역풍맞은 이낙연 강남 아파트</td>\n",
              "      <td>이달 초에 전세 계약 체결최초 매물 등록은 지난달 11일최근 호가 낮췄지만 거래 끊...</td>\n",
              "      <td>https://n.news.naver.com/mnews/article/016/000...</td>\n",
              "    </tr>\n",
              "    <tr>\n",
              "      <th>1128</th>\n",
              "      <td>2020-01-28</td>\n",
              "      <td>디지털타임스</td>\n",
              "      <td>지방 큰손, 상경투자 급증세… 9억 이하 아파트 집중 매입</td>\n",
              "      <td>작년 3687건 달해… 26% 차지중랑·구로 등 외곽지역서 활발서울의 한 부동산중개...</td>\n",
              "      <td>https://n.news.naver.com/mnews/article/029/000...</td>\n",
              "    </tr>\n",
              "    <tr>\n",
              "      <th>1129</th>\n",
              "      <td>2020-01-29</td>\n",
              "      <td>한국경제</td>\n",
              "      <td>집값 오르자…미분양 아파트도 웃돈</td>\n",
              "      <td>2~3년 전엔 눈물의 분양이젠 수천만원 프리미엄경기 용인 남사면에 들어선 'e편한세...</td>\n",
              "      <td>https://n.news.naver.com/mnews/article/015/000...</td>\n",
              "    </tr>\n",
              "    <tr>\n",
              "      <th>1130</th>\n",
              "      <td>2020-03-26</td>\n",
              "      <td>연합뉴스</td>\n",
              "      <td>[재산공개] 이정옥 장관 18억1천만원…김희경 차관 30억9천만원</td>\n",
              "      <td>정부측 인사하는 이정옥 여가부 장관(서울=연합뉴스) 진성철 기자 = 이정옥 여성가족...</td>\n",
              "      <td>https://n.news.naver.com/mnews/article/001/001...</td>\n",
              "    </tr>\n",
              "  </tbody>\n",
              "</table>\n",
              "<p>1131 rows × 5 columns</p>\n",
              "</div>\n",
              "      <button class=\"colab-df-convert\" onclick=\"convertToInteractive('df-9fd75e05-7cf1-4cf2-aafc-673c11e1c553')\"\n",
              "              title=\"Convert this dataframe to an interactive table.\"\n",
              "              style=\"display:none;\">\n",
              "        \n",
              "  <svg xmlns=\"http://www.w3.org/2000/svg\" height=\"24px\"viewBox=\"0 0 24 24\"\n",
              "       width=\"24px\">\n",
              "    <path d=\"M0 0h24v24H0V0z\" fill=\"none\"/>\n",
              "    <path d=\"M18.56 5.44l.94 2.06.94-2.06 2.06-.94-2.06-.94-.94-2.06-.94 2.06-2.06.94zm-11 1L8.5 8.5l.94-2.06 2.06-.94-2.06-.94L8.5 2.5l-.94 2.06-2.06.94zm10 10l.94 2.06.94-2.06 2.06-.94-2.06-.94-.94-2.06-.94 2.06-2.06.94z\"/><path d=\"M17.41 7.96l-1.37-1.37c-.4-.4-.92-.59-1.43-.59-.52 0-1.04.2-1.43.59L10.3 9.45l-7.72 7.72c-.78.78-.78 2.05 0 2.83L4 21.41c.39.39.9.59 1.41.59.51 0 1.02-.2 1.41-.59l7.78-7.78 2.81-2.81c.8-.78.8-2.07 0-2.86zM5.41 20L4 18.59l7.72-7.72 1.47 1.35L5.41 20z\"/>\n",
              "  </svg>\n",
              "      </button>\n",
              "      \n",
              "  <style>\n",
              "    .colab-df-container {\n",
              "      display:flex;\n",
              "      flex-wrap:wrap;\n",
              "      gap: 12px;\n",
              "    }\n",
              "\n",
              "    .colab-df-convert {\n",
              "      background-color: #E8F0FE;\n",
              "      border: none;\n",
              "      border-radius: 50%;\n",
              "      cursor: pointer;\n",
              "      display: none;\n",
              "      fill: #1967D2;\n",
              "      height: 32px;\n",
              "      padding: 0 0 0 0;\n",
              "      width: 32px;\n",
              "    }\n",
              "\n",
              "    .colab-df-convert:hover {\n",
              "      background-color: #E2EBFA;\n",
              "      box-shadow: 0px 1px 2px rgba(60, 64, 67, 0.3), 0px 1px 3px 1px rgba(60, 64, 67, 0.15);\n",
              "      fill: #174EA6;\n",
              "    }\n",
              "\n",
              "    [theme=dark] .colab-df-convert {\n",
              "      background-color: #3B4455;\n",
              "      fill: #D2E3FC;\n",
              "    }\n",
              "\n",
              "    [theme=dark] .colab-df-convert:hover {\n",
              "      background-color: #434B5C;\n",
              "      box-shadow: 0px 1px 3px 1px rgba(0, 0, 0, 0.15);\n",
              "      filter: drop-shadow(0px 1px 2px rgba(0, 0, 0, 0.3));\n",
              "      fill: #FFFFFF;\n",
              "    }\n",
              "  </style>\n",
              "\n",
              "      <script>\n",
              "        const buttonEl =\n",
              "          document.querySelector('#df-9fd75e05-7cf1-4cf2-aafc-673c11e1c553 button.colab-df-convert');\n",
              "        buttonEl.style.display =\n",
              "          google.colab.kernel.accessAllowed ? 'block' : 'none';\n",
              "\n",
              "        async function convertToInteractive(key) {\n",
              "          const element = document.querySelector('#df-9fd75e05-7cf1-4cf2-aafc-673c11e1c553');\n",
              "          const dataTable =\n",
              "            await google.colab.kernel.invokeFunction('convertToInteractive',\n",
              "                                                     [key], {});\n",
              "          if (!dataTable) return;\n",
              "\n",
              "          const docLinkHtml = 'Like what you see? Visit the ' +\n",
              "            '<a target=\"_blank\" href=https://colab.research.google.com/notebooks/data_table.ipynb>data table notebook</a>'\n",
              "            + ' to learn more about interactive tables.';\n",
              "          element.innerHTML = '';\n",
              "          dataTable['output_type'] = 'display_data';\n",
              "          await google.colab.output.renderOutput(dataTable, element);\n",
              "          const docLink = document.createElement('div');\n",
              "          docLink.innerHTML = docLinkHtml;\n",
              "          element.appendChild(docLink);\n",
              "        }\n",
              "      </script>\n",
              "    </div>\n",
              "  </div>\n",
              "  "
            ]
          },
          "metadata": {},
          "execution_count": 5
        }
      ]
    },
    {
      "cell_type": "code",
      "source": [
        "import re\n",
        "\n",
        "string = \"\\n\\t\\t\\t'정산회담' 김나희,\"\n",
        "\n",
        "pattern = r'[\\n\\t<>]'\n",
        "string = re.sub(pattern, '', string)[1:-1]"
      ],
      "metadata": {
        "id": "D9GqV9NoSeVW"
      },
      "execution_count": null,
      "outputs": []
    },
    {
      "cell_type": "code",
      "source": [
        "pattern = r'[\\n\\t<>\\\\]|&lt;|&gt;'\n",
        "news_df.loc[10, 'content'] = re.sub(pattern, '', news_df.loc[10, 'content'])[1:-1]"
      ],
      "metadata": {
        "id": "pMCGhuaijM9V"
      },
      "execution_count": null,
      "outputs": []
    },
    {
      "cell_type": "code",
      "source": [
        "news_df.loc[10, 'content']"
      ],
      "metadata": {
        "colab": {
          "base_uri": "https://localhost:8080/",
          "height": 458
        },
        "id": "DC3u5Mo-jg3z",
        "outputId": "1717287a-7eb6-4ffa-8ac1-075ff2adf400"
      },
      "execution_count": null,
      "outputs": [
        {
          "output_type": "execute_result",
          "data": {
            "text/plain": [
              "'지역별 매수우위지수 주간추이 / 사진=KB부동산 리브온오는 6월말까지 한시적 양도세 중과세 배제정책으로 몇몇 다주택자 물건이 초급매로 나오는 모양새지만, 서울 아파트 매수문의가 3월 셋째주 기준점인 100보다 낮은 91.8을 기록한 후 넷째주에는 더 하락해 81.1을 기록했습니다. 특히 강남 지역은 73.1로 매수 문의가 대폭 줄었습니다.전국 기준 매수문의지수도 지난주 74.3에서 이번주 66.9를 기록해 시장이 정부의 부동산 정책과 코로나19 장기화 영향을 받아 경색되고 있다는 진단이 나옵니다.오늘(30일) KB주택시장동향자료에 따르면, 3월 넷째주 전국 매수우위지수는 66.9를 기록해 전주(74.3)대비 크게 하락했습니다.코로나 사태로 인해 시장에서 매수에 대한 문의도 위축된 것으로 보입니다. 이 지수는 100을 초과하면 \\'매수자가 많다\\'를, 100 미만일 경우 \\'매도자가 많다\\'를 의미합니다. 서울도 81.1로 전주(91.8)대비 크게 하락했습니다. 강남지역은 지난주 82.8에서 73.1로 하락했고, 강북지역도 지난주(102.0)대비 하락한 90.2를 기록하며 매수문의가 대폭 줄어들었습니다.아파트 매매가격 지구는 인천(0.28%)과 경기(0.20%), 서울(0.06%)은 상승폭이 지난주보다 줄었고, 인천을 제외한 5개 광역시(0.07%)는 대전(0.29%)만 다소 높은 편입니다. 울산(0.06%), 부산(0.05%), 대구(0.03%)는 소폭 상승했고 광주(0.00%)는 보합을 보였습니다.수도권(0.16%)은 전주대비 상승했고, 광역시 이외의 기타 지방(-0.01%)은 하락했습니다. 세종(0.16%)만 상승했으며 경북(-0.04%), 경남(-0.02%), 충북(-0.02%), 강원(-0.01%), 전북(-0.01%)은 소폭 하락한 반면 충남과 전남은 보합(0.00%)을 기록했습니다.서울 아파트 매매가격은 전주 대비 0.06%로 지난주의 상승 0.12%보다 상승세가 크게 둔화되면서 보합권에 진입했습니다. 특히 강남구(-0.14%), 서초구(-0.04%), 송파구(-0.03%) 강남3구 모두 하락했고, 다수의 지역이 보합권에 가까운 정체를 보였습니다. 다만 광진구(0.22%), 양천구(0.22%), 금천구(0.20%) 등 일부지역만 소폭 상승했습니다.KB부동산 리브온 관계자는 \"강남구는 9억 원 이상 자금계획서제출 등의 규제로 투자수요가 감소하면서 관망세를 이어 오다가 2월 코로나19 확산으로 문의전화가 급감하면서 거래 성사 자체가 안되는 시장이 장기화되고 있다\"며 \"조정대상지역 다주택자 6월말까지 한시적으로 양도세 중과세 배제 정책으로 이번 기회에 처분하려는 다주택자 매물이 초급매로 1~2건씩 나오고 있지만 매수자들은 추가 하락 기대감에 선뜻 거래에 나서지 않고 있다\"고 진단했습니다.경기는 전주대비 0.20%의 변동률을 기록하면서 지난 주 상승률 0.24%보다 상승폭이 줄었습니다. 주간 상승률이 상대적으로 높은 지역은 군포(0.58%), 의왕(0.53%), 성남 수정구(0.50%), 부천(0.47%) 등입니다.의왕은 청계2지구, 내손다·라구역 재개발 호재로 투자자 문의와 거래가 꾸준한 편이며 경기도 미래형 시범학교 설립 예정지로 내손동이 선정되면서 가격 상승세를 이어가고 있습니다.인천 부평구는 학군, 교통, 주거환경이 잘 갖춰져 수요가 꾸준한 삼산동 일대 단지들과 7호선 연장·GTX-B노선 수혜 지역인 청천동, 산곡동 일대 단지들 매매가가 강세를 보이고 있습니다. 백운2구역 재개발 단지인 힐스테이트부평 고분양가 영향으로 주변 단지들 매매가도 상승 움직임을 보이고 있습니다.전국 아파트 전세가격은 전주대비 0.04% 상승했습니다. 수도권(0.05%)과 5개 광역시(0.07%)는 전주대비 올랐고, 기타 지방(0.00%)은 전주대비 보합을 기록했습니다.서울은 전주대비 0.02%를 기록했고, 경기(0.04%)는 전주대비 상승했습니다. 5개 광역시는 대전(0.33%)만 높게 상승했고, 울산(0.06%), 부산(0.02%), 대구(0.02%)는 미미한 상승을, 광주(0.00%)는 보합을 나타냈습니다.[MBN 온라인뉴스팀]▶네이버 메인에서 MBN뉴스를 만나보세요!▶MBN 무료 고화질 온에어 서비스 GO! Copyright ⓒ MBN(www.mbn.co.kr) 무단전재 및 재배포 금지 '"
            ],
            "application/vnd.google.colaboratory.intrinsic+json": {
              "type": "string"
            }
          },
          "metadata": {},
          "execution_count": 31
        }
      ]
    },
    {
      "cell_type": "code",
      "source": [
        "news_df.info()"
      ],
      "metadata": {
        "colab": {
          "base_uri": "https://localhost:8080/"
        },
        "id": "_csmxTUG9BMf",
        "outputId": "6762b827-43ab-49b1-fb28-6b4fff563c3f"
      },
      "execution_count": null,
      "outputs": [
        {
          "output_type": "stream",
          "name": "stdout",
          "text": [
            "<class 'pandas.core.frame.DataFrame'>\n",
            "RangeIndex: 1388 entries, 0 to 1387\n",
            "Data columns (total 5 columns):\n",
            " #   Column   Non-Null Count  Dtype \n",
            "---  ------   --------------  ----- \n",
            " 0   date     1388 non-null   object\n",
            " 1   name     1388 non-null   object\n",
            " 2   title    1388 non-null   object\n",
            " 3   content  1388 non-null   object\n",
            " 4   link     1388 non-null   object\n",
            "dtypes: object(5)\n",
            "memory usage: 54.3+ KB\n"
          ]
        }
      ]
    },
    {
      "cell_type": "code",
      "source": [
        "news_df.head()"
      ],
      "metadata": {
        "colab": {
          "base_uri": "https://localhost:8080/",
          "height": 364
        },
        "id": "I_WeWYp8_j38",
        "outputId": "b8577f25-58f1-468a-be8c-e2ede0d77ab2"
      },
      "execution_count": null,
      "outputs": [
        {
          "output_type": "execute_result",
          "data": {
            "text/plain": [
              "         date   name                               title  \\\n",
              "0  2020-03-31   연합뉴스  대출 중단 등 악재에도 2월 서울 아파트 거래량 '깜짝' 증가   \n",
              "1  2020-03-31    뉴스1                      강남3구 아파트 값 하락세   \n",
              "2  2020-03-29   조선일보          쌀값 3배 오른 동안 84배 상승한 강남 아파트   \n",
              "3  2020-03-31   국민일보    수억 값싼 급매물 출현… 서울 아파트 매매가격 하락세 돌입   \n",
              "4  2020-03-31  아시아경제                 코로나에도 늘어난 서울 아파트 거래   \n",
              "\n",
              "                                             content  \\\n",
              "0  [\\n\\t\\t\\t강남 급매물 거래, 강북 풍선효과로 1월 대비 25% 늘어15억 초...   \n",
              "1  [\\n\\n\\n\\n\\n(서울=뉴스1) 이승배 기자 = 강력한 대출 규제를 낀 정부의 ...   \n",
              "2  [\\n하나금융경영연구소 보고서최저임금도 GDP보다 상승폭이 더 커\\n\\n\\n\\n40...   \n",
              "3  [\\n지난해 6월 첫주 이후 처음… 코로나19 사태·규제 강화로 시장의 불안감 커졌...   \n",
              "4  [\\n지난달 서울 아파트 매매 계약 건수 8074건전월 대비 24.7%, 전년 동월...   \n",
              "\n",
              "                                                link  \n",
              "0  https://n.news.naver.com/mnews/article/001/001...  \n",
              "1  https://n.news.naver.com/mnews/article/421/000...  \n",
              "2  https://n.news.naver.com/mnews/article/023/000...  \n",
              "3  https://n.news.naver.com/mnews/article/005/000...  \n",
              "4  https://n.news.naver.com/mnews/article/277/000...  "
            ],
            "text/html": [
              "\n",
              "  <div id=\"df-22aabcd7-1e0f-4cfe-86b5-21d52d89dc2c\">\n",
              "    <div class=\"colab-df-container\">\n",
              "      <div>\n",
              "<style scoped>\n",
              "    .dataframe tbody tr th:only-of-type {\n",
              "        vertical-align: middle;\n",
              "    }\n",
              "\n",
              "    .dataframe tbody tr th {\n",
              "        vertical-align: top;\n",
              "    }\n",
              "\n",
              "    .dataframe thead th {\n",
              "        text-align: right;\n",
              "    }\n",
              "</style>\n",
              "<table border=\"1\" class=\"dataframe\">\n",
              "  <thead>\n",
              "    <tr style=\"text-align: right;\">\n",
              "      <th></th>\n",
              "      <th>date</th>\n",
              "      <th>name</th>\n",
              "      <th>title</th>\n",
              "      <th>content</th>\n",
              "      <th>link</th>\n",
              "    </tr>\n",
              "  </thead>\n",
              "  <tbody>\n",
              "    <tr>\n",
              "      <th>0</th>\n",
              "      <td>2020-03-31</td>\n",
              "      <td>연합뉴스</td>\n",
              "      <td>대출 중단 등 악재에도 2월 서울 아파트 거래량 '깜짝' 증가</td>\n",
              "      <td>[\\n\\t\\t\\t강남 급매물 거래, 강북 풍선효과로 1월 대비 25% 늘어15억 초...</td>\n",
              "      <td>https://n.news.naver.com/mnews/article/001/001...</td>\n",
              "    </tr>\n",
              "    <tr>\n",
              "      <th>1</th>\n",
              "      <td>2020-03-31</td>\n",
              "      <td>뉴스1</td>\n",
              "      <td>강남3구 아파트 값 하락세</td>\n",
              "      <td>[\\n\\n\\n\\n\\n(서울=뉴스1) 이승배 기자 = 강력한 대출 규제를 낀 정부의 ...</td>\n",
              "      <td>https://n.news.naver.com/mnews/article/421/000...</td>\n",
              "    </tr>\n",
              "    <tr>\n",
              "      <th>2</th>\n",
              "      <td>2020-03-29</td>\n",
              "      <td>조선일보</td>\n",
              "      <td>쌀값 3배 오른 동안 84배 상승한 강남 아파트</td>\n",
              "      <td>[\\n하나금융경영연구소 보고서최저임금도 GDP보다 상승폭이 더 커\\n\\n\\n\\n40...</td>\n",
              "      <td>https://n.news.naver.com/mnews/article/023/000...</td>\n",
              "    </tr>\n",
              "    <tr>\n",
              "      <th>3</th>\n",
              "      <td>2020-03-31</td>\n",
              "      <td>국민일보</td>\n",
              "      <td>수억 값싼 급매물 출현… 서울 아파트 매매가격 하락세 돌입</td>\n",
              "      <td>[\\n지난해 6월 첫주 이후 처음… 코로나19 사태·규제 강화로 시장의 불안감 커졌...</td>\n",
              "      <td>https://n.news.naver.com/mnews/article/005/000...</td>\n",
              "    </tr>\n",
              "    <tr>\n",
              "      <th>4</th>\n",
              "      <td>2020-03-31</td>\n",
              "      <td>아시아경제</td>\n",
              "      <td>코로나에도 늘어난 서울 아파트 거래</td>\n",
              "      <td>[\\n지난달 서울 아파트 매매 계약 건수 8074건전월 대비 24.7%, 전년 동월...</td>\n",
              "      <td>https://n.news.naver.com/mnews/article/277/000...</td>\n",
              "    </tr>\n",
              "  </tbody>\n",
              "</table>\n",
              "</div>\n",
              "      <button class=\"colab-df-convert\" onclick=\"convertToInteractive('df-22aabcd7-1e0f-4cfe-86b5-21d52d89dc2c')\"\n",
              "              title=\"Convert this dataframe to an interactive table.\"\n",
              "              style=\"display:none;\">\n",
              "        \n",
              "  <svg xmlns=\"http://www.w3.org/2000/svg\" height=\"24px\"viewBox=\"0 0 24 24\"\n",
              "       width=\"24px\">\n",
              "    <path d=\"M0 0h24v24H0V0z\" fill=\"none\"/>\n",
              "    <path d=\"M18.56 5.44l.94 2.06.94-2.06 2.06-.94-2.06-.94-.94-2.06-.94 2.06-2.06.94zm-11 1L8.5 8.5l.94-2.06 2.06-.94-2.06-.94L8.5 2.5l-.94 2.06-2.06.94zm10 10l.94 2.06.94-2.06 2.06-.94-2.06-.94-.94-2.06-.94 2.06-2.06.94z\"/><path d=\"M17.41 7.96l-1.37-1.37c-.4-.4-.92-.59-1.43-.59-.52 0-1.04.2-1.43.59L10.3 9.45l-7.72 7.72c-.78.78-.78 2.05 0 2.83L4 21.41c.39.39.9.59 1.41.59.51 0 1.02-.2 1.41-.59l7.78-7.78 2.81-2.81c.8-.78.8-2.07 0-2.86zM5.41 20L4 18.59l7.72-7.72 1.47 1.35L5.41 20z\"/>\n",
              "  </svg>\n",
              "      </button>\n",
              "      \n",
              "  <style>\n",
              "    .colab-df-container {\n",
              "      display:flex;\n",
              "      flex-wrap:wrap;\n",
              "      gap: 12px;\n",
              "    }\n",
              "\n",
              "    .colab-df-convert {\n",
              "      background-color: #E8F0FE;\n",
              "      border: none;\n",
              "      border-radius: 50%;\n",
              "      cursor: pointer;\n",
              "      display: none;\n",
              "      fill: #1967D2;\n",
              "      height: 32px;\n",
              "      padding: 0 0 0 0;\n",
              "      width: 32px;\n",
              "    }\n",
              "\n",
              "    .colab-df-convert:hover {\n",
              "      background-color: #E2EBFA;\n",
              "      box-shadow: 0px 1px 2px rgba(60, 64, 67, 0.3), 0px 1px 3px 1px rgba(60, 64, 67, 0.15);\n",
              "      fill: #174EA6;\n",
              "    }\n",
              "\n",
              "    [theme=dark] .colab-df-convert {\n",
              "      background-color: #3B4455;\n",
              "      fill: #D2E3FC;\n",
              "    }\n",
              "\n",
              "    [theme=dark] .colab-df-convert:hover {\n",
              "      background-color: #434B5C;\n",
              "      box-shadow: 0px 1px 3px 1px rgba(0, 0, 0, 0.15);\n",
              "      filter: drop-shadow(0px 1px 2px rgba(0, 0, 0, 0.3));\n",
              "      fill: #FFFFFF;\n",
              "    }\n",
              "  </style>\n",
              "\n",
              "      <script>\n",
              "        const buttonEl =\n",
              "          document.querySelector('#df-22aabcd7-1e0f-4cfe-86b5-21d52d89dc2c button.colab-df-convert');\n",
              "        buttonEl.style.display =\n",
              "          google.colab.kernel.accessAllowed ? 'block' : 'none';\n",
              "\n",
              "        async function convertToInteractive(key) {\n",
              "          const element = document.querySelector('#df-22aabcd7-1e0f-4cfe-86b5-21d52d89dc2c');\n",
              "          const dataTable =\n",
              "            await google.colab.kernel.invokeFunction('convertToInteractive',\n",
              "                                                     [key], {});\n",
              "          if (!dataTable) return;\n",
              "\n",
              "          const docLinkHtml = 'Like what you see? Visit the ' +\n",
              "            '<a target=\"_blank\" href=https://colab.research.google.com/notebooks/data_table.ipynb>data table notebook</a>'\n",
              "            + ' to learn more about interactive tables.';\n",
              "          element.innerHTML = '';\n",
              "          dataTable['output_type'] = 'display_data';\n",
              "          await google.colab.output.renderOutput(dataTable, element);\n",
              "          const docLink = document.createElement('div');\n",
              "          docLink.innerHTML = docLinkHtml;\n",
              "          element.appendChild(docLink);\n",
              "        }\n",
              "      </script>\n",
              "    </div>\n",
              "  </div>\n",
              "  "
            ]
          },
          "metadata": {},
          "execution_count": 7
        }
      ]
    },
    {
      "cell_type": "code",
      "source": [
        "news_df[news_df.duplicated(keep = False)].sort_values(by = 'title')"
      ],
      "metadata": {
        "colab": {
          "base_uri": "https://localhost:8080/",
          "height": 52
        },
        "id": "TdciohNmnwzQ",
        "outputId": "ed4632f3-1d2f-4858-b2bd-5e3eea5c2ea1"
      },
      "execution_count": null,
      "outputs": [
        {
          "output_type": "execute_result",
          "data": {
            "text/plain": [
              "Empty DataFrame\n",
              "Columns: [date, name, title, content, link]\n",
              "Index: []"
            ],
            "text/html": [
              "\n",
              "  <div id=\"df-285792b3-b5c5-4a1f-af56-305d466eb73c\">\n",
              "    <div class=\"colab-df-container\">\n",
              "      <div>\n",
              "<style scoped>\n",
              "    .dataframe tbody tr th:only-of-type {\n",
              "        vertical-align: middle;\n",
              "    }\n",
              "\n",
              "    .dataframe tbody tr th {\n",
              "        vertical-align: top;\n",
              "    }\n",
              "\n",
              "    .dataframe thead th {\n",
              "        text-align: right;\n",
              "    }\n",
              "</style>\n",
              "<table border=\"1\" class=\"dataframe\">\n",
              "  <thead>\n",
              "    <tr style=\"text-align: right;\">\n",
              "      <th></th>\n",
              "      <th>date</th>\n",
              "      <th>name</th>\n",
              "      <th>title</th>\n",
              "      <th>content</th>\n",
              "      <th>link</th>\n",
              "    </tr>\n",
              "  </thead>\n",
              "  <tbody>\n",
              "  </tbody>\n",
              "</table>\n",
              "</div>\n",
              "      <button class=\"colab-df-convert\" onclick=\"convertToInteractive('df-285792b3-b5c5-4a1f-af56-305d466eb73c')\"\n",
              "              title=\"Convert this dataframe to an interactive table.\"\n",
              "              style=\"display:none;\">\n",
              "        \n",
              "  <svg xmlns=\"http://www.w3.org/2000/svg\" height=\"24px\"viewBox=\"0 0 24 24\"\n",
              "       width=\"24px\">\n",
              "    <path d=\"M0 0h24v24H0V0z\" fill=\"none\"/>\n",
              "    <path d=\"M18.56 5.44l.94 2.06.94-2.06 2.06-.94-2.06-.94-.94-2.06-.94 2.06-2.06.94zm-11 1L8.5 8.5l.94-2.06 2.06-.94-2.06-.94L8.5 2.5l-.94 2.06-2.06.94zm10 10l.94 2.06.94-2.06 2.06-.94-2.06-.94-.94-2.06-.94 2.06-2.06.94z\"/><path d=\"M17.41 7.96l-1.37-1.37c-.4-.4-.92-.59-1.43-.59-.52 0-1.04.2-1.43.59L10.3 9.45l-7.72 7.72c-.78.78-.78 2.05 0 2.83L4 21.41c.39.39.9.59 1.41.59.51 0 1.02-.2 1.41-.59l7.78-7.78 2.81-2.81c.8-.78.8-2.07 0-2.86zM5.41 20L4 18.59l7.72-7.72 1.47 1.35L5.41 20z\"/>\n",
              "  </svg>\n",
              "      </button>\n",
              "      \n",
              "  <style>\n",
              "    .colab-df-container {\n",
              "      display:flex;\n",
              "      flex-wrap:wrap;\n",
              "      gap: 12px;\n",
              "    }\n",
              "\n",
              "    .colab-df-convert {\n",
              "      background-color: #E8F0FE;\n",
              "      border: none;\n",
              "      border-radius: 50%;\n",
              "      cursor: pointer;\n",
              "      display: none;\n",
              "      fill: #1967D2;\n",
              "      height: 32px;\n",
              "      padding: 0 0 0 0;\n",
              "      width: 32px;\n",
              "    }\n",
              "\n",
              "    .colab-df-convert:hover {\n",
              "      background-color: #E2EBFA;\n",
              "      box-shadow: 0px 1px 2px rgba(60, 64, 67, 0.3), 0px 1px 3px 1px rgba(60, 64, 67, 0.15);\n",
              "      fill: #174EA6;\n",
              "    }\n",
              "\n",
              "    [theme=dark] .colab-df-convert {\n",
              "      background-color: #3B4455;\n",
              "      fill: #D2E3FC;\n",
              "    }\n",
              "\n",
              "    [theme=dark] .colab-df-convert:hover {\n",
              "      background-color: #434B5C;\n",
              "      box-shadow: 0px 1px 3px 1px rgba(0, 0, 0, 0.15);\n",
              "      filter: drop-shadow(0px 1px 2px rgba(0, 0, 0, 0.3));\n",
              "      fill: #FFFFFF;\n",
              "    }\n",
              "  </style>\n",
              "\n",
              "      <script>\n",
              "        const buttonEl =\n",
              "          document.querySelector('#df-285792b3-b5c5-4a1f-af56-305d466eb73c button.colab-df-convert');\n",
              "        buttonEl.style.display =\n",
              "          google.colab.kernel.accessAllowed ? 'block' : 'none';\n",
              "\n",
              "        async function convertToInteractive(key) {\n",
              "          const element = document.querySelector('#df-285792b3-b5c5-4a1f-af56-305d466eb73c');\n",
              "          const dataTable =\n",
              "            await google.colab.kernel.invokeFunction('convertToInteractive',\n",
              "                                                     [key], {});\n",
              "          if (!dataTable) return;\n",
              "\n",
              "          const docLinkHtml = 'Like what you see? Visit the ' +\n",
              "            '<a target=\"_blank\" href=https://colab.research.google.com/notebooks/data_table.ipynb>data table notebook</a>'\n",
              "            + ' to learn more about interactive tables.';\n",
              "          element.innerHTML = '';\n",
              "          dataTable['output_type'] = 'display_data';\n",
              "          await google.colab.output.renderOutput(dataTable, element);\n",
              "          const docLink = document.createElement('div');\n",
              "          docLink.innerHTML = docLinkHtml;\n",
              "          element.appendChild(docLink);\n",
              "        }\n",
              "      </script>\n",
              "    </div>\n",
              "  </div>\n",
              "  "
            ]
          },
          "metadata": {},
          "execution_count": 51
        }
      ]
    },
    {
      "cell_type": "code",
      "source": [
        "news_df[news_df.duplicated(keep = False)]['title'].value_counts()"
      ],
      "metadata": {
        "colab": {
          "base_uri": "https://localhost:8080/"
        },
        "id": "JYIzw9NVoiZZ",
        "outputId": "9e829d5f-a851-43dc-e189-b1a9b047c654"
      },
      "execution_count": null,
      "outputs": [
        {
          "output_type": "execute_result",
          "data": {
            "text/plain": [
              "9510가구에 매매 연 5건…1채 팔리자 시세 2억 뛰었다    6\n",
              "서울 아파트 가격 상승세 주춤… 수원 영통·안양 만안 급등    5\n",
              "서울 집값, 조정 문턱…상반기에 살까, 하반기까지 버틸까     4\n",
              "서울 아파트 급매물에도 ‘거래실종’ 심화              4\n",
              "지난달(01월) 아파트 매매 실거래가                4\n",
              "                                   ..\n",
              "서울 아파트 상위 10% 평균 매매가 사상 첫 20억 돌파    2\n",
              "'동학개미'가 부동산으로 발길을 돌린다면 [여기는 논설실]    2\n",
              "서울 아파트 매매 2건 중 1건 꼴로 ‘편법 증여’        2\n",
              "서울 아파트 전세 상승률, 매매 상승세 앞질렀다          2\n",
              "집값 오르자…미분양 아파트도 웃돈                  2\n",
              "Name: title, Length: 207, dtype: int64"
            ]
          },
          "metadata": {},
          "execution_count": 35
        }
      ]
    },
    {
      "cell_type": "code",
      "source": [
        "news_df[news_df['name'] == '']"
      ],
      "metadata": {
        "colab": {
          "base_uri": "https://localhost:8080/",
          "height": 209
        },
        "id": "BkhqfbfMakev",
        "outputId": "01b0a64a-84a1-4dc7-90c9-6f85b1a4dd21"
      },
      "execution_count": null,
      "outputs": [
        {
          "output_type": "execute_result",
          "data": {
            "text/plain": [
              "            date name                                           title  \\\n",
              "1253  2020-05-25       ‘구해줘 홈즈' 이현이X임성빈X노홍철, 매매가 4억 원대 ‘초코우유 하우스’ 승리    \n",
              "\n",
              "                                                content  \\\n",
              "1253   [OSEN=강서정 기자] '구해줘! 홈즈'에서는 덕팀의 ‘초.코.우.유 하우스’가...   \n",
              "\n",
              "                                                   link  \n",
              "1253  https://n.news.naver.com/mnews/article/109/000...  "
            ],
            "text/html": [
              "\n",
              "  <div id=\"df-f9ce67ef-7668-4063-8272-f7183820989d\">\n",
              "    <div class=\"colab-df-container\">\n",
              "      <div>\n",
              "<style scoped>\n",
              "    .dataframe tbody tr th:only-of-type {\n",
              "        vertical-align: middle;\n",
              "    }\n",
              "\n",
              "    .dataframe tbody tr th {\n",
              "        vertical-align: top;\n",
              "    }\n",
              "\n",
              "    .dataframe thead th {\n",
              "        text-align: right;\n",
              "    }\n",
              "</style>\n",
              "<table border=\"1\" class=\"dataframe\">\n",
              "  <thead>\n",
              "    <tr style=\"text-align: right;\">\n",
              "      <th></th>\n",
              "      <th>date</th>\n",
              "      <th>name</th>\n",
              "      <th>title</th>\n",
              "      <th>content</th>\n",
              "      <th>link</th>\n",
              "    </tr>\n",
              "  </thead>\n",
              "  <tbody>\n",
              "    <tr>\n",
              "      <th>1253</th>\n",
              "      <td>2020-05-25</td>\n",
              "      <td></td>\n",
              "      <td>‘구해줘 홈즈' 이현이X임성빈X노홍철, 매매가 4억 원대 ‘초코우유 하우스’ 승리</td>\n",
              "      <td>[OSEN=강서정 기자] '구해줘! 홈즈'에서는 덕팀의 ‘초.코.우.유 하우스’가...</td>\n",
              "      <td>https://n.news.naver.com/mnews/article/109/000...</td>\n",
              "    </tr>\n",
              "  </tbody>\n",
              "</table>\n",
              "</div>\n",
              "      <button class=\"colab-df-convert\" onclick=\"convertToInteractive('df-f9ce67ef-7668-4063-8272-f7183820989d')\"\n",
              "              title=\"Convert this dataframe to an interactive table.\"\n",
              "              style=\"display:none;\">\n",
              "        \n",
              "  <svg xmlns=\"http://www.w3.org/2000/svg\" height=\"24px\"viewBox=\"0 0 24 24\"\n",
              "       width=\"24px\">\n",
              "    <path d=\"M0 0h24v24H0V0z\" fill=\"none\"/>\n",
              "    <path d=\"M18.56 5.44l.94 2.06.94-2.06 2.06-.94-2.06-.94-.94-2.06-.94 2.06-2.06.94zm-11 1L8.5 8.5l.94-2.06 2.06-.94-2.06-.94L8.5 2.5l-.94 2.06-2.06.94zm10 10l.94 2.06.94-2.06 2.06-.94-2.06-.94-.94-2.06-.94 2.06-2.06.94z\"/><path d=\"M17.41 7.96l-1.37-1.37c-.4-.4-.92-.59-1.43-.59-.52 0-1.04.2-1.43.59L10.3 9.45l-7.72 7.72c-.78.78-.78 2.05 0 2.83L4 21.41c.39.39.9.59 1.41.59.51 0 1.02-.2 1.41-.59l7.78-7.78 2.81-2.81c.8-.78.8-2.07 0-2.86zM5.41 20L4 18.59l7.72-7.72 1.47 1.35L5.41 20z\"/>\n",
              "  </svg>\n",
              "      </button>\n",
              "      \n",
              "  <style>\n",
              "    .colab-df-container {\n",
              "      display:flex;\n",
              "      flex-wrap:wrap;\n",
              "      gap: 12px;\n",
              "    }\n",
              "\n",
              "    .colab-df-convert {\n",
              "      background-color: #E8F0FE;\n",
              "      border: none;\n",
              "      border-radius: 50%;\n",
              "      cursor: pointer;\n",
              "      display: none;\n",
              "      fill: #1967D2;\n",
              "      height: 32px;\n",
              "      padding: 0 0 0 0;\n",
              "      width: 32px;\n",
              "    }\n",
              "\n",
              "    .colab-df-convert:hover {\n",
              "      background-color: #E2EBFA;\n",
              "      box-shadow: 0px 1px 2px rgba(60, 64, 67, 0.3), 0px 1px 3px 1px rgba(60, 64, 67, 0.15);\n",
              "      fill: #174EA6;\n",
              "    }\n",
              "\n",
              "    [theme=dark] .colab-df-convert {\n",
              "      background-color: #3B4455;\n",
              "      fill: #D2E3FC;\n",
              "    }\n",
              "\n",
              "    [theme=dark] .colab-df-convert:hover {\n",
              "      background-color: #434B5C;\n",
              "      box-shadow: 0px 1px 3px 1px rgba(0, 0, 0, 0.15);\n",
              "      filter: drop-shadow(0px 1px 2px rgba(0, 0, 0, 0.3));\n",
              "      fill: #FFFFFF;\n",
              "    }\n",
              "  </style>\n",
              "\n",
              "      <script>\n",
              "        const buttonEl =\n",
              "          document.querySelector('#df-f9ce67ef-7668-4063-8272-f7183820989d button.colab-df-convert');\n",
              "        buttonEl.style.display =\n",
              "          google.colab.kernel.accessAllowed ? 'block' : 'none';\n",
              "\n",
              "        async function convertToInteractive(key) {\n",
              "          const element = document.querySelector('#df-f9ce67ef-7668-4063-8272-f7183820989d');\n",
              "          const dataTable =\n",
              "            await google.colab.kernel.invokeFunction('convertToInteractive',\n",
              "                                                     [key], {});\n",
              "          if (!dataTable) return;\n",
              "\n",
              "          const docLinkHtml = 'Like what you see? Visit the ' +\n",
              "            '<a target=\"_blank\" href=https://colab.research.google.com/notebooks/data_table.ipynb>data table notebook</a>'\n",
              "            + ' to learn more about interactive tables.';\n",
              "          element.innerHTML = '';\n",
              "          dataTable['output_type'] = 'display_data';\n",
              "          await google.colab.output.renderOutput(dataTable, element);\n",
              "          const docLink = document.createElement('div');\n",
              "          docLink.innerHTML = docLinkHtml;\n",
              "          element.appendChild(docLink);\n",
              "        }\n",
              "      </script>\n",
              "    </div>\n",
              "  </div>\n",
              "  "
            ]
          },
          "metadata": {},
          "execution_count": 52
        }
      ]
    },
    {
      "cell_type": "code",
      "source": [
        "news_df.loc[304, 'date'][:10].replace('.', '-')"
      ],
      "metadata": {
        "colab": {
          "base_uri": "https://localhost:8080/",
          "height": 40
        },
        "id": "-21IGSi8u2yI",
        "outputId": "655cc111-25de-4709-8a84-fbaf545ca63d"
      },
      "execution_count": null,
      "outputs": [
        {
          "output_type": "execute_result",
          "data": {
            "text/plain": [
              "'2020-03-11'"
            ],
            "application/vnd.google.colaboratory.intrinsic+json": {
              "type": "string"
            }
          },
          "metadata": {},
          "execution_count": 13
        }
      ]
    },
    {
      "cell_type": "code",
      "source": [
        "news_df[news_df['name'] == ''].count()"
      ],
      "metadata": {
        "colab": {
          "base_uri": "https://localhost:8080/"
        },
        "id": "TOWYuQKbzjfG",
        "outputId": "ab94a784-435b-4127-c532-82e1d2f9b344"
      },
      "execution_count": null,
      "outputs": [
        {
          "output_type": "execute_result",
          "data": {
            "text/plain": [
              "date       10\n",
              "name       10\n",
              "title      10\n",
              "content    10\n",
              "link       10\n",
              "dtype: int64"
            ]
          },
          "metadata": {},
          "execution_count": 8
        }
      ]
    },
    {
      "cell_type": "code",
      "source": [
        "news_df[news_df['name'] == '']['link'].values"
      ],
      "metadata": {
        "colab": {
          "base_uri": "https://localhost:8080/"
        },
        "id": "U_c10xZTz38t",
        "outputId": "a2ed50b5-371f-4423-bf5c-88492f8c5af3"
      },
      "execution_count": null,
      "outputs": [
        {
          "output_type": "execute_result",
          "data": {
            "text/plain": [
              "array(['https://n.news.naver.com/mnews/article/421/0004528266?sid=106',\n",
              "       'https://n.news.naver.com/mnews/article/311/0001124417?sid=106',\n",
              "       'https://n.news.naver.com/mnews/article/311/0001125532?sid=106',\n",
              "       'https://n.news.naver.com/mnews/article/003/0009740646?sid=102',\n",
              "       'https://n.news.naver.com/mnews/article/609/0000258718?sid=106',\n",
              "       'https://n.news.naver.com/mnews/article/609/0000259501?sid=106',\n",
              "       'https://n.news.naver.com/mnews/article/277/0004645150?sid=106',\n",
              "       'https://n.news.naver.com/mnews/article/015/0004304426?sid=106',\n",
              "       'https://n.news.naver.com/mnews/article/076/0003540534?sid=106',\n",
              "       'https://n.news.naver.com/mnews/article/609/0000259765?sid=106'],\n",
              "      dtype=object)"
            ]
          },
          "metadata": {},
          "execution_count": 9
        }
      ]
    },
    {
      "cell_type": "code",
      "source": [
        "news_df[news_df['content'] == '']"
      ],
      "metadata": {
        "colab": {
          "base_uri": "https://localhost:8080/",
          "height": 52
        },
        "id": "Ka3dQgi9lW0w",
        "outputId": "c46e889b-277e-462d-df1e-e93f10be401e"
      },
      "execution_count": null,
      "outputs": [
        {
          "output_type": "execute_result",
          "data": {
            "text/plain": [
              "Empty DataFrame\n",
              "Columns: [date, name, title, content, link]\n",
              "Index: []"
            ],
            "text/html": [
              "\n",
              "  <div id=\"df-47c93e04-168c-4540-88b8-e1a21e3fa1d7\">\n",
              "    <div class=\"colab-df-container\">\n",
              "      <div>\n",
              "<style scoped>\n",
              "    .dataframe tbody tr th:only-of-type {\n",
              "        vertical-align: middle;\n",
              "    }\n",
              "\n",
              "    .dataframe tbody tr th {\n",
              "        vertical-align: top;\n",
              "    }\n",
              "\n",
              "    .dataframe thead th {\n",
              "        text-align: right;\n",
              "    }\n",
              "</style>\n",
              "<table border=\"1\" class=\"dataframe\">\n",
              "  <thead>\n",
              "    <tr style=\"text-align: right;\">\n",
              "      <th></th>\n",
              "      <th>date</th>\n",
              "      <th>name</th>\n",
              "      <th>title</th>\n",
              "      <th>content</th>\n",
              "      <th>link</th>\n",
              "    </tr>\n",
              "  </thead>\n",
              "  <tbody>\n",
              "  </tbody>\n",
              "</table>\n",
              "</div>\n",
              "      <button class=\"colab-df-convert\" onclick=\"convertToInteractive('df-47c93e04-168c-4540-88b8-e1a21e3fa1d7')\"\n",
              "              title=\"Convert this dataframe to an interactive table.\"\n",
              "              style=\"display:none;\">\n",
              "        \n",
              "  <svg xmlns=\"http://www.w3.org/2000/svg\" height=\"24px\"viewBox=\"0 0 24 24\"\n",
              "       width=\"24px\">\n",
              "    <path d=\"M0 0h24v24H0V0z\" fill=\"none\"/>\n",
              "    <path d=\"M18.56 5.44l.94 2.06.94-2.06 2.06-.94-2.06-.94-.94-2.06-.94 2.06-2.06.94zm-11 1L8.5 8.5l.94-2.06 2.06-.94-2.06-.94L8.5 2.5l-.94 2.06-2.06.94zm10 10l.94 2.06.94-2.06 2.06-.94-2.06-.94-.94-2.06-.94 2.06-2.06.94z\"/><path d=\"M17.41 7.96l-1.37-1.37c-.4-.4-.92-.59-1.43-.59-.52 0-1.04.2-1.43.59L10.3 9.45l-7.72 7.72c-.78.78-.78 2.05 0 2.83L4 21.41c.39.39.9.59 1.41.59.51 0 1.02-.2 1.41-.59l7.78-7.78 2.81-2.81c.8-.78.8-2.07 0-2.86zM5.41 20L4 18.59l7.72-7.72 1.47 1.35L5.41 20z\"/>\n",
              "  </svg>\n",
              "      </button>\n",
              "      \n",
              "  <style>\n",
              "    .colab-df-container {\n",
              "      display:flex;\n",
              "      flex-wrap:wrap;\n",
              "      gap: 12px;\n",
              "    }\n",
              "\n",
              "    .colab-df-convert {\n",
              "      background-color: #E8F0FE;\n",
              "      border: none;\n",
              "      border-radius: 50%;\n",
              "      cursor: pointer;\n",
              "      display: none;\n",
              "      fill: #1967D2;\n",
              "      height: 32px;\n",
              "      padding: 0 0 0 0;\n",
              "      width: 32px;\n",
              "    }\n",
              "\n",
              "    .colab-df-convert:hover {\n",
              "      background-color: #E2EBFA;\n",
              "      box-shadow: 0px 1px 2px rgba(60, 64, 67, 0.3), 0px 1px 3px 1px rgba(60, 64, 67, 0.15);\n",
              "      fill: #174EA6;\n",
              "    }\n",
              "\n",
              "    [theme=dark] .colab-df-convert {\n",
              "      background-color: #3B4455;\n",
              "      fill: #D2E3FC;\n",
              "    }\n",
              "\n",
              "    [theme=dark] .colab-df-convert:hover {\n",
              "      background-color: #434B5C;\n",
              "      box-shadow: 0px 1px 3px 1px rgba(0, 0, 0, 0.15);\n",
              "      filter: drop-shadow(0px 1px 2px rgba(0, 0, 0, 0.3));\n",
              "      fill: #FFFFFF;\n",
              "    }\n",
              "  </style>\n",
              "\n",
              "      <script>\n",
              "        const buttonEl =\n",
              "          document.querySelector('#df-47c93e04-168c-4540-88b8-e1a21e3fa1d7 button.colab-df-convert');\n",
              "        buttonEl.style.display =\n",
              "          google.colab.kernel.accessAllowed ? 'block' : 'none';\n",
              "\n",
              "        async function convertToInteractive(key) {\n",
              "          const element = document.querySelector('#df-47c93e04-168c-4540-88b8-e1a21e3fa1d7');\n",
              "          const dataTable =\n",
              "            await google.colab.kernel.invokeFunction('convertToInteractive',\n",
              "                                                     [key], {});\n",
              "          if (!dataTable) return;\n",
              "\n",
              "          const docLinkHtml = 'Like what you see? Visit the ' +\n",
              "            '<a target=\"_blank\" href=https://colab.research.google.com/notebooks/data_table.ipynb>data table notebook</a>'\n",
              "            + ' to learn more about interactive tables.';\n",
              "          element.innerHTML = '';\n",
              "          dataTable['output_type'] = 'display_data';\n",
              "          await google.colab.output.renderOutput(dataTable, element);\n",
              "          const docLink = document.createElement('div');\n",
              "          docLink.innerHTML = docLinkHtml;\n",
              "          element.appendChild(docLink);\n",
              "        }\n",
              "      </script>\n",
              "    </div>\n",
              "  </div>\n",
              "  "
            ]
          },
          "metadata": {},
          "execution_count": 53
        }
      ]
    },
    {
      "cell_type": "code",
      "source": [
        "news_df[news_df['title'] == '']"
      ],
      "metadata": {
        "colab": {
          "base_uri": "https://localhost:8080/",
          "height": 52
        },
        "id": "LaMIa3-ClauN",
        "outputId": "fa980374-8f85-4ef1-bb5e-b2b97cba93cf"
      },
      "execution_count": null,
      "outputs": [
        {
          "output_type": "execute_result",
          "data": {
            "text/plain": [
              "Empty DataFrame\n",
              "Columns: [date, name, title, content, link]\n",
              "Index: []"
            ],
            "text/html": [
              "\n",
              "  <div id=\"df-c0ecde93-fe32-4992-ba33-badb589a0507\">\n",
              "    <div class=\"colab-df-container\">\n",
              "      <div>\n",
              "<style scoped>\n",
              "    .dataframe tbody tr th:only-of-type {\n",
              "        vertical-align: middle;\n",
              "    }\n",
              "\n",
              "    .dataframe tbody tr th {\n",
              "        vertical-align: top;\n",
              "    }\n",
              "\n",
              "    .dataframe thead th {\n",
              "        text-align: right;\n",
              "    }\n",
              "</style>\n",
              "<table border=\"1\" class=\"dataframe\">\n",
              "  <thead>\n",
              "    <tr style=\"text-align: right;\">\n",
              "      <th></th>\n",
              "      <th>date</th>\n",
              "      <th>name</th>\n",
              "      <th>title</th>\n",
              "      <th>content</th>\n",
              "      <th>link</th>\n",
              "    </tr>\n",
              "  </thead>\n",
              "  <tbody>\n",
              "  </tbody>\n",
              "</table>\n",
              "</div>\n",
              "      <button class=\"colab-df-convert\" onclick=\"convertToInteractive('df-c0ecde93-fe32-4992-ba33-badb589a0507')\"\n",
              "              title=\"Convert this dataframe to an interactive table.\"\n",
              "              style=\"display:none;\">\n",
              "        \n",
              "  <svg xmlns=\"http://www.w3.org/2000/svg\" height=\"24px\"viewBox=\"0 0 24 24\"\n",
              "       width=\"24px\">\n",
              "    <path d=\"M0 0h24v24H0V0z\" fill=\"none\"/>\n",
              "    <path d=\"M18.56 5.44l.94 2.06.94-2.06 2.06-.94-2.06-.94-.94-2.06-.94 2.06-2.06.94zm-11 1L8.5 8.5l.94-2.06 2.06-.94-2.06-.94L8.5 2.5l-.94 2.06-2.06.94zm10 10l.94 2.06.94-2.06 2.06-.94-2.06-.94-.94-2.06-.94 2.06-2.06.94z\"/><path d=\"M17.41 7.96l-1.37-1.37c-.4-.4-.92-.59-1.43-.59-.52 0-1.04.2-1.43.59L10.3 9.45l-7.72 7.72c-.78.78-.78 2.05 0 2.83L4 21.41c.39.39.9.59 1.41.59.51 0 1.02-.2 1.41-.59l7.78-7.78 2.81-2.81c.8-.78.8-2.07 0-2.86zM5.41 20L4 18.59l7.72-7.72 1.47 1.35L5.41 20z\"/>\n",
              "  </svg>\n",
              "      </button>\n",
              "      \n",
              "  <style>\n",
              "    .colab-df-container {\n",
              "      display:flex;\n",
              "      flex-wrap:wrap;\n",
              "      gap: 12px;\n",
              "    }\n",
              "\n",
              "    .colab-df-convert {\n",
              "      background-color: #E8F0FE;\n",
              "      border: none;\n",
              "      border-radius: 50%;\n",
              "      cursor: pointer;\n",
              "      display: none;\n",
              "      fill: #1967D2;\n",
              "      height: 32px;\n",
              "      padding: 0 0 0 0;\n",
              "      width: 32px;\n",
              "    }\n",
              "\n",
              "    .colab-df-convert:hover {\n",
              "      background-color: #E2EBFA;\n",
              "      box-shadow: 0px 1px 2px rgba(60, 64, 67, 0.3), 0px 1px 3px 1px rgba(60, 64, 67, 0.15);\n",
              "      fill: #174EA6;\n",
              "    }\n",
              "\n",
              "    [theme=dark] .colab-df-convert {\n",
              "      background-color: #3B4455;\n",
              "      fill: #D2E3FC;\n",
              "    }\n",
              "\n",
              "    [theme=dark] .colab-df-convert:hover {\n",
              "      background-color: #434B5C;\n",
              "      box-shadow: 0px 1px 3px 1px rgba(0, 0, 0, 0.15);\n",
              "      filter: drop-shadow(0px 1px 2px rgba(0, 0, 0, 0.3));\n",
              "      fill: #FFFFFF;\n",
              "    }\n",
              "  </style>\n",
              "\n",
              "      <script>\n",
              "        const buttonEl =\n",
              "          document.querySelector('#df-c0ecde93-fe32-4992-ba33-badb589a0507 button.colab-df-convert');\n",
              "        buttonEl.style.display =\n",
              "          google.colab.kernel.accessAllowed ? 'block' : 'none';\n",
              "\n",
              "        async function convertToInteractive(key) {\n",
              "          const element = document.querySelector('#df-c0ecde93-fe32-4992-ba33-badb589a0507');\n",
              "          const dataTable =\n",
              "            await google.colab.kernel.invokeFunction('convertToInteractive',\n",
              "                                                     [key], {});\n",
              "          if (!dataTable) return;\n",
              "\n",
              "          const docLinkHtml = 'Like what you see? Visit the ' +\n",
              "            '<a target=\"_blank\" href=https://colab.research.google.com/notebooks/data_table.ipynb>data table notebook</a>'\n",
              "            + ' to learn more about interactive tables.';\n",
              "          element.innerHTML = '';\n",
              "          dataTable['output_type'] = 'display_data';\n",
              "          await google.colab.output.renderOutput(dataTable, element);\n",
              "          const docLink = document.createElement('div');\n",
              "          docLink.innerHTML = docLinkHtml;\n",
              "          element.appendChild(docLink);\n",
              "        }\n",
              "      </script>\n",
              "    </div>\n",
              "  </div>\n",
              "  "
            ]
          },
          "metadata": {},
          "execution_count": 54
        }
      ]
    },
    {
      "cell_type": "code",
      "source": [
        "news_df[news_df['title'].isna()]"
      ],
      "metadata": {
        "colab": {
          "base_uri": "https://localhost:8080/",
          "height": 52
        },
        "id": "xwacWRPeupte",
        "outputId": "0fd8003f-5035-40da-dca0-dc02b19bd7f9"
      },
      "execution_count": null,
      "outputs": [
        {
          "output_type": "execute_result",
          "data": {
            "text/plain": [
              "Empty DataFrame\n",
              "Columns: [date, name, title, content, link]\n",
              "Index: []"
            ],
            "text/html": [
              "\n",
              "  <div id=\"df-738e2359-b7ad-4159-bc1c-fde7ef2bcecc\">\n",
              "    <div class=\"colab-df-container\">\n",
              "      <div>\n",
              "<style scoped>\n",
              "    .dataframe tbody tr th:only-of-type {\n",
              "        vertical-align: middle;\n",
              "    }\n",
              "\n",
              "    .dataframe tbody tr th {\n",
              "        vertical-align: top;\n",
              "    }\n",
              "\n",
              "    .dataframe thead th {\n",
              "        text-align: right;\n",
              "    }\n",
              "</style>\n",
              "<table border=\"1\" class=\"dataframe\">\n",
              "  <thead>\n",
              "    <tr style=\"text-align: right;\">\n",
              "      <th></th>\n",
              "      <th>date</th>\n",
              "      <th>name</th>\n",
              "      <th>title</th>\n",
              "      <th>content</th>\n",
              "      <th>link</th>\n",
              "    </tr>\n",
              "  </thead>\n",
              "  <tbody>\n",
              "  </tbody>\n",
              "</table>\n",
              "</div>\n",
              "      <button class=\"colab-df-convert\" onclick=\"convertToInteractive('df-738e2359-b7ad-4159-bc1c-fde7ef2bcecc')\"\n",
              "              title=\"Convert this dataframe to an interactive table.\"\n",
              "              style=\"display:none;\">\n",
              "        \n",
              "  <svg xmlns=\"http://www.w3.org/2000/svg\" height=\"24px\"viewBox=\"0 0 24 24\"\n",
              "       width=\"24px\">\n",
              "    <path d=\"M0 0h24v24H0V0z\" fill=\"none\"/>\n",
              "    <path d=\"M18.56 5.44l.94 2.06.94-2.06 2.06-.94-2.06-.94-.94-2.06-.94 2.06-2.06.94zm-11 1L8.5 8.5l.94-2.06 2.06-.94-2.06-.94L8.5 2.5l-.94 2.06-2.06.94zm10 10l.94 2.06.94-2.06 2.06-.94-2.06-.94-.94-2.06-.94 2.06-2.06.94z\"/><path d=\"M17.41 7.96l-1.37-1.37c-.4-.4-.92-.59-1.43-.59-.52 0-1.04.2-1.43.59L10.3 9.45l-7.72 7.72c-.78.78-.78 2.05 0 2.83L4 21.41c.39.39.9.59 1.41.59.51 0 1.02-.2 1.41-.59l7.78-7.78 2.81-2.81c.8-.78.8-2.07 0-2.86zM5.41 20L4 18.59l7.72-7.72 1.47 1.35L5.41 20z\"/>\n",
              "  </svg>\n",
              "      </button>\n",
              "      \n",
              "  <style>\n",
              "    .colab-df-container {\n",
              "      display:flex;\n",
              "      flex-wrap:wrap;\n",
              "      gap: 12px;\n",
              "    }\n",
              "\n",
              "    .colab-df-convert {\n",
              "      background-color: #E8F0FE;\n",
              "      border: none;\n",
              "      border-radius: 50%;\n",
              "      cursor: pointer;\n",
              "      display: none;\n",
              "      fill: #1967D2;\n",
              "      height: 32px;\n",
              "      padding: 0 0 0 0;\n",
              "      width: 32px;\n",
              "    }\n",
              "\n",
              "    .colab-df-convert:hover {\n",
              "      background-color: #E2EBFA;\n",
              "      box-shadow: 0px 1px 2px rgba(60, 64, 67, 0.3), 0px 1px 3px 1px rgba(60, 64, 67, 0.15);\n",
              "      fill: #174EA6;\n",
              "    }\n",
              "\n",
              "    [theme=dark] .colab-df-convert {\n",
              "      background-color: #3B4455;\n",
              "      fill: #D2E3FC;\n",
              "    }\n",
              "\n",
              "    [theme=dark] .colab-df-convert:hover {\n",
              "      background-color: #434B5C;\n",
              "      box-shadow: 0px 1px 3px 1px rgba(0, 0, 0, 0.15);\n",
              "      filter: drop-shadow(0px 1px 2px rgba(0, 0, 0, 0.3));\n",
              "      fill: #FFFFFF;\n",
              "    }\n",
              "  </style>\n",
              "\n",
              "      <script>\n",
              "        const buttonEl =\n",
              "          document.querySelector('#df-738e2359-b7ad-4159-bc1c-fde7ef2bcecc button.colab-df-convert');\n",
              "        buttonEl.style.display =\n",
              "          google.colab.kernel.accessAllowed ? 'block' : 'none';\n",
              "\n",
              "        async function convertToInteractive(key) {\n",
              "          const element = document.querySelector('#df-738e2359-b7ad-4159-bc1c-fde7ef2bcecc');\n",
              "          const dataTable =\n",
              "            await google.colab.kernel.invokeFunction('convertToInteractive',\n",
              "                                                     [key], {});\n",
              "          if (!dataTable) return;\n",
              "\n",
              "          const docLinkHtml = 'Like what you see? Visit the ' +\n",
              "            '<a target=\"_blank\" href=https://colab.research.google.com/notebooks/data_table.ipynb>data table notebook</a>'\n",
              "            + ' to learn more about interactive tables.';\n",
              "          element.innerHTML = '';\n",
              "          dataTable['output_type'] = 'display_data';\n",
              "          await google.colab.output.renderOutput(dataTable, element);\n",
              "          const docLink = document.createElement('div');\n",
              "          docLink.innerHTML = docLinkHtml;\n",
              "          element.appendChild(docLink);\n",
              "        }\n",
              "      </script>\n",
              "    </div>\n",
              "  </div>\n",
              "  "
            ]
          },
          "metadata": {},
          "execution_count": 55
        }
      ]
    },
    {
      "cell_type": "code",
      "source": [
        "news_df['name'][22][12:-38]"
      ],
      "metadata": {
        "colab": {
          "base_uri": "https://localhost:8080/",
          "height": 40
        },
        "id": "IB6BnNIr-iAQ",
        "outputId": "bfbd8537-9783-460f-8b86-7c5edcb843e3"
      },
      "execution_count": null,
      "outputs": [
        {
          "output_type": "execute_result",
          "data": {
            "text/plain": [
              "'헤럴드경제'"
            ],
            "application/vnd.google.colaboratory.intrinsic+json": {
              "type": "string"
            }
          },
          "metadata": {},
          "execution_count": 16
        }
      ]
    },
    {
      "cell_type": "code",
      "source": [
        "df1 = pd.read_excel('/content/2022.01.01 ~ 2022.01.01.xlsx')\n",
        "df1"
      ],
      "metadata": {
        "colab": {
          "base_uri": "https://localhost:8080/",
          "height": 238
        },
        "id": "6WIK5dgwJReT",
        "outputId": "7b438073-be46-4e55-f8d5-1feef65c791f"
      },
      "execution_count": null,
      "outputs": [
        {
          "output_type": "execute_result",
          "data": {
            "text/plain": [
              "   Unnamed: 0        date  name  \\\n",
              "0           0  2022-01-01   NaN   \n",
              "1           1  2022-01-01   NaN   \n",
              "2           2  2022-01-01   NaN   \n",
              "3           3  2022-01-01   NaN   \n",
              "4           4  2022-01-01   NaN   \n",
              "5           5  2022-01-01   NaN   \n",
              "\n",
              "                                               title  \\\n",
              "0                 서울 아파트 7주째 ‘팔자〉사자’… 전세도 4주째 매물이 많아   \n",
              "1  [2022 부스트라다무스]② 이상우 “올해 집값 10% 오를 것. 서울 아파트 14...   \n",
              "2                         작년 펄펄 끓었던 부동산시장…'빙하기'로 마무리   \n",
              "3             집값 \"더 오른다\" vs \"하락, 이미 시작\"[새해 부동산 어디로①]   \n",
              "4                           청년들이 뽑은 최대 현안 ‘자산 격차 해소’   \n",
              "5                   올해 42만 가구 쏟아진다…둔촌·송파 등 민영 분양 줄줄이   \n",
              "\n",
              "                                             content  \n",
              "0  [\\n서울 매매수급지수 27개월새 최저… 전국 지수도 12주 연속 하락\\n\\n\\n\\...  \n",
              "1  [\\n\\t\\t\\t        “2022년에도 집값은 10% 정도 오를 것이라고 전...  \n",
              "2  [\\n[집값 톡톡]서울 은평·도봉·강북 아파트값 하락거래량, 금융위기 이후 최저…정...  \n",
              "3  [\\n기사내용 요약전문가 10인, 작년 13.3% 올라…4분기부터 주춤상승 전망 여...  \n",
              "4  [\\n[앵커]부동산을 중심으로 한 자산 불평등 문제도 심각하죠.집값이 너무 많이 오...  \n",
              "5  [\\n[앵커]집값이 폭등한 상황에서 내 집 마련의 꿈을 이룰 수 있는 현실적인 수단...  "
            ],
            "text/html": [
              "\n",
              "  <div id=\"df-f866c3cf-c3bf-472a-93ee-56966bdf2974\">\n",
              "    <div class=\"colab-df-container\">\n",
              "      <div>\n",
              "<style scoped>\n",
              "    .dataframe tbody tr th:only-of-type {\n",
              "        vertical-align: middle;\n",
              "    }\n",
              "\n",
              "    .dataframe tbody tr th {\n",
              "        vertical-align: top;\n",
              "    }\n",
              "\n",
              "    .dataframe thead th {\n",
              "        text-align: right;\n",
              "    }\n",
              "</style>\n",
              "<table border=\"1\" class=\"dataframe\">\n",
              "  <thead>\n",
              "    <tr style=\"text-align: right;\">\n",
              "      <th></th>\n",
              "      <th>Unnamed: 0</th>\n",
              "      <th>date</th>\n",
              "      <th>name</th>\n",
              "      <th>title</th>\n",
              "      <th>content</th>\n",
              "    </tr>\n",
              "  </thead>\n",
              "  <tbody>\n",
              "    <tr>\n",
              "      <th>0</th>\n",
              "      <td>0</td>\n",
              "      <td>2022-01-01</td>\n",
              "      <td>NaN</td>\n",
              "      <td>서울 아파트 7주째 ‘팔자〉사자’… 전세도 4주째 매물이 많아</td>\n",
              "      <td>[\\n서울 매매수급지수 27개월새 최저… 전국 지수도 12주 연속 하락\\n\\n\\n\\...</td>\n",
              "    </tr>\n",
              "    <tr>\n",
              "      <th>1</th>\n",
              "      <td>1</td>\n",
              "      <td>2022-01-01</td>\n",
              "      <td>NaN</td>\n",
              "      <td>[2022 부스트라다무스]② 이상우 “올해 집값 10% 오를 것. 서울 아파트 14...</td>\n",
              "      <td>[\\n\\t\\t\\t        “2022년에도 집값은 10% 정도 오를 것이라고 전...</td>\n",
              "    </tr>\n",
              "    <tr>\n",
              "      <th>2</th>\n",
              "      <td>2</td>\n",
              "      <td>2022-01-01</td>\n",
              "      <td>NaN</td>\n",
              "      <td>작년 펄펄 끓었던 부동산시장…'빙하기'로 마무리</td>\n",
              "      <td>[\\n[집값 톡톡]서울 은평·도봉·강북 아파트값 하락거래량, 금융위기 이후 최저…정...</td>\n",
              "    </tr>\n",
              "    <tr>\n",
              "      <th>3</th>\n",
              "      <td>3</td>\n",
              "      <td>2022-01-01</td>\n",
              "      <td>NaN</td>\n",
              "      <td>집값 \"더 오른다\" vs \"하락, 이미 시작\"[새해 부동산 어디로①]</td>\n",
              "      <td>[\\n기사내용 요약전문가 10인, 작년 13.3% 올라…4분기부터 주춤상승 전망 여...</td>\n",
              "    </tr>\n",
              "    <tr>\n",
              "      <th>4</th>\n",
              "      <td>4</td>\n",
              "      <td>2022-01-01</td>\n",
              "      <td>NaN</td>\n",
              "      <td>청년들이 뽑은 최대 현안 ‘자산 격차 해소’</td>\n",
              "      <td>[\\n[앵커]부동산을 중심으로 한 자산 불평등 문제도 심각하죠.집값이 너무 많이 오...</td>\n",
              "    </tr>\n",
              "    <tr>\n",
              "      <th>5</th>\n",
              "      <td>5</td>\n",
              "      <td>2022-01-01</td>\n",
              "      <td>NaN</td>\n",
              "      <td>올해 42만 가구 쏟아진다…둔촌·송파 등 민영 분양 줄줄이</td>\n",
              "      <td>[\\n[앵커]집값이 폭등한 상황에서 내 집 마련의 꿈을 이룰 수 있는 현실적인 수단...</td>\n",
              "    </tr>\n",
              "  </tbody>\n",
              "</table>\n",
              "</div>\n",
              "      <button class=\"colab-df-convert\" onclick=\"convertToInteractive('df-f866c3cf-c3bf-472a-93ee-56966bdf2974')\"\n",
              "              title=\"Convert this dataframe to an interactive table.\"\n",
              "              style=\"display:none;\">\n",
              "        \n",
              "  <svg xmlns=\"http://www.w3.org/2000/svg\" height=\"24px\"viewBox=\"0 0 24 24\"\n",
              "       width=\"24px\">\n",
              "    <path d=\"M0 0h24v24H0V0z\" fill=\"none\"/>\n",
              "    <path d=\"M18.56 5.44l.94 2.06.94-2.06 2.06-.94-2.06-.94-.94-2.06-.94 2.06-2.06.94zm-11 1L8.5 8.5l.94-2.06 2.06-.94-2.06-.94L8.5 2.5l-.94 2.06-2.06.94zm10 10l.94 2.06.94-2.06 2.06-.94-2.06-.94-.94-2.06-.94 2.06-2.06.94z\"/><path d=\"M17.41 7.96l-1.37-1.37c-.4-.4-.92-.59-1.43-.59-.52 0-1.04.2-1.43.59L10.3 9.45l-7.72 7.72c-.78.78-.78 2.05 0 2.83L4 21.41c.39.39.9.59 1.41.59.51 0 1.02-.2 1.41-.59l7.78-7.78 2.81-2.81c.8-.78.8-2.07 0-2.86zM5.41 20L4 18.59l7.72-7.72 1.47 1.35L5.41 20z\"/>\n",
              "  </svg>\n",
              "      </button>\n",
              "      \n",
              "  <style>\n",
              "    .colab-df-container {\n",
              "      display:flex;\n",
              "      flex-wrap:wrap;\n",
              "      gap: 12px;\n",
              "    }\n",
              "\n",
              "    .colab-df-convert {\n",
              "      background-color: #E8F0FE;\n",
              "      border: none;\n",
              "      border-radius: 50%;\n",
              "      cursor: pointer;\n",
              "      display: none;\n",
              "      fill: #1967D2;\n",
              "      height: 32px;\n",
              "      padding: 0 0 0 0;\n",
              "      width: 32px;\n",
              "    }\n",
              "\n",
              "    .colab-df-convert:hover {\n",
              "      background-color: #E2EBFA;\n",
              "      box-shadow: 0px 1px 2px rgba(60, 64, 67, 0.3), 0px 1px 3px 1px rgba(60, 64, 67, 0.15);\n",
              "      fill: #174EA6;\n",
              "    }\n",
              "\n",
              "    [theme=dark] .colab-df-convert {\n",
              "      background-color: #3B4455;\n",
              "      fill: #D2E3FC;\n",
              "    }\n",
              "\n",
              "    [theme=dark] .colab-df-convert:hover {\n",
              "      background-color: #434B5C;\n",
              "      box-shadow: 0px 1px 3px 1px rgba(0, 0, 0, 0.15);\n",
              "      filter: drop-shadow(0px 1px 2px rgba(0, 0, 0, 0.3));\n",
              "      fill: #FFFFFF;\n",
              "    }\n",
              "  </style>\n",
              "\n",
              "      <script>\n",
              "        const buttonEl =\n",
              "          document.querySelector('#df-f866c3cf-c3bf-472a-93ee-56966bdf2974 button.colab-df-convert');\n",
              "        buttonEl.style.display =\n",
              "          google.colab.kernel.accessAllowed ? 'block' : 'none';\n",
              "\n",
              "        async function convertToInteractive(key) {\n",
              "          const element = document.querySelector('#df-f866c3cf-c3bf-472a-93ee-56966bdf2974');\n",
              "          const dataTable =\n",
              "            await google.colab.kernel.invokeFunction('convertToInteractive',\n",
              "                                                     [key], {});\n",
              "          if (!dataTable) return;\n",
              "\n",
              "          const docLinkHtml = 'Like what you see? Visit the ' +\n",
              "            '<a target=\"_blank\" href=https://colab.research.google.com/notebooks/data_table.ipynb>data table notebook</a>'\n",
              "            + ' to learn more about interactive tables.';\n",
              "          element.innerHTML = '';\n",
              "          dataTable['output_type'] = 'display_data';\n",
              "          await google.colab.output.renderOutput(dataTable, element);\n",
              "          const docLink = document.createElement('div');\n",
              "          docLink.innerHTML = docLinkHtml;\n",
              "          element.appendChild(docLink);\n",
              "        }\n",
              "      </script>\n",
              "    </div>\n",
              "  </div>\n",
              "  "
            ]
          },
          "metadata": {},
          "execution_count": 16
        }
      ]
    },
    {
      "cell_type": "code",
      "source": [
        "df1.loc[0, 'content']"
      ],
      "metadata": {
        "colab": {
          "base_uri": "https://localhost:8080/",
          "height": 164
        },
        "id": "pbyV2D1iJkyE",
        "outputId": "0922bea2-9dd3-4ab1-ebad-11ec8708e57c"
      },
      "execution_count": null,
      "outputs": [
        {
          "output_type": "execute_result",
          "data": {
            "text/plain": [
              "'[\\n서울 매매수급지수 27개월새 최저… 전국 지수도 12주 연속 하락\\n\\n\\n\\n서울 아파트를 사려는 사람보다 팔려는 사람이 많은 상태가 7주 연속 계속되고 있다. 금리 인상과 대출 규제뿐만 아니라 대선 전 눈치 보기 등으로 거래절벽이 한동안 이어질 것으로 전망된다. 31일 한국부동산원에 따르면 지난해 12월 넷째 주(27일 기준) 서울 아파트 매매수급지수는 93.5로 전주(93.9)보다 0.4포인트 떨어졌다. 이는 2019년 9월 셋째 주(93.0) 이후 2년 3개월 만에 가장 낮은 수치다. 이 지수가 100을 밑돌수록 공급(매물)이 수요보다 많아 매도세가 짙다는 뜻이다.  지난해 서울 아파트 매매수급지수는 4월 첫째 주(96.1)를 제외하고 100을 웃돌았다가 11월 셋째 주(99.6) 기준선 밑으로 떨어진 뒤 현재까지 7주 연속 하락세를 보이고 있다. 이런 분위기는 전국으로 범위를 넓혀도 비슷하다. 12월 넷째 주 전국 아파트 매매수급지수는 96.1로 지난주보다 0.7포인트 하락했다. 10월 둘째 주(105.4) 이후 12주 연속 하락하면서 4주 연속 100을 밑돌고 있다.  전국 17개 시도 중 아파트 매매수급지수가 가장 낮은 세종의 이번 주 매매수급지수는 전주(81.1) 대비 2.6포인트 떨어진 78.5로 조사됐다. 2015년 3월 둘째 주(76.3) 이후 6년 9개월 만에 최저치다. 아파트 전세 시장도 위축되는 분위기다. 12월 넷째 주 서울 아파트 전세수급지수는 95.7로 전주(96.9) 대비 1.2포인트 떨어지면서 4주 연속 100 아래에 머물렀다. 전국 아파트 전세수급지수(98.7) 역시 2주 연속 100을 넘지 못했다. 고준석 동국대 법무대학원 겸임교수는 “정부의 대출 규제, 금리 인상 등으로 수요자들의 자금 여력이 부족해졌다”며 “대선을 앞두고 정책 변수가 많기 때문에 매도자들과 매수자들이 선택을 미루며 거래절벽이 심해진 점 역시 시장 위축을 부추기고 있다”고 설명했다.\\n]'"
            ],
            "application/vnd.google.colaboratory.intrinsic+json": {
              "type": "string"
            }
          },
          "metadata": {},
          "execution_count": 17
        }
      ]
    },
    {
      "cell_type": "code",
      "source": [
        "s_date"
      ],
      "metadata": {
        "colab": {
          "base_uri": "https://localhost:8080/",
          "height": 35
        },
        "id": "6jVCtszb_mG7",
        "outputId": "72356890-9ef1-4b13-9e00-a56cf01e4807"
      },
      "execution_count": null,
      "outputs": [
        {
          "output_type": "execute_result",
          "data": {
            "text/plain": [
              "'2022.01.01'"
            ],
            "application/vnd.google.colaboratory.intrinsic+json": {
              "type": "string"
            }
          },
          "metadata": {},
          "execution_count": 6
        }
      ]
    },
    {
      "cell_type": "code",
      "source": [
        "news_contents"
      ],
      "metadata": {
        "colab": {
          "base_uri": "https://localhost:8080/"
        },
        "id": "uiJG6lkuAQ_U",
        "outputId": "cd58c37d-f071-4b47-adf0-4eee3507039b"
      },
      "execution_count": null,
      "outputs": [
        {
          "output_type": "execute_result",
          "data": {
            "text/plain": [
              "['[\\n수요 감소에 계약 만기 임박한 물건, 수천만원 낮춰 계약전셋값 급등·대출 규제 등에 재계약 늘고 신규 수요는 억눌린 탓약보합 전환 분위기속 일각선 4년치 인상 반영해 최고가 거래 \\'대조\\'(서울=연합뉴스) 서미숙 기자 = 최근 서울 아파트 매매 시장에 이어 전세 시장에서도 실거래 가격이 이전 거래에 비해 하락한 단지들이 늘어나는 분위기다.     대출 규제, 계약갱신청구권 사용 등으로 재계약은 늘고 평수를 넓히거나 거주지를 옮기려는 이동 수요는 급감하면서 \\'급전세\\' 계약이 증가한 것이다.     이 때문에 최근 서울 아파트 매매 가격이 일부 하락한 가운데 전셋값도 약세로 돌아서는 게 아니냐는 관측이 나온다.    반면 일부 단지와 주택형에 따라서는 역대 최고가 전세 거래도 성사돼 전월세 시장 불안의 불씨는 여전히 남아 있다는 지적도 만만치 않다. \\n\\n\\n\\n서울시내 아파트[연합뉴스 자료사진]  신규 전세 계약, 종전 대비 하락 거래 늘어     9일 서울부동산정보광장의 전세 실거래가 자료를 보면 최근 들어 신규 전세 계약으로 보이는 거래 중 종전 거래가격보다 신고금액이 하락한 경우가 속속 등장하고 있다.    최근 2년 새 계약갱신청구권 등 \\'임대차 2법\\' 시행으로 전셋값이 급등한 데다 금융당국이 전세자금 대출을 엄격하게 규제함에 따라 신규로 전세를 얻으려는 이동 수요가 줄어들면서 전세 물건이 적체되는 경우가 많아진 것이다. 이 때문에 전세 계약 만기가 임박한 집주인 가운데 일부는 당초 내놨던 금액보다 낮춰 전세 계약을 하는 경우가 늘고 있다.     송파구 잠실동 잠실엘스 전용 84.88㎡는 지난해 10월 최고 14억원짜리 전세계약이 2건 있었으나 12월 들어서는 최고가 거래금액이 13억원으로 낮아졌다.    잠실 리센츠 전용 59.99㎡도 지난해 8월 최고 11억8천만원까지 전세계약이 이뤄졌는데 9월 이후에는 10억원이 넘는 전세계약은 한 건도 없었고, 12월 들어서는 최고가 거래가 8억1천900만원으로 내려왔다.     잠실의 한 중개업소 대표는 \"2년 새 전세가 너무 오르다 보니 대부분 계약갱신청구권을 써 재계약을 하거나 인상된 전세 보증금만큼 월세로 전환하는 거래가 많다\"며 \"그간 전셋값을 지탱해준 전세자금 대출도 제약이 생기면서 신규 유입 수요가 감소했다\"고 말했다. \\n\\n\\n\\n잠실 아파트 모습 [연합뉴스 자료사진]강남구 대치동 은마아파트 전용 84.43㎡도 지난해 10월 최고 11억원에 전세계약이 이뤄졌는데 12월 들어 최고 10억원에 1건이 거래된 것 외에는 대부분의 8억∼9억원대에 신규 거래가 이뤄졌다.     학군 수요가 많은 양천구 목동 신시가지 단지 일대도 마찬가지다.    신시가지 7단지 전용 66.6㎡는 지난해 11월 하순 8억7천만원까지 거래가 이뤄졌으나 12월 들어선 신규 계약금액이 8억원 정도로 내려왔고, 신시가지 3단지 전용 64.98㎡도 지난해 11월 7억5천만원까지 계약됐으나 지난달엔 최고 거래가가 7억2천만원으로 하락했다.    마포구 아현동 마포래미안푸르지오 2단지 전용 84.6㎡는 지난해 9월 11억5천만원까지 전세 거래가 이뤄졌으나 지난달에는 10억5천만원으로 1억원 떨어진 금액에 계약이 이뤄졌다.     아현동의 한 중개업소 대표는 \"임대인 입장에서는 계약갱신청구권을 의식해 일단 높은 시세 수준에 전세를 내놓지만 최근 전세 수요가 감소하면서 만기에 몰린 집주인들은 결국 가격을 낮춰 계약하고 있다\"며 \"올해 1∼2월에 전세 만기가 도래하는 물건 중에는 최고가 대비 1억∼1억5천만원 이상 호가를 낮춘 것들도 있다\"고 말했다.    목동의 한 중개업소 대표는 \"예년에 비해 신규 전세를 찾는 사람이 월등히 줄었다\"며 \"시세 자체가 하락했다고 보긴 어렵지만 실제 거래는 그나마 급전세 수준으로 가격을 떨어뜨려야 수월히 이뤄진다\"고 전했다.\\n\\n\\n\\n서울의 부동산 중개업소 [연합뉴스 자료사진] 전세 수급지수도 5주째 하락에 가격 안정 기대감…전문가 \"속단은 일러\"    서울 아파트 전세시장이 예년에 비해 안정세를 보이는 것은 수급지수에서도 나타난다.    한국부동산원의 서울 아파트 전세수급지수는 94.5로 5주 연속 기준선(100)을 밑돌아 수요보다 공급이 많았고, 지수 자체도 하락세다. 이는 2019년 9월 16일(92.2) 이후 약 2년 4개월 만에 가장 낮은 수치다.    서울 아파트 전셋값은 아직 하락 지역은 없지만 지난해 9월 0.17%에서 지난주는 0.02%까지 상승률이 둔화돼 보합 전환이 임박했다.    이 때문에 정부는 최근 매매 시장에서 하락 지역이 늘고 있는 것처럼 전셋값도 하향 조정될 것이라는 관측을 조심스레 내놓고 있다.     그러나 일부 자금 사정에 여유가 있는 집주인들은 계약갱신청구권을 감안해 신규 전세계약시 4년치 인상분을 한꺼번에 반영하려고 가격을 올리는 경우도 여전해 아직 전셋값 안정을 낙관하기에는 이르다는 지적도 많다.    실제 잠실 리센츠 전용 84.99㎡는 지난해 11월 30일 역대 최고가인 17억원에 계약됐고, 서초구 반포동 반포자이 전용 59.98㎡도 지난해 11월 20일 역대 가장 높은 16억원에 전세 거래가 이뤄졌다.    특히 잠실 리센츠 전용 84.99㎡의 경우 지난해 11월부터 12월까지 신고된 전세 거래가격이 최저 8억4천만원부터 최고 17억원까지 2배 이상(8억6천만원) 벌어지는 등 적정 시세를 가늠하기 어려울 정도로 격차가 크다.     서초구 반포동의 한 중개업소 대표는 \"최근 대출 규제가 묶이고 전셋값이 너무 오르다 보니 세입자들이 비자발적으로 재계약을 하고 눌러앉는 경우가 많고, 집주인들도 갱신권이 종료되면 전셋값을 정상대로 올리려는 경우가 많을 것\"이라며 \"올해 서울 아파트 신규 입주물량도 줄어드는데 계약갱신청구권을 사용한 전세물건이 본격적으로 나오는 하반기 이후에는 전셋값이 더 오를 가능성도 크다\"고 내다봤다.     sms@yna.co.kr\\n]',\n",
              " \"[\\n1억 낮은 가격도 응찰자 없어강남 고가주택 줄줄이 유찰서울 아파트 낙찰률 46.9%7년만에 최저치로 추락인천·울산 등 광역시서도낙찰가가 감정가 밑돌아\\n\\n\\n\\n서울 잠실 롯데월드타워에서 내려다본 서울 시내 아파트 전경. [매경DB] 주택 매매시장에 이어 경매시장에도 한파가 불어닥치고 있다. 70%를 웃돌던 서울 아파트 경매 낙찰률은 지난달 50%선이 무너졌다. 경매시장에 나온 물건 절반 이상이 새 주인을 찾지 못했다는 의미다. 전문가들은 지속적인 금리 인상 이슈와 높아진 대출문턱 때문에 매수세가 급격히 감소하면서 시장이 얼어붙고 있는 것으로 진단한다.10일 법원경매 전문기업 지지옥션이 발표한 '2021년 12월 경매 동향 보고서'에 따르면 지난달 서울 아파트 경매 낙찰률은 46.9%로 전달(62.2%) 대비 15.3%포인트 하락했다. 코로나19로 인한 급작스러운 법원 휴정 사태로 낙찰률이 10%(10건 중 1건 낙찰)였던 2020년 3월을 제외하면 2014년 10월(46.7%) 이후 가장 낮은 수치다.실제 지난달 28일 서울북부지방법원에서는 성북구 하월곡동 월곡두산위브(전용면적 85㎡)에 대한 경매가 진행됐다. 입찰 최저가는 감정가인 8억6600만원으로, 지난해 10월 매매시장에서 거래된 동일 전용면적 물건(9억4500만원)보다 7900만원 낮았지만 응찰자가 없어 유찰됐다. 현재 이 단지의 같은 전용면적 매물의 시장 호가는 10억원을 웃돈다. 시장 거래가 대비 1억원 이상 낮은 가격에 물건을 취득할 수 있는 기회가 생겼지만 주택 수요자에게 외면을 받은 것이다. \\n\\n\\n\\n 고가 아파트 역시 상황은 비슷하다. 지난달 8일 서울중앙지방법원에서 열린 역삼동 래미안그레이튼(전용면적 142㎡) 경매에서도 응찰자가 나오지 않았다. 이 물건 감정가는 29억8000만원으로 지난해 4월 매매시장에서 거래된 동일 면적 물건 매매가(31억원) 대비 1억원 이상 낮다.서울 아파트 경매시장은 지난해 10월까지만 해도 낙찰률이 70%에 이를 정도로 '불장'이었다. 당시 서울 아파트 낙찰가율(감정가 대비 낙찰가)은 119.9%로 월간 기준 역대 최고치를 기록할 정도였다. 물건 감정가가 경매 일시보다 통상 3~6개월 전에 결정되기 때문에 상승장에서 시세 차익을 보려는 투자자들 발길이 몰렸다.하지만 최근 들어 경매시장에서 관망세가 커졌다. 응찰자는 급감했고 하늘 높은 줄 모르고 치솟던 낙찰가율도 큰 폭으로 떨어졌다. 지난해 9월까지만 해도 서울 아파트 기준 평균 응찰자는 7.2명이었지만 지난달 3.4명으로 반 토막이 났다. 낙찰가율도 같은 기간 115%에서 103.3%로 떨어졌다.인천 아파트 경매시장 역시 상황은 비슷하다. 지난해 8월부터 10월까지 120%대로 높은 낙찰가율을 보였던 인천 아파트 경매시장은 12월 낙찰가율이 105.7%로 전달(111.9%) 대비 6.2%포인트 하락했다. 평균 응찰자 역시 전달보다 1.1명 줄어 연중 최저치인 4.7명으로 집계됐다. 지방 5대 광역시 아파트 낙찰가율도 지난달 모두 하락했다. 하락 폭이 가장 컸던 지역은 울산으로 전월(108.2%) 대비 14.2%포인트 떨어지며 94%를 기록했다. 울산 아파트 낙찰가율이 100%대 아래로 내려간 것은 지난해 7월(97.2%) 이후 5개월 만이다. 부산(94.7%), 대구(95.1%), 대전(97.1%)도 낙찰가율이 100%를 밑돌았다.업계에서는 대출 규제가 경매시장에 강한 영향을 미치고 있는 것으로 분석한다. 경매 물건을 담보로 받는 경락잔금대출은 주택담보대출의 일종으로 관리돼 정부 규제를 동일하게 적용받는다. 대출 규제로 돈줄이 막히면서 수요자들의 경매시장 진입에 제약이 커진 것으로 보인다.\\n]\",\n",
              " '[\\n\\t\\t\\t        대출 규제와 금리 인상 등의 영향으로 아파트 ‘거래절벽’이 심화되고 있는 가운데, 초소형 아파트 매매는 오히려 늘어난 것으로 나타났다. 대출 규제 영향을 덜 받다 보니 실거주 수요자들의 거래는 원활하게 이어졌던 셈이다.\\n\\n\\n\\n지난달 서울 남산에서 바라본 시내 아파트 모습 / 연합뉴스        10일 한국부동산원에 따르면, 작년 11월 전국 전용면적 40㎡ 미만 초소형 아파트 매매 건수는 3746건으로 전달(3644건)에 비해 2.8% 증가했다. 같은 기간 전용 60㎡ 초과 중·대형 평형의 매매 건수는 2만5382건에서 2만1606건으로 14.9% 감소한 것과 대조적이다.전체 아파트 매매량에서 초소형 아파트가 차지하는 비율도 높아졌다. 작년 11월 전국 아파트 매매량 4만1141건에서 초소형 아파트 매매량이 차지하는 비율은 9.1%로 재작년 동기(5.4%) 대비 3.7% 포인트(P) 증가했다. 중·대형 아파트의 비중은 재작년 11월 61.9%에서 작년 11월 52.5%까지 떨어졌다.초소형 아파트의 강세는 서울에서 더욱 두드러졌다. 지난해 11월 서울의 전용 40㎡ 미만 초소형 아파트 매매 건수는 424건으로 전달(359건)에 비해 18.1% 증가했다. 반면, 중·대형 평형의 매매 건수는 1598건에서 1192건으로 감소했다. 거래절벽이 중·대형 평형 아파트에 집중된 것이다.서울에서 초소형 아파트 매수세는 주로 서부권에 몰렸다. 작년 11월 서울에서 초소형 아파트 매매량이 가장 많은 곳은 영등포구(57건)다. 이외 ▲강동구·은평구 36건 ▲강서구 35건 ▲서초구 29구 ▲강남구 28건 ▲동대문구 23건 ▲노원구 19건 ▲구로구 18건 ▲관악구 16건 등이다. 상위 10개 자치구 중 6개가 서부권이다.영등포구에서 매매량이 가장 많은 아파트는 영등포동 ‘헤렌어반’이다. 전체 가구수가 147가구인 이 단지는 지난 11월 한달 간 7가구가 매매됐다. 11월 동안 매매된 7개 모두 전용면적 12~13㎡ ‘원룸형’ 아파트다. 강동구에서 지난 11월 가장 많이 매매 계약이 체결된 아파트도 전용 14~19㎡로 구성된 ‘에스아이팰리스센트럴 성내’다.일부 지역의 초소형 아파트는 신고가를 경신하고 있다. 서울 도봉구 창동 ‘주공 18단지’ 전용 32.3㎡은 지난해 11월 5억4000만원에 거래됐다. 직전 매매가인 5억1000만원보다 3000만원 상승한 것으로, 작년 초 매매가가 4억3500만원이었던 것과 비교하면 11개월 간 상승률이 24.1%에 달한다.초소형 아파트 매매량이 줄곧 상승세를 이어온 것은 아니다. 작년 5월 720건을 기록했던 서울의 초소형 아파트 매매건수는 6월 500건대로 떨어지더니 10월 369건까지 내려 앉았다. 그러나 11월 들어 다시 증가세로 돌아섰다. 작년 11월 기준, 1년간 서울 초소형 아파트 매매량은 24.7% 감소했는데, 중·대형 평형 매매량의 감소폭(-55.0%)의 절반도 채 되지 않는다.다른 수도권 지역의 초소형 아파트 거래량도 서울과 비슷한 추이를 보고 있다. 지난 11월 경기와 인천의 초소형 아파트 매매량은 각각 516건과 212건으로, 전달에 비해 소폭 줄어들었다. 작년 11월 기준, 1년간 매매량 감소폭은 경기 35.5%, 인천 8.6%로 50~60%대를 오가는 중·대형 아파트 매매량 감소폭 보다 작았다.윤지해 부동산R114 수석연구원은 “최근 부동산 매매시장은 무주택자가 1주택자가 되거나, 1주택자가 갈아타는 등 실수요자 시장으로 재편됐다”면서 “실수요자 중심으로 시장이 돌아가다보니, 중·대형 평형 아파트는 가격 진입 장벽이 높아 초소형으로 매수세가 이동하고 있다. 한동안 ‘노·도·강’ 아파트가 각광받았던 것과 비슷한 이유”라고 했다.\\n]',\n",
              " '[\\n\\n\\n\\n\\n[서울=뉴시스] 추상철 기자 = 이번주 서울의 아파트 매매가격이 0.02% 오르면서 20개월 만에 가장 낮은 주간 변동률을 기록해 이번 달 내로 하락 전환 가능성이 유력해 지고 있다 9일 오후 서울 송파구의 한 공인중개사 사무소에 급매물 안내문이 부착돼 있다. 2022.01.09. scchoo@newsis.com[사진 영상 제보받습니다] 공감언론 뉴시스가 독자 여러분의 소중한 제보를 기다립니다. 뉴스 가치나 화제성이 있다고 판단되는 사진 또는 영상을 뉴시스 사진영상부(n-photo@newsis.com)로 보내주시면 적극 반영하겠습니다.\\n]',\n",
              " '[\\n\\n\\n\\n\\n서울 일대 아파트 전경(사진=연합뉴스)매매시장에 이어 서울 아파트 전세시장도 급격히 얼어붙고 있다. 대치·잠실·목동 등 학군 수요가 많은 서울시내 주요 지역에서도 ‘급전세’가 늘며 하락 거래가 속출하는 모습이다. 지난해 전셋값이 급등한데 따른 가격 부담에 대출규제, 금리 상승까지 겹치면서 세입자들의 이탈이 잇따르기 때문으로 보인다.\\n\\n\\n\\n10일 한국부동산원에 따르면 이달 첫째 주(3일 기준) 서울 아파트 전세수급지수는 94.5를 기록해 전주(95.7)보다 1.2포인트 떨어졌다. 서울 전세수급지수는 지난해 12월 들어 약 1년 6개월 만에 기준점인 100 이하로 떨어진 이후 5주 연속 기준선을 밑돌았다. 전세수급지수가 기준선보다 낮으면 수요보다 공급이 많다는 의미다.서울 주요지역에서는 전세 실거래가가 수억원 떨어진 곳이 목격되고 있다. 국토교통부 실거래가 공개시스템에 따르면 송파구 잠실동 엘스 84.8㎡(전용면적)는 지난해 11월에 역대 최고가인 15억원에 두 건의 전세계약이 체결됐지만 12월에는 12억3000만원으로 2억7000만원이나 떨어졌다.학군 1번지로 불리는 대치동과 목동 일부 단지도 마찬가지다. 강남구 대치동 은마 84.43㎡는 지난해 10월 최고 11억원까지 전셋값이 뛰었지만 지난해 말에는 8억2000만원에 신규거래가 이뤄졌다. 양천구 목동 신시가지7단지 66.6㎡는 지난해 11월 8억7000만원에 거래됐지만 12월 들어서는 7억원에 전세계약이 체결됐다.서울시내 전반적인 가격 상승세도 둔화됐다. 지난해 12월 첫재 주 0.10%였던 서울 아파트 전세가격 상승률은 이달 첫째 주에는 0.02%로 사실상 보합세를 기록했다. 성북구와 금천구는 각각 -0.01%의 하락세를 나타내기도 했다. 노원·은평·서대문구는 상승률이 0.00%로 집계되며 상승세가 멈췄다.쌓이는 전세 매물… 대출규제·금리인상으로 자금조달 부담 커져이같은 기류 변화는 매물 적체 때문으로 풀이된다. 부동산 정보업체 아파트실거래가(아실)에 따르면 서울 아파트 전세 매물은 9일 기준 3만1261건으로 두 달 전인 지난해 11월 9일(2만9200건)보다 2061건(7%) 늘었다.  이 기간 양천구는 683건에서 1031건으로 348건(50.9%), 서대문구는 716건에서 1007건으로 291건(40.6%)으로 매물이 급증했다. 송파구 역시 2916건에서 3616건으로 700건(24%) 증가했다.이에 더해 지난해부터 아파트 단지마다 전셋값이 급등하자 계약갱신청구권을 행사해 기존 계약을 갱신하는 경우가 점점 늘어나면서 새로운 전세 수요가 확 줄어든 것으로 보인다. 최근 들어 대출규제와 금리인상까지 겹치면서 세입자들의 자금조달 부담도 커졌다.송승현 도시와 경제 대표는 \"대출규제와 금리인상 등으로 자금조달에 대한 영향을 받으면서 수요자들이 그동안 크게 오른 전셋값을 감당하기 어려워진 분위기\"라며 \"급전세가 아니면 임대인과 임차인 간의 가격 형성이 쉽게 이뤄지지 않으면서 매물이 쌓이고 있는 것으로 보인다\"라고 설명했다.\\n]',\n",
              " '[\\n40% 넘게 올랐다 하락 반전한 세종신고가 대비 1억원 이상 떨어진 거래 \\'수두룩\\'수요 부진·물량 폭탄에 집값 \\'발목\\'\\n\\n\\n\\n세종시 다정동 인근 아파트 전경. 사진=이송렬 기자\"지금은 세종에서 집을 사려는 사람도, 팔려는 사람도 없습니다. 가격이 너무 비싸다는 인식이 많은 거죠\", \"수도 천도론 얘기가 나온 이후 전국에서 투자자들이 몰려왔었죠. 근데 (천도론이) 흐지부지된 이후 투자자들이 많이 떠났습니다. 거의 실수요자들만 남은 상황이에요.\" (세종시 일대 부동산 공인 중개업소 관계자들)지난해 전국 아파트값이 대부분 올랐지만 유일하게 된서리를 맞은 곳이 있다. 바로 세종시다. 2020년 42.37% 뛰었지만 지난해에는 0.68% 하락했다. 집값이 가장 많이 치솟았던 지역이 1년 새 가장 오르지 않은 지역으로 돌변한 것이다. 천도론에 몰려왔던 투자자들은 죄다 빠져나갔고, 지난해 중순부터 이어지고 있는 ‘공급 폭탄’이 집값에 영향을 주고 있다는 게 현지에 있는 부동산 중개업소들의 설명이다. 하락 거래 나오는 세종시 아파트10일 국토교통부 실거래가 공개시스템에 따르면 정부세종청사 인근 도담동에 있는 \\'도램마을 14단지(한림풀에버)\\' 전용 99㎡는 이달 10억7000만원에 매매가 이뤄졌다. 지난해 기록한 신고가(11억8000만원)보다 1억1000만원 내린 수준이다. 인근 단지인 \\'도램마을 9단지(제일풍경채)\\' 전용 106㎡도 지난해 11월 12억2000만원에 팔렸는데, 신고가(14억4500만원)보다는 2억2500만원 내린 수준이고 직전 거래 13억2000만원보다는 1억원 떨어졌다.아름동에 있는 \\'범지기마을 7단지 호반에코시티\\' 전용 84㎡는 지난해 11월 5억7500만원에 새주인을 찾았는데 직전 신고가(6억6000만원)보다 8500만원 내렸고, \\'범지기마을 1단지(한양수자인에듀센텀)\\' 전용 59㎡는 지난해 12월 4억4000만원에 팔려 신고가(6억원)보단 1억6000만원이 하락했다.\\n\\n\\n\\n세종시 아파트 전경. 사진=이송렬 기자고운동에 있는 \\'가락마을9단지(신동아 파밀리에)\\' 전용 59㎡도 작년 12월 4억5000만원에 거래됐는데 직전 거래(4억6000만원)보다는 1000만원 떨어졌고, 신고가(5억원) 대비로는 5000만원 하락했다. \\'가락마을 20단지(호반베르디움5차)\\'도 지난해 11월 6억700만원에 새 주인을 찾았는데, 신고가(6억9800만원)보다 9200만원 내린 가격에 매매 계약이 맺어졌다.종촌동에 있는 \\'가재마을12단지\\' 전용 84㎡도 지난해 12월 7억1500만원에 거래됐는데 올해 신고가(8억5000만원)보다 1억3500만원 내렸고, \\'가재마을3단지\\' 전용 108㎡ 역시 지난해 말 7억5000만원에 매매 계약이 맺어져 직전 신고가(8억7000만원)보다 1억2000만원 떨어졌다.현지에서는 세종시 부동산 시장 침체가 가격 급등에 따른 피로감 때문이라고 보고 있다. 세종시 어진동에 있는 A 공인 중개 대표는 \"세종시 최근 부동산 시장은 조용하다\"며 \"사려는 실수요자들도 없지만 팔려는 집주인들도 없다\"고 평가했다. \"가격 급등에 실수요자들 부담\"…늘어나는 \\'공급\\'도 부담한국부동산원에 따르면 세종시 집값은 2020년 42.37% 치솟아 전국에서 나 홀로 급등했다. 같은 해 두 번째로 많이 오른 지역이 대전 유성구(22.58%)였는데 20%포인트가량 차이 난다. 당시 집값 급등의 원인은 \\'세종 천도론\\' 때문이었다. 2020년 7월 김태년 더불어민주당 의원(당시 원내대표)은 \"행정수도를 제대로 완성할 것을 제안한다. 국회가 통째로 세종시로 내려가야 한다\"며 \"적극적인 논의를 통해 청와대와 정부 부처도 모두 이전해야 한다\"며 서울에 남아 있는 정부 부처의 세종시 이전을 주장했다. 당시 정부도 \"국회에서 여야 공감대를 만들면 추동력이 생길 수 있다\"고 말해 천도론을 부채질하기도 했다.세종시 나성동에 있는 B 공인 중개 관계자는 \"천도론 얘기가 나온 이후 인근에 있는 대전부터 전국에 있는 투자자들이 세종을 주목했다\"며 \"행정 수도가 이전하면 인프라가 구축될 것이라는 기대 심리가 커지면서 집값이 뛰었다\"고 했다. 하지만 최근 분위기는 다르다는 게 기 관계자의 설명이다. 그는 \"행정 수도 이전에 대한 기대감이 떨어지면서 투자자들이 세종시를 많이 빠져나갔다\"며 \"투자 수요로 오른 가격을 실수요가 받지 못하는 상황이 이어지다 보니 하락 거래가 나오는 것\"이라고 봤다.\\n\\n\\n\\n세종자이 더 시티 공사현장과 멀리보이는 세종시 아파트들. /  사진=이송렬 기자이러한 와중에 공급이 늘어난 점도 가격 부진 원인 가운데 하나로 꼽힌다. 부동산 정보 제공 앱(응용프로그램) 아파트 실거래가에 따르면 2020년 세종시 입주 물량은 4287가구였는데, 지난해엔 7668가구로 3000가구 이상 늘었다. 작년 상반기엔 공급 물량이 1716가구에 불과했지만 하반기에 5952가구가 몰리면서 집값에 영향을 줬다는 게 현지에서의 얘기다.세종시 아름동에 있는 C 공인 중개 관계자는\"지난해 공급 물량이 직전 연도보다 더 많았다는 점도 집값이 부진한 이유 중에 하나\"라며 \"일부 갈아타기를 하려는 실수요자들이 잔금은 마련해야겠고 기존 살고 있던 집은 안 나가니 울며 겨자 먹기로 기존 집을 싸게 내놓은 경우도 있는 것으로 알고 있다\"고 했다.그러면서 \"물량을 받을 실수요자들은 적은데 공급은 계속되니 매물이 쌓이면서 가격이 내린 것 아니겠느냐\"며 \"공급 물량이 어느 정도 해소되는 시점에 집값 반등 얘기할 수 있지 않겠느냐\"고 귀띔했다. \"2030년까지 계획된 도시, 반등 여력 충분\"세종시는 수요 위축과 공급 증가로 집값이 떨어지고 있지만, 일각에서는 현 상황이 급등에 따른 \\'일시적인 조정기\\'라고 보는 시각도 있다. 세종시 자체가 2030년까지 개발이 계획된 도시로, 성장 가능성이 남았다는 판단에서다. 지난해 9월 세종시에 국회의사당 분원을 설치하는 국회법 개정안이 본회의를 통과하면서 ‘천도론’이 다시 떠오르고 있는 상황이기도 하다.고운동에 있는 D 공인 중개 관계자는 \"세종시에 사는 실수요자들은 2030년까지 세종시가 계속 개발될 것이라고 보고 집값이 주춤한 현 상황에 대해 \\'일시적 조정기\\'로 보고 있다\"며 \"향후 행정 수도 이전 등이 가시화되면 인근 도시에서 세종으로 이주하는 수요가 있지 않겠냐\"며 \"길게 보면 결국 집값은 우상향할 것\"이라고 주장했다.한편 한국부동산원이 발표하는 주간 아파트 가격 동향에 따르면 세종 집값은 지난해 0.68% 떨어져 유일하게 집값이 하락한 지역이 됐다. 작년 5월 셋째 주(17일) 처음으로 0.10% 내려 하락 반전한 이후 등락을 지속하다가 7월 넷째 주(26일)부터 23주 연속 내림세를 유지했다. 지난해 12월 마지막 주(27일)엔 하락 폭이 0.63%에 달했다.\\n]',\n",
              " \"[\\n\\n\\n\\n\\n최근 서울 아파트 매매 시장에 이어 전세 시장도 가격이 내려가는 모습이 나타나며, 전셋값도 약세로 돌아설 수 있단 전망이 나오고 있습니다.서울부동산정보광장의 전세 실거래가를 보면, 서울 일부 단지 등의 신규 전세 계약에서 앞선 거래보다 가격이 하락한 사례가 잇따라 나타났습니다.또 한국부동산원의 서울 아파트 전세수급지수도 94.5로 5주 연속 기준선 100을 밑돌아 수요보다 공급이 많았고, 지수 자체도 하락세입니다.이는 2년 4개월 만의 최저치인데, 최근 대출 규제로 신규 수요가 줄며, 세입자 구하기가 어려운 집주인들이 값을 내리는 것으로 풀이됩니다.하지만 계약갱신청구권을 고려한 집주인들이 4년 치를 한꺼번에 올리려는 경우도 여전해 전셋값 안정을 낙관하긴 이르단 지적도 나옵니다.※ '당신의 제보가 뉴스가 됩니다'[카카오톡] YTN 검색해 채널 추가[전화] 02-398-8585[메일] social@ytn.co.kr\\n\\t\\t]\",\n",
              " '[\\n유권자와 함께하는 대선 정책 ‘나의 선거, 나의 공약’②집을 포기했다: 23명의 이야기 上편“재개발은 집주인만 좋은 일”“10년 거주 공공임대 분양가 폭등”\\n\\n\\n\\n왼쪽부터 폭등한 집값과 전셋값 문제를 지적한 이문수(가명·45)씨, 화성 동탄 분양전환 공공임대 임주자 이석주(39)씨, 공공임대 보증금 부담을 호소한 장중근(35)씨 ※ 이미지를 누르면 크게 볼 수 있습니다.&lt;한겨레&gt;가 만난 무주택자 23명은 유례없는 집값 폭등이 이어진 문재인 정부를 지나며 후회와 배신감, 좌절과 낙담과 같은 감정을 가감 없이 쏟아냈다. 다만 소득과 자산 수준에 따라 마음가짐은 달랐다. 애초 실명을 전제로 인터뷰에 응한 이들 중 일부는 전세보증금과 월세, 소득과 자산, 부채 등 경제적 프라이버시를 털어놓은 뒤 익명 요구로 전환했다.\\n\\n\\n\\n후회: “그때 집을 샀어야”“경기도 부천에 사는 친구들이 저한테 ‘집 샀냐’고 물어봐서 아니라고 하니까 ‘벼락거지네’ 이러더라고요. 현타(현실 자각 타임)가 왔죠.” 서울 영등포구 당산동 전용 84㎡ 아파트에 보증금 4억원에 40만원 월세로 살고 있는 윤영민(가명·42)씨가 한 말이다. 그가 2014년 6억원대에 살 기회를 놓친 마포래미안푸르지오 전용 84㎡ 아파트는 지난해 최고 실거래가 19억3500만원(110A타입)을 찍었다.한국부동산원 자료를 보면, 문재인 정부가 출범한 2017년 5월 5억7천만원이었던 평균 아파트 매매가격은 지난해 11월 11억4천만원으로 4년6개월 만에 2배로 올랐다. 서울의 평균 아파트 매매가격은 2018년 12월까지만 해도 7억1천만원이었다. 398만가구 중 51.5%(205만가구)가 무주택인 서울에서 ‘벼락거지’와 같은 자조가 횡행하고 “2017년 이전으로 돌아가자”는 ‘타임슬립’ 요구가 빗발친 까닭이다.폭등한 시세는 공공분양 분양가에 반영돼 공공 공급대책을 바라던 시민들을 절망케 했다. 분양가의 상당 부분을 차지하는 택지비가 주변 시세를 반영하는 감정평가를 통해 결정되기 때문이다. 지난해 4차 사전청약에서 공급된 서울 대방 신혼희망타운 분양가는 7억2천만원에 이르렀다. 2020년 신혼부부 연평균 소득(5989만원)을 한푼도 쓰지 않고 12년 동안 모아야 손에 쥘 수 있는 금액이다. 지난해 8월 일곱번째 3기 새도시로 발표된 의왕·군포·안산 지구도 비슷하다. 2018년 이곳에 전세 2억4천만원을 주고 입주한 강주현(37)씨는 당시 2억9천만원이던 매맷값이 최근 6억원 이상으로 뛰었다고 했다. “안 산 내가 바보죠. 집을 못 샀다는 분노나 후회로 너무 고통을 받아서 지금은 체념한 상태예요.”\\n\\n\\n\\n ※ 이미지를 누르면 크게 볼 수 있습니다.배신감: “정부에 사기당해”2기 새도시인 파주 운정의 ‘10년 분양전환 공공임대’에서 절망은 극대화했다. 박혜민(가명·38)씨는 지난해 8월 분양전환을 두달 앞둔 공공임대 주택인 운정 한울마을 6단지에 입주했다. 건설 현장에서 착실하게 일해온 남편과 아이 둘을 낳으면서 예비번호 18번을 받고 1년 반을 기다린 결과였다. “내 집 마련하라고 하늘이 주신 기회”라고 생각했다.하지만 두달 뒤 통보받은 분양가는 4억6천만원이었다. 10년 분양전환 공공임대는 만기분양 이전이라도 5년 지난 시점부터 조기분양이 가능한데, 파주 운정에선 9년차인 2020년 조기분양을 했다. 이때 분양가가 2억3천만원이었는데 몇달 사이 2배로 오른 것이다. “저희가 4억6천만원을 마련할 수 있었으면 신혼부부 특별공급으로 민간분양 아파트에 들어갔겠죠. 10년 된 아파트 분양가가 주변 신축 분양가보다 비싼 게 말이 되나요? 정부한테 사기당한 것 같아요.”파주 운정은 문재인 정부 부동산 정책의 대표적인 실책으로 꼽히는 ‘핀셋 규제’와 ‘풍선 효과’의 직격탄을 맞았다. 대출 규제 등이 적용되는 ‘조정대상지역’을 32곳 신규 지정해 69곳으로 늘린 2020년 6·17 대책 때 2기 새도시가 있는 김포와 파주가 제외되면서 일단 사고 보자는 추격매수 수요가 이곳으로 대거 쏠렸다. 이에 한울 6단지 인근 한빛마을 4단지 롯데캐슬파크(전용 84㎡)의 실거래가는 6·17 대책 이전에 4억원대였는데, 이후 5억원대로 뛰었고, 지난해 최고가가 8억원으로 치솟았다. 한국토지주택공사(LH·엘에이치)에 따르면, 연도별로 순차 분양전환을 앞둔 10년 분양전환 공공임대 주택이 수도권에만 48개 단지 1만2433호에 달한다. 엘에이치 인천지역본부는 “파주의 경우 지티엑스(GTX) 노선 관련 호재 등 최근 거래 시세 급등으로 가격 격차가 발생한 것으로 추정된다”고 밝혔다.2017년 화성 동탄의 10년 분양전환 공공임대에 입주한 이석주(39)씨는 공공주택 제도가 자산형성을 가로막고 있다고 했다. 입주민들은 올해 이 주택을 조기분양 받을 수 있게 되는데, 주변 시세 7억5천만원을 기준으로 분양전환가가 6억원 정도 될 것으로 보고 있다. “입주 때 공급가(일종의 분양원가)가 2억5천만원이었어요. 이게 6억원이 됐으면 3억5천만원은 엘에이치가 가져가는 거잖아요. 자산이 없어서 민간분양 못 받고 공공임대로 들어왔는데, 3억원대 민간분양 받은 사람들은 시세 6억원이 자산이 되는데 저는 부채가 될 판이에요. 이렇게 차이가 나도 됩니까?”\\n\\n\\n\\n왼쪽부터 민간분야보다 비싼 분양전환가에 화난 박혜민(가명)씨, ‘벼락거지’가 됐음을 체감한다는 윤영민(가명·42)씨위기: 보증금도 없는 사람들유권자들은 이렇게 시세를 반영해 치솟고 있는 공공주택 분양가 등에 대한 공약을 요구하고 있지만, 윤석열 국민의힘 후보는 재개발·재건축 완화로 민간공급을 확대하겠다는 기조다. 이재명 더불어민주당 후보도 기본주택 100만호 외에 민간공급을 위한 규제 완화를 적극 검토한다는 입장이다. 그러나 민간공급 확대는 재개발 지역 무주택 세입자들의 ‘주거 위기’로 직결될 우려가 크다.홍유정(가명·32)씨는 아픈 노모와 둘이 살면서 ‘스리잡’으로 월 200만원 정도 번다. 오래전 가족이 남긴 부채도 떠안고 있다. 중학교 1학년이던 2003년부터 성북구 장위동의 반지하에 살았는데, 이 지역이 민간 재개발에 들어가면서 지난해 3월 집에서 “쫓겨났다.” 세입자 이주비 1600만원은 체납 임대료를 갚느라 집주인에게 넘어갔다. “(재개발 조합이 운영하는) 이주센터에서 공공임대 주택을 신청하라고 했는데, 보증금이 2300만원부터 4천만원까지 있더군요. ‘당신들 쫓겨나는 거니까 나라에서 이렇게 지원해주는 거다’라고 해서 저는 보증금을 해결해주는 줄 알았는데, 그만큼 돈이 있어야 한다는 얘기였어요.”노숙의 위기에 처한 홍씨 모녀를 구한 건 성북주거복지센터였다. 지난해 12월23일 센터의 지원으로 보증금 50만원, 월세 35만원인 ‘무보증’ 매입임대에 입주했다. 임대주택이지만 20년 거주 기간이 보장되는 이 집을 두고 홍씨는 “내 집”, “로또”라는 표현을 썼다. “저는 지금까지 실패한 사람이라고 생각했거든요. 그런데 이제 5만원이라도 적금 들고 실비보험이라도 들려고 해요.” 김선미 성북주거복지센터장은 “일본처럼 조세를 부담능력에 맞게 ‘응능’ 부담하고, 행정 서비스를 받는 이익의 양에 따라 ‘응익’ 부담하는 제도가 아니라 시세를 기준으로 보증금을 결정하다 보니 보증금이 없어서 공공임대 입주를 포기하는 분들이 적지 않다”고 말했다.[유권자와 함께하는 대선 정책 ‘나의 선거, 나의 공약’]②집을 포기했다: 23명의 이야기 下편“너네 집 전세야?” 월급으론 따라갈 수 없는 집값https://www.hani.co.kr/arti/politics/politics_general/1026671.html진명선 노지원 김용희 기자 torani@hani.co.kr※여기를 클릭하면 ‘나의 선거, 나의 공약-집을 포기했다’ 신문기사를 볼 수 있습니다.\\n\\n\\n\\n※&lt;한겨레&gt;가 유권자와 함께하는 대선 기획 ‘나의 선거, 나의 공약’은 취재원 실명 보도를 원칙으로 합니다. 공익적 가치를 구현하고자 실명 취재에 응한 시민의 불이익 위험을 최소화하기 위해 &lt;한겨레&gt; 누리집과 포털사이트 네이버에 전송되는 한겨레 기사의 댓글창을 닫습니다.\\n\\t\\t]',\n",
              " \"[\\n\\n\\n\\n\\n최근 서울 아파트 매매 시장에 이어 전세 시장도 가격이 내려가는 모습이 나타나며, 전셋값도 약세로 돌아설 수 있단 전망이 나오고 있습니다.서울부동산정보광장의 전세 실거래가를 보면, 서울 일부 단지 등의 신규 전세 계약에서 앞선 거래보다 가격이 하락한 사례가 잇따라 나타났습니다.또 한국부동산원의 서울 아파트 전세수급지수도 94.5로 5주 연속 기준선 100을 밑돌아 수요보다 공급이 많았고, 지수 자체도 하락세입니다.이는 2년 4개월 만의 최저치인데, 최근 대출 규제로 신규 수요가 줄며, 세입자 구하기가 어려운 집주인들이 값을 내리는 것으로 풀이됩니다.하지만 계약갱신청구권을 고려한 집주인들이 4년 치를 한꺼번에 올리려는 경우도 여전해 전셋값 안정을 낙관하긴 이르단 지적도 나옵니다.※ '당신의 제보가 뉴스가 됩니다'[카카오톡] YTN 검색해 채널 추가[전화] 02-398-8585[메일] social@ytn.co.kr\\n\\t\\t]\",\n",
              " '[\\n유권자와 함께하는 대선 정책 ‘나의 선거, 나의 공약’②집을 포기했다: 23명의 이야기 上편“재개발은 집주인만 좋은 일”“10년 거주 공공임대 분양가 폭등”\\n\\n\\n\\n왼쪽부터 폭등한 집값과 전셋값 문제를 지적한 이문수(가명·45)씨, 화성 동탄 분양전환 공공임대 임주자 이석주(39)씨, 공공임대 보증금 부담을 호소한 장중근(35)씨 ※ 이미지를 누르면 크게 볼 수 있습니다.&lt;한겨레&gt;가 만난 무주택자 23명은 유례없는 집값 폭등이 이어진 문재인 정부를 지나며 후회와 배신감, 좌절과 낙담과 같은 감정을 가감 없이 쏟아냈다. 다만 소득과 자산 수준에 따라 마음가짐은 달랐다. 애초 실명을 전제로 인터뷰에 응한 이들 중 일부는 전세보증금과 월세, 소득과 자산, 부채 등 경제적 프라이버시를 털어놓은 뒤 익명 요구로 전환했다.\\n\\n\\n\\n후회: “그때 집을 샀어야”“경기도 부천에 사는 친구들이 저한테 ‘집 샀냐’고 물어봐서 아니라고 하니까 ‘벼락거지네’ 이러더라고요. 현타(현실 자각 타임)가 왔죠.” 서울 영등포구 당산동 전용 84㎡ 아파트에 보증금 4억원에 40만원 월세로 살고 있는 윤영민(가명·42)씨가 한 말이다. 그가 2014년 6억원대에 살 기회를 놓친 마포래미안푸르지오 전용 84㎡ 아파트는 지난해 최고 실거래가 19억3500만원(110A타입)을 찍었다.한국부동산원 자료를 보면, 문재인 정부가 출범한 2017년 5월 5억7천만원이었던 평균 아파트 매매가격은 지난해 11월 11억4천만원으로 4년6개월 만에 2배로 올랐다. 서울의 평균 아파트 매매가격은 2018년 12월까지만 해도 7억1천만원이었다. 398만가구 중 51.5%(205만가구)가 무주택인 서울에서 ‘벼락거지’와 같은 자조가 횡행하고 “2017년 이전으로 돌아가자”는 ‘타임슬립’ 요구가 빗발친 까닭이다.폭등한 시세는 공공분양 분양가에 반영돼 공공 공급대책을 바라던 시민들을 절망케 했다. 분양가의 상당 부분을 차지하는 택지비가 주변 시세를 반영하는 감정평가를 통해 결정되기 때문이다. 지난해 4차 사전청약에서 공급된 서울 대방 신혼희망타운 분양가는 7억2천만원에 이르렀다. 2020년 신혼부부 연평균 소득(5989만원)을 한푼도 쓰지 않고 12년 동안 모아야 손에 쥘 수 있는 금액이다. 지난해 8월 일곱번째 3기 새도시로 발표된 의왕·군포·안산 지구도 비슷하다. 2018년 이곳에 전세 2억4천만원을 주고 입주한 강주현(37)씨는 당시 2억9천만원이던 매맷값이 최근 6억원 이상으로 뛰었다고 했다. “안 산 내가 바보죠. 집을 못 샀다는 분노나 후회로 너무 고통을 받아서 지금은 체념한 상태예요.”\\n\\n\\n\\n ※ 이미지를 누르면 크게 볼 수 있습니다.배신감: “정부에 사기당해”2기 새도시인 파주 운정의 ‘10년 분양전환 공공임대’에서 절망은 극대화했다. 박혜민(가명·38)씨는 지난해 8월 분양전환을 두달 앞둔 공공임대 주택인 운정 한울마을 6단지에 입주했다. 건설 현장에서 착실하게 일해온 남편과 아이 둘을 낳으면서 예비번호 18번을 받고 1년 반을 기다린 결과였다. “내 집 마련하라고 하늘이 주신 기회”라고 생각했다.하지만 두달 뒤 통보받은 분양가는 4억6천만원이었다. 10년 분양전환 공공임대는 만기분양 이전이라도 5년 지난 시점부터 조기분양이 가능한데, 파주 운정에선 9년차인 2020년 조기분양을 했다. 이때 분양가가 2억3천만원이었는데 몇달 사이 2배로 오른 것이다. “저희가 4억6천만원을 마련할 수 있었으면 신혼부부 특별공급으로 민간분양 아파트에 들어갔겠죠. 10년 된 아파트 분양가가 주변 신축 분양가보다 비싼 게 말이 되나요? 정부한테 사기당한 것 같아요.”파주 운정은 문재인 정부 부동산 정책의 대표적인 실책으로 꼽히는 ‘핀셋 규제’와 ‘풍선 효과’의 직격탄을 맞았다. 대출 규제 등이 적용되는 ‘조정대상지역’을 32곳 신규 지정해 69곳으로 늘린 2020년 6·17 대책 때 2기 새도시가 있는 김포와 파주가 제외되면서 일단 사고 보자는 추격매수 수요가 이곳으로 대거 쏠렸다. 이에 한울 6단지 인근 한빛마을 4단지 롯데캐슬파크(전용 84㎡)의 실거래가는 6·17 대책 이전에 4억원대였는데, 이후 5억원대로 뛰었고, 지난해 최고가가 8억원으로 치솟았다. 한국토지주택공사(LH·엘에이치)에 따르면, 연도별로 순차 분양전환을 앞둔 10년 분양전환 공공임대 주택이 수도권에만 48개 단지 1만2433호에 달한다. 엘에이치 인천지역본부는 “파주의 경우 지티엑스(GTX) 노선 관련 호재 등 최근 거래 시세 급등으로 가격 격차가 발생한 것으로 추정된다”고 밝혔다.2017년 화성 동탄의 10년 분양전환 공공임대에 입주한 이석주(39)씨는 공공주택 제도가 자산형성을 가로막고 있다고 했다. 입주민들은 올해 이 주택을 조기분양 받을 수 있게 되는데, 주변 시세 7억5천만원을 기준으로 분양전환가가 6억원 정도 될 것으로 보고 있다. “입주 때 공급가(일종의 분양원가)가 2억5천만원이었어요. 이게 6억원이 됐으면 3억5천만원은 엘에이치가 가져가는 거잖아요. 자산이 없어서 민간분양 못 받고 공공임대로 들어왔는데, 3억원대 민간분양 받은 사람들은 시세 6억원이 자산이 되는데 저는 부채가 될 판이에요. 이렇게 차이가 나도 됩니까?”\\n\\n\\n\\n왼쪽부터 민간분야보다 비싼 분양전환가에 화난 박혜민(가명)씨, ‘벼락거지’가 됐음을 체감한다는 윤영민(가명·42)씨위기: 보증금도 없는 사람들유권자들은 이렇게 시세를 반영해 치솟고 있는 공공주택 분양가 등에 대한 공약을 요구하고 있지만, 윤석열 국민의힘 후보는 재개발·재건축 완화로 민간공급을 확대하겠다는 기조다. 이재명 더불어민주당 후보도 기본주택 100만호 외에 민간공급을 위한 규제 완화를 적극 검토한다는 입장이다. 그러나 민간공급 확대는 재개발 지역 무주택 세입자들의 ‘주거 위기’로 직결될 우려가 크다.홍유정(가명·32)씨는 아픈 노모와 둘이 살면서 ‘스리잡’으로 월 200만원 정도 번다. 오래전 가족이 남긴 부채도 떠안고 있다. 중학교 1학년이던 2003년부터 성북구 장위동의 반지하에 살았는데, 이 지역이 민간 재개발에 들어가면서 지난해 3월 집에서 “쫓겨났다.” 세입자 이주비 1600만원은 체납 임대료를 갚느라 집주인에게 넘어갔다. “(재개발 조합이 운영하는) 이주센터에서 공공임대 주택을 신청하라고 했는데, 보증금이 2300만원부터 4천만원까지 있더군요. ‘당신들 쫓겨나는 거니까 나라에서 이렇게 지원해주는 거다’라고 해서 저는 보증금을 해결해주는 줄 알았는데, 그만큼 돈이 있어야 한다는 얘기였어요.”노숙의 위기에 처한 홍씨 모녀를 구한 건 성북주거복지센터였다. 지난해 12월23일 센터의 지원으로 보증금 50만원, 월세 35만원인 ‘무보증’ 매입임대에 입주했다. 임대주택이지만 20년 거주 기간이 보장되는 이 집을 두고 홍씨는 “내 집”, “로또”라는 표현을 썼다. “저는 지금까지 실패한 사람이라고 생각했거든요. 그런데 이제 5만원이라도 적금 들고 실비보험이라도 들려고 해요.” 김선미 성북주거복지센터장은 “일본처럼 조세를 부담능력에 맞게 ‘응능’ 부담하고, 행정 서비스를 받는 이익의 양에 따라 ‘응익’ 부담하는 제도가 아니라 시세를 기준으로 보증금을 결정하다 보니 보증금이 없어서 공공임대 입주를 포기하는 분들이 적지 않다”고 말했다.[유권자와 함께하는 대선 정책 ‘나의 선거, 나의 공약’]②집을 포기했다: 23명의 이야기 下편“너네 집 전세야?” 월급으론 따라갈 수 없는 집값https://www.hani.co.kr/arti/politics/politics_general/1026671.html진명선 노지원 김용희 기자 torani@hani.co.kr※여기를 클릭하면 ‘나의 선거, 나의 공약-집을 포기했다’ 신문기사를 볼 수 있습니다.\\n\\n\\n\\n※&lt;한겨레&gt;가 유권자와 함께하는 대선 기획 ‘나의 선거, 나의 공약’은 취재원 실명 보도를 원칙으로 합니다. 공익적 가치를 구현하고자 실명 취재에 응한 시민의 불이익 위험을 최소화하기 위해 &lt;한겨레&gt; 누리집과 포털사이트 네이버에 전송되는 한겨레 기사의 댓글창을 닫습니다.\\n\\t\\t]',\n",
              " '[\\n전국 176개 시군구중 35곳이 마이너스…서울보다 경기 냉각 속도 빨라성동-광진구 등 4곳은 상승 멈춰…\\'입주 증가\\' 대전도 2년9개월만 하락한국부동산원 조사…국민은행 조사로는 마포-구리도 하락, 양측간 다소 차이\\n\\n\\n\\n\\'거래 절벽\\'으로 아파트값 하락세(서울=연합뉴스) 한상균 기자 = 6일 한국부동산원 조사에 따르면 서울 아파트값 변동률은 0.03%로, 최근 4주 연속 오름폭이 둔화됐다. 경기도 하남과 의정부시 등이 이번주 하락 대열에 새로 들어왔고, 서울 성동·광진·성북·동대문구 등 4곳은 상승세를 멈췄다.     사진은 이날 서울의 아파트 모습. 2022.1.6 xyz@yna.co.kr(서울=연합뉴스) 서미숙 기자 = 주택 시장의 \\'거래 절벽\\' 현상이 지속되면서 아파트값 하락 지역이 늘고 있다.    경기도 하남과 의정부시 등이 이번주 하락 대열에 새로 들어오며 경기지역의 아파트 시장이 빠르게 냉각되는 분위기고, 서울도 성동·광진·성북·동대문구 등 4곳이 추가로 상승세를 멈췄다.     지방도 대전 아파트값이 2년9개월 만에 떨어지는 등 거래 침체 여파가 가격 하락으로 번지는 모습이다.    6일 한국부동산원 조사에 따르면 아파트값이 공표되는 전국 176개 시군구 가운데 이번주 매매가격이 하락한 곳은 35곳으로, 지난주(30곳)보다 5곳 증가했다. 보합 지역도 지난주 10곳에서 이번주 19곳으로 늘었다.     서울의 변동률은 0.03%로, 최근 4주 연속 오름폭이 둔화된 모습이다.     대출 규제, 대선 변수 등을 앞두고 거래 시장이 극도로 침체된 가운에 급매물만 간헐적으로 팔리면서 일부 단지에서 호가를 끌어 내리는 분위기다.    강북구, 도봉구, 은평구 등 3곳은 아파트값이 일제히 0.01% 하락하며 지난주에 이어 약세가 이어졌고 금천과 관악구는 각각 3주, 4주 연속 보합세가 지속됐다.\\n\\n\\n\\n전국 아파트 가격 하락 지역 증가서울 남산에서 바라본 시내 아파트 모습. [연합뉴스 자료사진]지난주까지 통계상 상승이었던 성동·광진·동대문·성북구 등 4곳도 이번주 보합으로 전환됐다.    강남4구는 이번주에도 서초구 0.07%, 강남구 0.05%, 송파구 0.03%, 강동구 0.01% 각각 오르며 상승세가 이어졌지만 오름폭은 지난주보다 축소됐다.     경기도(0.02%)와 인천(0.07%)의 아파트값도 상승했지만 지난주(각 0.04%, 0.09%)보다 오름폭은 둔화됐다.    특히 경기도의 경우 하남시와 의정부시가 각각 0.07%, 0.02% 하락 전환하는 등 서울보다 더 빠르게 시장이 얼어붙고 있다. 두 지역의 아파트값이 떨어진 것은 하남은 2020년 5월 11일(-0.02%) 이후 약 1년8개월, 의정부시는 2020년 4월 13일(-0.01%) 이후 1년9개월 만에 처음이다.\\n\\n\\n\\n[그래픽] 수도권 아파트값 하락 지역(서울=연합뉴스) 김영은 기자 = 0eun@yna.co.kr    트위터 @yonhap_graphics  페이스북 tuney.kr/LeYN1    지난해 가파른 상승세를 보였던 안양시 아파트값도 금주 들어 보합 전환됐다. 최근 입주 물량이 증가한 안양시 동안구는 이번주(-0.02%)까지 2주 연속 약세를 보이는 등 작년 가격 급등지역의 과열 분위기가 확연히 꺾인 모습이다.     역시 지난해 아파트값이 크게 올랐던 시흥(-0.04%)과 광명(-0.03%)은 각각 2주 연속 매매가격이 하락했고, 화성시(-0.02%)는 4주 연속 마이너스를 기록했다. 의왕시는 3주 연속, 파주시는 2주 연속 제자리걸음을 했다.    지방 아파트값도 약세 지역이 늘어나는 추세다.    대구와 세종의 하락세가 지속되고 있는 가운데 대전 아파트값이 지난주 보합에서 이번주 -0.06%로 하락 전환했다. 대전 아파트값 하락은 2019년 4월 15일(-0.03%) 이후 2년9개월 만이다. \\n\\n\\n\\n세종시 아파트 모습 [연합뉴스 자료사진]지난해 11월부터 유성구 대전아이파크시티(2천560가구), 서구 갑천트시플시티(1천762가구) 등 대단지 입주가 시작되면서 전셋값 하락세가 2주 연속 이어진 데 이어 이번주 들어 매매가격도 하락한 것으로 보인다.     대전 서구와 유성구의 아파트값은 2주 연속 마이너스를 기록했고, 중구도 이번주 -0.01%로 하락 전환됐다.    전남의 아파트값은 이번주 보합을 기록하며 지난해 2월 22일(-0.04%) 이후 10개월여 만에 상승세를 멈췄다.    이로 인해 전국 아파트 매매가격도 0.03%로 지난주(0.05%)보다 오름폭이 둔화됐다.     전세시장도 방학 이사철이 무색할 만큼 안정세가 이어지고 있다.     전국 아파트 전셋값은 0.04% 올라 지난주(0.05%)보다 상승폭이 줄어든 가운데 서울(0.02%)과 경기(0.01%)는 보합에 근접했다.    서울은 이번주 성북구의 전셋값이 0.01% 떨어지며 3주 연속 하락세를 보였고, 2주 연속 제자리걸음을 하던 금천구는 이번주 0.01% 내리며 하락 전환됐다.    은평·서대문구의 전셋값은 금주 상승세를 멈췄고, 노원구는 2주 연속 보합을 기록했다.    경기도에서는 성남(-0.01%), 과천(-0.09%), 안양(-0.14%), 수원(-0.03%), 부천(-0.03%), 화성(-0.04%), 구리(-0.05%), 의정부시(-0.09%) 등에서 약세를 보였다.    한편 이날 KB국민은행이 발표한 주간 아파트값 동향에서는 부동산원 조사에서 약보합을 보인 곳 외에 서울 마포구의 아파트값이 0.01% 하락 전환돼 눈길을 끌었다. 국민은행 조사 기준으로 마포구가 떨어진 것은 2019년 4월 마지막주(-0.01%) 이후 2년8개월여 만에 처음이다.    부동산원 조사에서는 이번주 마포구 아파트값이 0.01% 상승으로 보합에 가까웠다.      또 부동산원 조사에서 서울 25개구의 아파트값이 모두 지난주보다 상승폭이 축소되거나 동일한 수준을 유지한 것과 달리 KB 조사에선 송파구가 지난주 0.05%에서 금주 0.08%로 오름폭이 커졌고 영등포구(0.07%)와 강서구(0.15%), 금천구(0.14%), 은평구(0.02%), 성동구(0.19%), 서대문구(0.10%) 등지도 지난주보다 오름폭이 확대되는 등 조사기관마다 다른 양상을 띄었다.      KB 조사에서 경기도 구리시(-0.05%)도 금주 마이너스로 돌아섰다.     전문가들은 연초에도 거래 절벽이 지속되면서 전반적으로 아파트값 하락 지역이 늘어날 것으로 예상하고 있다.    특히 수도권 외곽의 하락세가 빨라질 가능성이 있다.     KB국민은행의 이번주 서울 아파트 매매수급지수(기준선 100)는 55.3으로 지난주(50.5)보다 상승한 반면 지난주 55.2를 기록하며 서울보다 높았던 경기도는 이번주 50 이하인 48.3으로 떨어지면서 서울 외곽지역의 매수심리가 더 빠르게 얼어붙는 모습이다.     국민은행 박원갑 수석부동산전문위원은 \"일단 통계상 이달 중에 서울 전체 아파트값도 하락 전환될 가능성이 커 보인다\"며 \"다만 거래 부진에 따른 일시적인 숨고르기에 그칠지, 하락폭이 얼마나 될지는 대선 정책 변수 등을 지켜봐야 한다\"고 말했다. \\n\\n\\n\\n시도별 아파트 매매가격지수 변동률[한국부동산원 제공. 재판매 및 DB 금지]sms@yna.co.kr\\n]',\n",
              " \"[\\n한국부동산원 조사\\n\\n\\n\\n사진=연합뉴스전국적으로 아파트 매수 심리가 얼어붙고 있다. 아파트를 살 사람보다 팔 사람이 더 많아지고 있다는 설명이다. 7일 한국부동산원에 따르면 이번 주 서울 아파트 매매수급지수는 92.8까지 내려왔다. 2019년 9월9일 기록한 92.6 이후 2년 4개월 만에 최저 수준이다. 서울 아파트 시장은 8주 연속 '살 사람'보다 '팔 사람'이 많은 '공급우위'가 지속되고 있다서울을 제외한 수도권 매매수급지수도 공급우위를 보이고 있다. 경기 매매수급지수는 같은 기간 93.7을 기록해 8주 연속, 인천 매매수급지수도 99.3으로 3주 연속 100 이하를 밑돌고 있다. 지방 8개 도에서도 매매수급지수가 100 이하로 내려왔다. 지방 8개 도의 수급지수가 100 이하로 내려간 것은 2020년 11월9일(98.9) 이후 1년 2개월 만이다.이번 주 아파트값이 보합으로 전환된 전남(91.9)과 경북(99.4), 충북(98.3) 지역도 지난 주보다 지수가 떨어지며 8개 도 평균을 100 이하로 끌어내렸다. 제주는 99.0으로 지난 주와 동일한 수준을 유지했고, 경남(100.4)과 충남(101.7), 강원(102.4)은 아직 매매수급지수가 기준선보다 높지만, 지난 주보다 지수는 하락했다. 반면 전북은 지난 주 101.5에서 이번 주 102.8로 지수가 올랐다.지방 5대 광역시는 94.4로 각각 지난주보다 하락했다. 전국 아파트 매매 수급지수는 95.6으로 5주 연속 기준선을 밑돌았다.매매수급지수는 부동산원이 회원 중개업소 설문과 인터넷 매물 건수 등을 분석해 수요와 공급 비중을 지수화한 것이다. 기준선인 100을 기준으로 '0'에 가까우면 공급이 수요보다 많고, '200'에 가까우면 수요가 공급보다 많다는 뜻이다. 전국적으로 아파트를 사겠다는 사람보다 팔겠다는 사람의 비중이 커지고 있단 얘기다, \\n]\",\n",
              " '[\\n11월 매매건수 지난해 월간 최소치 경신…증여는 2개월 연속 증가작년 1∼11월 강남4구에 증여 54% 집중…강남구는 역대 최다\\n\\n\\n\\n서울아파트 \\'매매 뚝, 증여 쑥\\'…다주택자들 세부담에 증여 러시[연합뉴스 자료사진](서울=연합뉴스) 홍국기 기자 = 작년 말 정부의 초강력 대출 규제에다 종합부동산세(종부세) 고지서 발급과 금리 인상까지 겹치면서 아파트 매매는 줄었지만, 증여는 늘어난 것으로 나타났다.    4일 한국부동산원 아파트 거래 현황 통계에 따르면 작년 11월 서울의 아파트 증여는 531건(신고 일자 기준)으로 집계돼 같은 해 9월(449건)과 10월(503건)보다 많았으며, 2개월 연속 증가세를 보였다.    지난해 11월 역대급 종부세 고지서를 받아든 일부 다주택자들이 세금 득실을 따지며 상당수 증여를 택한 결과로 풀이된다.    반면 서울 아파트 매매 건수는 작년 11월 2천305건에 그쳐 같은 해 월간 최소치를 경신했다.     작년 11월은 종부세 고지서가 통보되기 시작한 것 외에도 기준금리가 1%로 인상되면서 주택 매수세가 자취를 감춘 시기다. \\n\\n\\n\\n[그래픽] 서울 아파트 매매·증여 건수 추이(서울=연합뉴스) 장예진 기자 = jin34@yna.co.kr    종부세는 그해 6월 1일 자로 과세 대상이 확정되기 때문에 이미 예고된 일이었지만, 대폭 늘어난 세 부담을 구체적으로 확인한 일부 다주택자들은 매도 여부의 저울질에 나섰다.     그러나 초강력 대출 규제가 유지되고 대출금리까지 인상되자 매수세는 급격히 위축됐다.     또 상당수 다주택자가 내년 3월 대통령 선거를 지켜보겠다며 버티기에 들어가면서 거래는 급감했다. 대선을 앞두고 주요 후보들이 양도소득세를 비롯한 세금 관련 규제 완화 공약을 내놓으면서 시장의 관망세가 더욱 짙어진 것이다. \\n\\n\\n\\n종부세 고지 명세 확인하는 시민[연합뉴스 자료사진]이런 상황에서도 일부 다주택자는 고민을 거듭하다가 결국 증여로 돌아선 것으로 보인다.     다주택자에 대한 주택 최고 양도세율은 지난해 6월부터 기존 65%에서 75%로 높아졌다. 지방세까지 포함하면 세율이 무려 82.5%에 달한다.    종부세도 다주택자에 대한 세율이 2020년 0.6∼3.2%에서 작년 1.2∼6.0%로 대폭 상승해 부담이 사상 최대로 커졌다.    여기에다 정부가 매년 부동산 공시가격을 현실화하고, 과세표준을 산출하기 위해 공시가격에 곱해주는 공정시장가액비율도 높이고 있다.     세금 전문가인 박민수 더스마트컴퍼니 대표(필명 제네시스박)는 \"현재 다주택자가 세금을 줄이기 위해 취할 방법은 사실상 증여 외에는 없다\"고 진단했다.    신방수 세무사(세무법인 정상)는 \"증여 취득자가 무주택자라면 전세나 대출을 낀 부담부 증여 시 1∼3% 취득세율을 적용받아 증여에 따른 취득세 부담을 줄일 수 있다\"며 \"이런 점 때문에 당분간 증여 열풍이 계속 이어질 여지가 있다\"고 분석했다.     박 대표는 \"증여 수증자가 주택을 5년 후 매도하면 이월과세를 적용받지 않아 양도세가 줄어드는 효과도 있다\"고 전했다.\\n\\n\\n\\n다주택자(PG)[제작 조혜인] 일러스트 특히 지난해 1∼11월 서울 전체 증여 건수(1만1천838건) 중 동남권 4구(강남·서초·송파·강동)가 54.0%(6천391건)를 차지했다.     초고가 아파트가 몰려 있는 강남권에서 증여가 집중적으로 이뤄진 것이다.     강남권에서도 아파트 시장을 견인하는 강남구는 같은 기간 2천417건의 증여가 발생해 구별 최다 건수를 기록했다.     이는 부동산원이 2006년 관련 통계를 집계한 이래 같은 기간 강남구 최고 기록이자 종전 연간 최다였던 2020년(2천193건) 전체 수치도 이미 넘어선 것이다. 작년 12월 통계가 발표되면 강남구의 증여 건수는 더 늘어날 가능성이 크다. \\n\\n\\n\\n증여(PG) [장현경 제작] 일러스트     redflag@yna.co.kr\\n]',\n",
              " '[\\n변동폭 매주 0.01~0.02%씩 하락…강북·도봉·은평 0.01% ↓거래심리 2년4개월來 최저…\"GTX·정비사업 집값 영향력 떨어져\"\\n\\n\\n\\n서울 성동구 응봉산에서 바라본 강남일대 모습. 2022.1.6/뉴스1 © News1 허경 기자(서울=뉴스1) 김희준 기자 = 이달 서울 아파트값의 하락세 전환 가능성이 시간이 갈수록 높아지고 있다. 서울 아파트값 변동폭이 7주째 떨어지며 보합세를 코앞에 두고 있는 데다 매수심리도 2년6개월 만에 최저치를 기록하고 있어서다.업계에선 전국 아파트값 상승의 대장주 역할을 했던 서울 집값의 하락세가 구체화될 경우 전국 주택시장에 끼치는 매수심리는 더욱 냉각될 것으로 내다봤다. 새해부터 기준금리 인상 등 글로벌 \\'양적긴축\\'이 빨라지면서 집값상승의 불씨를 당겼던 재건축 등 정비사업도 이점과 영향력이 크게 줄어들 것이란 전망이다. 8일 한국부동산원에 따르면 이번 주 서울 아파트값 상승폭은 0.03%를 기록했다. 지난 주(0.04%)에 이어 상승폭이 매주 0.01%포인트(p)씩 떨어지는 추세다.권역별로는 강북권을 중심으로 상승세가 멈추거나 하락 지역이 대거 등장했다. 강북(-0.01%)·도봉(-0.01%)·은평구(-0.01%)는 하락했고, 동대문(0.00%)·성동(0.00%)·광진(0.00%)·성북구(0.00%)는 보합 전환했다. 매주 하락이나 보합세로 전환된 자치구가 증가하는 추세적 \\'우하향\\' 기조를 보이고 있다.부동산원 관계자는 \"매수 심리와 거래 활동 위축세가 지속했다\"며 \"급매물 위주의 간헐적 거래가 이뤄지는 가운데 호가를 유지하던 강남권도 하락 실거래가 증가했다\"고 설명했다.이번 주 부동산원이 발표한 서울 아파트 매매수급지수는 92.8까지 내려왔다. 2019년 9월9일 기록한 92.6 이후 2년4개월 만에 최저 수준이다. 8주 연속 집을 살 사람보다 팔 사람이 증가하는 공급 우위가 확대되는 양상이다.지방 8개 도의 매매수급지수도 100 이하로 내려왔다. 지방 8개 도 모두 수급지수가 100 이하로 내려간 것은 2020년 11월9일(98.9) 이후 1년2개월 만이다.부동산업계에선 산술적인 추세로도 이달 중 서울 아파트값의 하락전환 가능성이 클 것으로 보고 있다. 매주 0.01~0.02%p씩 떨어졌던 서울 아파트값의 추세를 감안하면 2~3주 내 하락전환이 일어날 것이라는 예상이다.업계 관계자는 \"최근 강남권 아파트의 하락거래 비중이 절반 이상을 차지하면서 추세적 하락세를 나타내고 있다\"며 \"업계 전문가들도 수치의 확장세가 보며 누가 먼저 하락세를 거론할지 눈치를 보는 분위기\"라고 했다.송승현 도시와경제 대표는 \"단순히 대출 규제를 집값 하락의 원인으로 보는 것은 근시안적인 판단\"이라며 \"2년 내 6번 이상 올린다는 미국의 금리정책보다 줄곧 선제적으로 움직였던 국내 금리의 행보를 눈여겨봐야 한다\"고 전했다.이달 한은이 시장의 예상대로 기준금리를 인상할 경우 유동자금으로 확장했던 부동산시장과 집값은 그 반대로 흐를 가능성이 매우 크다는 얘기다.반면 임병철 부동산R114 수석연구원은 \"수도권 아파트 매매가격 변동률의 보합 전환이 임박해지는 분위기\"라면서도 \"아파트 공급이 지난해보다 30% 이상 감소하고 정비사업 완화와 대선 후보들의 세금 정책, 공급 대책 등의 변수를 지켜봐야 한다\"고 분석했다.하지만 이미 정비사업 등 집값 상승의 불쏘시개 역할을 했던 호재의 영향력이 시간이 갈수록 약해지고 있다는 분석도 있다. 익명을 요구한 한 연구원은 \"각 캠프에서 너도나도 정비사업 활성화를 공약으로 들고나온 것은 이미 부동산시장의 경착륙 가능성을 보고 있다는 뜻\"이라며 \"앞서 역세권 예정지의 불장을 유도했던 GTX 호재 지역의 집값이 수억원씩 떨어지고, 몇몇 정비조합 사업 등이 다양한 핑계로 늦춰지고 있는 것도 집값과 분양가 하락 등을 함께 보고 읽어야 한다\"고 귀띔했다.\\n\\t\\t]',\n",
              " '[\\n서울 아크로리버파크 전용 84㎡형, 현정부 들어 두 배 넘게 뛰어\\n\\n\\n\\n수도권 아파트[연합뉴스 자료사진](서울=연합뉴스) 홍국기 기자 = 문재인 정부가 지방 분권과 국가 균형발전을 핵심 국정 과제로 내세웠지만, 서울과 지방의 아파트값 격차는 더욱 벌어지고 있다는 분석이 나왔다.     5일 부동산정보제공업체 경제만랩이 KB국민은행 시계열 통계를 분석한 결과에 따르면 현 정부가 출범한 2017년 5월 서울과 5대 광역시의 아파트 평균 매매 가격은 각각 6억708만원, 2억6천200만원으로 아파트값 차이는 3억4천508만원 수준이었다.     그러나 이후 서울의 아파트값이 급격히 상승하면서 지난해 12월 기준 서울 아파트 평균 매매가격은 12억4천978만원으로 2017년 5월 대비 두 배로 뛰었다.     반면 5대 광역시의 아파트 평균 매매가는 같은 기간 3억9천701만원으로 51.5% 오르는 데 그치며 서울과 5대 광역시의 아파트 가격 격차가 8억5천277만원으로 벌어졌다.\\n\\n\\n\\n문재인 정부 출범 이후 서울-5대광역시 아파트 평균 매매가 추이[경제만랩 제공]     서울 서초구 반포동 \\'아크로리버파크\\' 전용면적 84㎡는 2017년 5월 19억4천500만원(17층)에 팔렸지만, 작년 11월 중순에는 45억원(11층)에 매매 계약이 이뤄졌다. 이는 지난해 전국적으로 매매 계약이 성사된 전용 84㎡형 아파트 가운데 가장 높은 금액이다.    작년 말부터 금융권의 대출 규제가 강화되고 집값이 고점이라는 인식이 확산하면서 작년 12월에는 아크로리버파크 전용 84㎡형의 매매 가격이 39억8천만원(8층)으로 다소 떨어진 계약도 확인됐다.     하지만 이 또한 2017년과 비교하면 두 배 넘게 오른 금액이다.     황한솔 경제만랩 리서치연구원은 \"다주택자에 대한 보유세 강화와 1주택자 세부담 완화로 \\'똘똘한 한 채\\' 선호 현상은 더욱 강해지고 있다\"며 \"서울과 5대 광역시 간의 지역 양극화도 갈수록 더 심화될 수밖에 없다\"고 전망했다.     redflag@yna.co.kr\\n]',\n",
              " '[\\n기사내용 요약탈 서울·교통호재 등 작년 집값 1위 인천…분위기 급변매물 쌓이는 속도 전국서 가장 빨라…한달 새 12% 늘어송도 신축 아파트 전용 84㎡ 11→8.5억원 하락 거래 호가 낮춘 매물 급증…\"매수 심리 회복 쉽지 않은 상황\"\\n\\n\\n\\n[인천=뉴시스] 인천 연수구 송도국제도시 아파트.  [서울=뉴시스] 강세훈 기자 = 작년 전국에서 아파트 가격상승률 1위를 기록한 인천이 최근 전국에서 가장 빠른 속도로 매물이 늘어나며 시장 분위기가 급변하고 있다. 작년에 20% 이상 집값이 뛴 데 따른 피로감과 금융당국의 돈줄 옥죄기에 매수심리가 크게 위축되면서 급매물이 잇따르고, 최고가보다 수억원 하락한 거래도 속속 나타나고 있다.  10일 부동산 빅데이터 업체 \\'아파트실거래가(아실)\\'에 따르면 이날 현재 인천의 아파트 매물은 1만7775건으로 1달 전(1만5954건)보다 11.4% 증가했다. 전세와 월세를 다 합친 전체 매물은 2만6630건으로 한달 전에 비해 11.7% 늘어났다. 이는 전국에서 증가율이 가장 높은 것이다.같은 기간 경기와 서울 아파트 매물이 각각 7.7%, 1.3% 늘어난 것과 비교하면서 두드러진 증가세다.    인천은 작년 전국 17개 시·도 가운데 집값 상승률 1위 지역이다. 한국부동산원의 주간 아파트 매매가격 동향에 따르면 인천시는 작년에 22.6% 올라 경기(20.8%), 서울(6.6%)을 크게 앞질렀다. 서울 집값 급등에 따른 탈(脫) 서울 행렬이 인천으로 몰린데다 수도권광역급행철도(GTX) 등 교통 호재가 겹치면서 지난해 집값이 크게 뛰었다. 하지만 최근 매물이 전국에서 가장 빠르게 늘어나며 작년과 사뭇 다른 분위기가 관측되고 있다. 부동산원 주간 아파트 매매가격도 지난해 10월 첫째 주 0.44%에서 올해 1월 첫째 주 0.07%로 상승세가 확연히 꺾인 모습이다. 특히 작년에 33.1% 올라 인천에서 가장 높은 상승률을 보인 연수구는 최근 분위기가 심상치 않다. 송도국제도시가 있는 연수구는 작년 10월까지 신고가 거래가 속출했지만 최근 수억원 하락한 거래가 잇따르고 있다.  국토교통부 실거래가 공개시스템에 따르면 인천 연수구 송도동 \\'송도SK뷰\\' 전용면적 84㎡는 지난 5일 8억5000만원(33층)에 거래됐다. 작년 9월 11일 거래된 최고가 11억원(21층) 보다 2억5000만원 떨어진 금액이다. 해당 단지 인근 공인중개업소에 따르면 이 매물은 매도인이 1월 중순까지 대금 대부분을 치르는 조건으로 시세보다 가격을 낮춰 내놓은 급매물 거래가 이뤄진 것으로 알려졌다.  연수구 송도동 \\'송도더샵그린워크1차\\' 전용면적 84㎡은 작년 12월24일 9억9000만원에 매매 계약을 체결했다. 같은해 10월 11일 기록한 최고가 10억9000만원(16층) 1억원 낮은 금액이다.\\'송도더샵그린워크3차\\' 전용 84㎡도 작년 12월8일 10억2000만원(11층)에 거래돼 직전 최고가 10월 26일 11억6000만원(22층) 보다 1억4000만원 떨어졌다. 연수구 송도동 \\'e편한세상송도\\' 전용면적 70㎡는 작년 10월 9일 8억6800만원(28층)에 최고가를 기록했으나 지난해 12월13일에는 8억2000만원(15층)에 거래돼 5000만원 가까이 하락했다. 연수구 송도동 공인중개업소 관계자는 \"전용 84㎡ 호가가 10억원, 11억원 수준이었는데 최근 대출 문제 때문에 구매심리가 떨어지고 있고 집주인들이 가격을 조금씩 조정하면서 9억원대 급매물이 한 두개 나오고 있다\"며 \"조정될 거라는 기대심리가 있어서 매물을 찾는 사람이 거의 없다\"고 말했다. 매물 쌓이는 속도도 인천 8개 구 가운데 연수구가 가장 빠르다. 최근 한 달 사이 매매 매물이 2979건에서 3452건으로 15.8% 늘었다. 연수구 외에는 미추홀구(14.2%), 계양구(13.7%), 부평구(13.1%) 등의 순으로 많이 늘었다.   분양 시장도 비슷한 분위기가 감지된다. GS건설이 지난해 11월 분양한 인천시 연수구 송도동 \\'송도자이더스타\\'는 당시 1순위 청약에서 1533가구 모집에 2만156명이 몰리며 평균 13대 1의 경쟁률을 기록했지만, 당첨자 정당 계약에서 35%가량인 530여가구가 계약을 포기했다.부동산 업계에서는 최근 금리 상승과 대출 규제 등이 주택 구매 심리를 급격하게 얼어붙게 만들고 있는 것으로 보고 있다. 특히 작년 집값이 크게 상승한 지역을 중심으로 최근 호가 하락 움직임이 두드러지고 있는 것으로 보고 있다.  임병철 부동산R114 수석연구원은 \"지난해 아파트 매매 상승폭이 컸던 지역을 중심으로 호가를 낮춘 매물이 늘고 있다\"며 \"DSR(총부채원리금상환비율) 2단계 조기 도입과 금리 추가 인상 예고 등 금융당국의 돈줄 옥죄기가 이어지면서 매수 심리 회복이 쉽지 않은 상황\"이라고 설명했다.\\n]',\n",
              " '[\\n수요 감소에 계약 만기 임박 물건, 가격 낮춰 계약전셋값 급등·대출 규제 등에 신규 수요는 억눌린 탓\\n\\n\\n\\n사진 = 연합뉴스최근 서울 아파트 전세 시장의 실거래 가격이 이전 거래에 비해 하락세를 보이고 있는 것으로 나타났습니다. 대출 규제, 계약갱신청구권 사용 등으로 재계약은 늘고, 이동 수요는 급감하면서 \\'급전세\\' 계약이 증가한 것입니다.최근 서울 아파트 매매 가격이 일부 하락한 가운데 전셋값도 약세로 돌아서는 게 아니냐는 관측이 나오고 있습니다. 반면, 일부 단지에서는 역대 최고가 전세 거래도 성사되면서 시장 불안의 불씨는 여전히 남아있다는 지적도 제기됩니다.신규 전세 계약, 종전 거래 대비 하락세어제(9일) 서울부동산정보광장의 전세 실거래가 자료에 따르면, 최근 신규 전세 계약으로 보이는 거래 중 종전 거래가격보다 신고금액이 하락한 경우가 속속 등장하고 있습니다.최근 2년 새 계약갱신청구권 등 \\'임대차 2법\\' 시행으로 전셋값이 급등한 데다 금융당국이 대출 규제 강도를 높임에 따라 전세 물건이 적체되는 경우가 많아졌기 때문입니다. 이에 따라 전세 계약 만기가 임박한 집주인 중 일부는 당초 제시한 금액보다 낮춰 계약을 진행하는 경우가 늘고 있습니다.아현동의 한 중개업소 대표는 \"임대인 입장에서는 계약갱신청구권을 의식해 일단 높은 시세 수준에 전세를 내놓지만, 최근 전세 수요가 감소하면서 만기에 몰린 집주인들은 결국 가격을 낮춰 계약하고 있다\"며 \"올해 1~2월에 전세 만기가 도래하는 물건 중에는 최고가 1억~1억5000만 원 이상 호가를 낮춘 것들도 있다\"고 말했습니다.전세 수급지수도 5주째 하락…전문가 \"속단은 금물\"서울 아파트 전세 시장이 예년에 비해 안정세를 보이는 것은 수급지수에도 드러납니다.한국부동산원의 서울 아파트 전세수급지수는 94.5로 5주 연속 기준선(100)을 밑돌아 수요보다 공급이 많았습니다. 서울 아파트 전셋값 하락 지역은 아직 없지만 지난해 9월 0.17%에서 지난주는 0.02%까지 상승률이 둔화됐습니다.이에 전셋값이 하향 조정될 것이라는 관측이 나오고 있습니다. 그러나 일부 자금 여유가 있는 집주인들은 신규 전세 계약 시 4년치 인상분을 한꺼번에 반영하려고 가격을 올리는 경우도 있어 아직 전셋값 안정을 낙관하기에는 이르다는 지적도 많습니다.\\n]',\n",
              " '[\\n아파트 매매가격 상승률 서울 105.9%, 5대 광역시 51.5%19억 4500만 서울 반포 \\'아리팍\\', 지난해 20억 오른 39억 8천에 거래\\n\\n\\n\\n서울 아파트 전경 / 사진 = 매일경제서울과 5대 광역시 간의 아파트 가격 격차가 현 정부 들어 크게 벌어졌다는 분석이 나왔습니다.5일 부동산 정보제공 업체 경제만랩은 KB부동산 리브온 자료를 살펴본 결과, 서울과 5대 광역시의 아파트 평균 가격 격차가 지난 2017년 5월과 지난해 12월을 비교했을 때 3억 4508만 원에서 8억 5277만 원으로 벌어졌다고 밝혔습니다. 약 4년 7개월 정도 만에 가격 격차가 5억 원 정도 늘어난 것입니다.\\n\\n\\n\\n서울-5대 광역시 아파트 평균 매매가격 비교 / 출처 = 경제만랩2017년 5월의 아파트 평균 매매가격은 서울이 6억 708만 원, 5대 광역시는 2억 6200만 원이었습니다. 격차는 3억 4508만 원입니다.지난해 12월의 아파트 평균 매매가격은 서울이 12억 4978만 원, 5대 광역시는 3억 9701만 원이었습니다. 격차는 8억 5277만 원입니다.상승률로 따지면 서울이 105.9% 치솟는 동안 5대 광역시는 51.5%가량 오른 것입니다. 애초 서울의 아파트값이 훨씬 비쌌다는 점을 감안하면, 비율로도 2배 차이가 나는 상황에서 실제 금액 격차는 더욱 크게 벌어질 수밖에 없었던 셈입니다.서울-5대 광역시 아파트 가격 격차는 실거래가 사례로도 확인할 수 있습니다.국토교통부의 실거래가 통계시스템에 따르면 서울 서초구 반포동에 위치한 아크로리버파크 전용면적 84㎡는 지난 2017년 5월 17층 매물이 19억 4500만 원에 거래됐지만, 지난해 12월 26일에는 8층 매물이 39억 8000만 원에 거래됐습니다. 20억 3500만 원 오른 금액입니다. 상승률은 104.6%입니다.울산 남구 신정동에 있는 문수로2차 아이파크 1단지 전용면적 84㎡는 2017년 5월, 20층 매물이 19일 5억 7800만 원에 거래됐지만, 지난해 12월 17일에는 17층 매물이 11억 3500만 원에 거래됐습니다. 5억 5700만 원 올라 상승률 96.4%를 기록했습니다. 상승률은 서울과 비슷하지만, 금액으로 따지면 4배 차이입니다.대전 유성구 상대동에 위치한 트리풀시티 5단지 전용면적 84㎡는 2017년 5월 13일 4억 900만 원(12층)에 거래됐지만, 지난해 12월 15일 7억 1000만 원(12층)에 거래됐습니다. 3억 100만 원 올라 상승률 73.6% 입니다.광주 북구 신용동에 위치한 광주첨단2지구호반베르디움1단지 전용면적 84㎡는 2017년 5월 4억 2000만 원(25층)에 계약됐고, 지난해 12월에는 7억 3750만 원(20층)에 거래돼 3억 1750만 원 오르고 75.6% 상승률을 나타냈습니다.황한솔 경제만랩 리서치연구원은 \"다주택자 보유세 강화와 1주택자 세부담 완화로 똘똘한 한 채 선호현상은 더 강해지고 있다\"며 \"서울과 5대 광역시 간의 지역 양극화도 갈수록 더 심화될 수 밖에 없다\"고 관측했습니다.\\n]',\n",
              " '[\\n\\t\\t\\t\\t\\t\\t\\t\\t\\t\\t새해 들어 아파트 값 조정세가 확산하는 가운데, 올해 첫 주 아파트 매매가 상승률을 분석했더니 상대적으로 집 값이 저렴해 대출 규제를 덜 받는 지방이 상위 10위권을 모두 차지했다.KB부동산 주간 시황에 따르면 지난 3일 기준 매매가 상승률이 가장 높았던 지역은 경상남도 창원시 마산 합포구로 0.48% 올랐다. 매매가 상승률이 높은 상위 10개 지역은 2위를 차지한 파주(0.28%)를 제외하고 모두 기타 지방 지역이었다. 대전 동구(0.27%), 청주 서원구(0.26%), 창원 성산구(0.24%), 전주 덕진구·진주(0.23%) 등의 순이다. 강릉, 양산, 춘천도 0.2% 이상의 상승률을 기록했다.\\n\\n\\n\\n지방 아파트 /연합뉴스\\t\\t\\t\\t\\t\\t\\t\\t\\t\\t매매가가 하락한 지역을 꼽아보니 서울 마포·도봉구가 0.01% 떨어져 하위 10위권에 진입했다. 하락폭이 가장 큰 지역은 안양 동안구(-0.17%)였고, 세종(-0.14%), 대구 동구(-0.13%) 등이 뒤를 이었다. 경기권인 구리(-0.05%), 용인 기흥구(-0.03%)도 하락폭이 큰 10위 안에 들었다.이는 1년 전과 분위기가 반전된 것으로, 작년 1월 같은 주에는 매매가 상승률 10위권 지역이 모두 서울·수도권·세종이었다. 성남 수정구(1.35%), 일산 서구(1.11%), 일산 동구(1%), 마포구(0.94%)와 세종(0.77%) 등이다.시장에서는 부동산 시장 안정을 위해 전년도 집 값이 많이 오른 서울·수도권 중심의 규제를 강화한 반면, 오는 3월 대선과 6월 지방 선거를 앞두고 지방에서는 각종 개발 호재를 강조한 것이 집 값 상승률의 반전을 이끌었다고 분석한다. 한동안 지방이 강세를 보일거란 전망이다.\\n]',\n",
              " '[\\n\\n\\n\\n\\n부산 강서구 명지동 일대 아파트 전경. 부산일보DB아파트 가격이 2주 연속으로 하락했던 부산 강서구에 아파트 매물(매매물량)이 1년 전보다 40.2% 증가한 것으로 나타났다. 부산 전체 아파트 매물도 늘어났지만, 다른 시도에 비하면 증가율이 높은 편은 아니다.9일 부동산 빅데이터 플랫폼 ‘아실’에 따르면 이날 현재 부산의 아파트 매물은 3만 1111건으로 1년 전(2만 8116건)보다 10.4% 증가했다. 부산만 증가한 것은 아니고, 인천과 강원도가 소폭 감소한 것을 제외하면 전국 대부분 시·도에서 매물이 늘었다.부산은 매물 증가율이 다른 시·도에 비해 낮았다. 서울은 13.9%, 대구 96.5%, 울산 32.9%, 세종은 37.9% 늘었다. 대체로 매물이 많이 늘어난 지역에서 아파트 가격이 떨어지거나 상승률이 낮아지는 추세다.1년 전보다 매물 40.2% 늘어부산 전체는 10.4% 증가 그쳐1월 첫째 주 지역 아파트 가격강서구 0.08%로 하락폭 최대한국부동산원에 따르면 부산은 아파트 가격이 1월 첫째 주에 0.02% 상승(지난주 대비)했다. 16개 구·군 가운데 중구 동구 강서구 3곳이 하락했는데, 강서구는 0.08% 떨어져 하락폭이 가장 컸다. 강서구의 경우 현재 매물이 1583건으로, 1년 전보다 40.2%가 늘어났다. 이어 연제구 매물이 2421건으로 34.9% 증가했고, 동래구는 2659건으로 33.9% 늘어났다.중구(매물 157건)와 더불어 서구(689건) 사상구(1603건) 영도구(740건) 남구(2223건) 사하구(2891건)는 매물이 1년 전보다 감소했다. 이 가운데 남구와 사하구는 감소율이 0.2~0.4%여서 지난해와 거의 비슷했다. 지난해 부산에서 아파트값이 가장 많이 올랐던 해운대구는 현재 매물이 3649건으로 11.9% 증가했다.아파트별로는 남구 대연동 대연자이 매물이 85건으로, 226.9% 증가해 증가율이 가장 높았다. 이어 사상구 엄궁동 엄궁롯데캐슬리버와 수영구 망미동 수영 SK뷰 1단지가 매물 증가율이 높았다. 부산진구 부암동 백양산롯데캐슬골드센트럴은 매물이 139건에서 40건으로, 감소율이 가장 높았다.한편 새해 들어 전국적으로 아파트값 하락지역이 확대되면서 매수 심리도 약해졌다. 매수심리는 매매수급지수로 판단하는데, 부산의 경우 1월 첫째 주 95.9다. 지난해 12월 셋째 주 100 아래로 하락한 뒤 3주 연속으로 100을 밑돌고 있다. 이는 한국부동산원이 중개업소 설문을 통해 지수화한 것으로 100 미만이라는 것은 현재 시장에 집을 살 사람보다 팔 사람이 많다는 것을 의미한다. 울산도 매매수급지수가 96.5로 100에 못미쳤으며 경남은 100.4로 100을 웃돌고 있다.현재 아파트 가격은 변곡점에 와 있다. 2021년 한 해 동안 쉬지 않고 오르던 가격이 연말에 주춤하면서 일부 지역은 하락세로 전환했다. 전문가들은 올해 대선이 가장 큰 변수라고 말하고 있다.국민은행 박원갑 수석전문위원은 “아파트 거래가 부진에 따른 일시적인 숨고르기에 그칠지, 가격 하락폭을 키울지는 대선 정책 변수 등을 지켜봐야 한다”고 말했다. 이영래 부동산서베이 대표는 “대선을 앞두고 주택시장이 위축될 수 있다. 일단 대선 결과를 본 이후에 매매하겠다는 사람이 많다”며 “전체적으로는 가격 자체가 많이 올라서 정부 정책과는 상관없이 매수자들이 좀 더 기다려 보자고 하는 분위기다”고 말했다. \\n]',\n",
              " '[\\n‘영끌’ 핵심지 노원 중심 내림세1월 1주차 40㎡이하 -0.06%40㎡ 초과 60㎡이하는 보합세\\n\\n\\n\\n9일 서울 송파구 부동산 중개업소에 전세 매물 안내문이 붙어 있다. 지난주 한국부동산원의 서울 아파트 전세수급지수는 94.5로 5주 연속 기준선(100)을 밑돌았다. 2019년 9월 16일(92.2) 이후 약 2년4개월 만에 가장 낮은 수치다. 연합뉴스서울 동북권(노원·동대문·중랑·도봉·성북구 등)의 소형 아파트 가격이 빠르게 내려가고 있다. 40㎡ 이하 소형 아파트의 상승 폭이 크게 줄었고, 40㎡ 초과~60㎡ 이하 아파트도 1년7개월여 만에 보합세(0.00%)로 들어섰다. 서울 전역의 집값과 전셋값이 내려가고 매매수급지수는 줄어드는 추세다. ‘영끌’의 중심지역이었던 노원구를 중심으로 동북권의 내림세가 더 두드러지고 있다.9일 국토교통부 실거래 통계에 따르면 서울 노원구 상계동 벽산아파트 46㎡는 지난달 5억원에 매매됐다. 동과 층에 따라 차이는 있지만 이 단지의 46㎡는 지난해 7월 5억1000만원에 팔렸다. 이후 오름세를 보이다 지난해 9월 5억7750만원으로 신고가 거래가 이뤄지기도 했다.노원구는 지난해 4월 이후 서울 집값을 주도하다가 연말부터 거래 자체가 급격하게 줄면서 내림세를 보인 곳이다. 그런데 이런 경향이 대형보다 소형에서 두드러졌다. 한국부동산원 주간아파트가격동향 시계열 자료에 따르면 1월 1주차(3일 기준)에 서울 동북권의 소형(40㎡ 이하) 아파트 매매가격 변동률은 -0.06%로 크게 떨어졌다. 40㎡ 초과~60㎡ 이하 면적의 아파트 매매가격 변동률은 0.00%로 보합에 접어들었는데, 2020년 6월 이후 처음으로 상승세를 멈춘 것이다. 이 면적대 가격 상승률은 지난해 8월(23일 기준) 0.35%까지 치솟았다.지난해 1월 1주차와 비교하면 상황 변화는 눈에 띈다. 당시 40㎡ 이하 집값 변동률은 0.15%를 기록했다. 85㎡ 초과~102㎡ 이하 면적이 보합(0.00%)을 기록하며 상승세가 완전히 꺾였고, 소형 평형으로 갈수록 상승세가 높았다. 2020년 연말부터 시작된 전세난과 그에 따른 패닉바잉 영향으로 영끌에 나선 2030세대 실수요자들이 동북권 소형 아파트를 집중적으로 사들인 여파였다.흐름의 반전은 전셋값 변동률에서도 나타난다. 올해 1월 1주차 서울 동북권 40㎡ 이하 아파트의 전셋값 변동률은 -0.21%로 1년 전(2021년 1월 4일) 0.24%보다 크게 줄었다. 같은 기간 85㎡ 초과~102㎡ 이하가 0.33% 오른 것과 비교하면 하락 폭이 컸다.\\n\\t\\t]',\n",
              " \"[\\n기사내용 요약KB부동산 주간주택시장 동향경기 0.03% 인천 0.07% 상승\\n\\n\\n\\n[서울=뉴시스] 홍세희 기자 = 서울 도봉구와 마포구 아파트 매매가격이 민간 부동산 통계에서 처음으로 하락한 것으로 나타났다.6일 KB부동산이 발표한 주간주택시장동향 자료에 따르면 서울 아파트 매매가격은 전주 대비 0.05% 상승했다. 도봉과 마포 아파트 매매가격은 지난주보다 각각 –0.01% 떨어지면서 처음으로 하락 전환됐다. 강북과 동대문, 성북, 종로, 중랑, 관악, 동작은 보합세를 보였다.경기는 전주 대비 0.03% 올랐다. 지역별로는 파주(0.28%), 광주(0.19%), 안산 상록구(0.14%), 평택(0.12%), 수원 팔달구(0.11%) 등이 상승했고 안양 동안구(-0.17%), 구리(-0.05%), 용인 기흥구(-0.03%)는 하락했다. 인천의 아파트 매매가격 역시 지난주(0.09%)보다 상승세가 완화된 0.07% 상승률을 보였다. 지역별로는 부평구(0.12%), 서구(0.09%), 남동구(0.09%), 미추홀구(0.09%), 중구(0.04%) 등이 상승했다.전국 아파트 전세가격은 전주 대비 0.08% 상승을 기록했다. 수도권(0.06%)도 전주 대비 소폭 상승하는데 그쳤다. 서울은 0.08%를 기록하며 지난주 변동률(0.06%)보다 조금 높아졌다.서울의 매수우위지수는 지난주(50.5)보다 다소 높아진 55.3을 기록했다. 인천(37.7)을 제외한 5개 광역시에서는 부산이 54.2로 가장 높다. 이어 광주 49.2, 대전 44.4, 울산 39.7, 대구 22.2 등으로 모두 100 미만의 '매도자 많음' 시장을 보이고 있다.매수우위지수는 0~200 범위 이내이며 지수가 100을 초과할수록 '매수자 많음'을, 100 미만일 경우 '매도자 많음'을 의미한다．\\n]\",\n",
              " '[\\n2008년부터 2014년까지 물량공급 여파에 장기간 마이너스 안정세2019년 마이너스는 정부 추가 규제에 이후 급등으로 퇴색[헤럴드경제=최정호 기자]새해 첫 집계에서 서울 아파트 가격이 0.05% 상승한 것으로 나타났다. 일부 자치구에서는 마이너스도 나왔다. 서울 전체적으로도 마이너스의 가격 흐름이 나타날 가능성이 한층 높아진 셈이다.KB부동산 주간 부동산 집계에 따르면 지난 3일 기준 서울 전체 아파트 매매가격도 지난주 대비 0.05%로 상승세가 더욱 완화됐다. 성동구(0.19%), 강서구(0.15%), 금천구(0.14%), 서대문구(0.1%), 양천구(0.1%) 정도만 약간 상승했을 뿐, 대부분 지역에서 0%에 가까운 보합세를 보였다.\\n\\n\\n\\n서울 아파트 단지 모습 [연합]심지어 서울에서도 지역별로 하락 반전한 곳도 나타났다. 도봉구와 마포구의 지난 한 주 아파트 매매가격은 0.01% 하락했다.서울에서 부분적으로나마 아파트가 마이너스 주간 상승률을 기록했던 것은 2019년 6월 10일 조사가 마지막이였다. 2018년 12월 마지막 주 조사에서 마이너스 0.01%를 기록한 서울 아파트 가격은 약 반년 동안 보합 또는 -0.01%에서 -0.05%의 약세를 면치 못했다.당시 한국감정원은 경제 저성장, 정부 규제강화, 부동산 세제 개편, 아파트 입주물량 증가 등을 아파트 가격 하락 이유로 꼽았다. 문재인 정부 등장 후 한 해동안 10%에서 많게는 50% 가까이 급등했던 직전 해 아파트 가격 단기 급등의 여파가 컸다.이후 서울 아파트 가격은 강한 수요 억제를 근간으로 하는 정부 부동산 대책 발표를 전후해 다시 상승 반전했다. 최근 집값 하락 및 보합과 관련, 3월 대통령 선거 결과에 따라 다시 급등할 수 있다는 ‘정책·선거 리스크론’이 거론되는 이유다.앞서 서울 아파트 가격은 2008년 후반부터 2014년 6월까지 장기간 마이너스와 보합을 오가는 약세장에 빠진 적도 있다. 2000년대 초중반 당시 노무현 정부의 역시 수요 억제 정책에 집값이 급등한 직후 피로감과, 이명박 전 서울시장의 대선 당선 이후 ‘뉴타운’으로 상징되는 대규모 공급 예고가 맞물려 나타난 주택 시장 안정이다.실제 당시 뉴스에서는 노무현 정부 당시 투기 세력으로 꼽았던 버블 7지역 아파트의 평(3.3㎡)당 가격이 이전보다 100만원 넘게 떨어졌다는 소식도 자주 등장했다.2014년 하반기 부동산 시장 전망 기사에서 한 전문가는 “한시적인 잦은 세제 혜택으로 시장에선 정부의 후속대책만 기다리며 매수시기를 오히려 뒤로 미루는 모습도 나타나고 있다”며 “정부가 거래시장 회복에 대한 강력한 시그널을 보여주면 현 수준에서 추가로 떨어지지 않을 것이라는 바닥심리가 하반기에 다져질 것”이라고 말하기도 했다.\\n\\n\\n\\n\\n]',\n",
              " '[\\n가격 2006년 이후 최대 상승했는데 거래량은 9년 만에 최저 기록9∼11월 거래량 금융위기 수준 급감…12월은 \\'역대 최저\\' 전망대출규제-집값 고점 인식-대선 겹쳐 거래가뭄…집값 하락 신호탄될까(서울=연합뉴스) 서미숙 기자 = 지난해 서울 아파트 시장의 \\'거래절벽\\'이 심화되면서 연간 거래량이 집값이 급락했던 2012년 이후 9년 만에 최저치를 기록할 전망이다.    이는 실거래 자료가 공개되기 시작한 2006년 이후 두 번째로 적은 것으로, 특히 최근 4개월간은 2008년 글로벌 금융위기 시절에 버금가는 극심한 거래 침체를 보인 것으로 나타났다.\\n\\n\\n\\n서울시내 아파트 [연합뉴스 자료사진]2일 연합뉴스가 서울부동산정보광장에 공개된 서울 아파트 거래량을 분석한 결과 지난해 연간 거래 신고건수는 총 4만1천713건(1일까지 접수된 통계)으로, 2012년(4만1천79건) 이후 9년 만에 최저치를 기록했다. 직전 2020년 거래량(8만1천189건)과 비교하면 거의 절반 수준에 불과하다.    2012년은 2008년 글로벌 금융위기 여파에다 참여정부가 만든 각종 규제 정책이 작동하고, \\'반값 아파트\\'로 불린 보금자리주택 공급까지 확대되면서 서울 아파트값이 2000년대 들어 가장 큰 폭(-6.65%, 한국부동산원 기준)으로 하락한 시기다. 이로 인해 당시 서울 아파트 거래량도 2006년 관련 통계를 공개한 이후 가장 적었다.     특이한 것은 2012년과 달리 지난해 서울 아파트값은 11월까지 7.76%나 뛰며 2006년 이후 최대 상승률을 기록했는데 거래량은 역대 두 번째로 감소한 \\'불황형 집값 상승\\'이 나타났다는 점이다.     이 가운데 9월부터 12월까지 거래량은 리먼 브러더스 사태로 글로벌 금융위기가 터진 2008년에 버금가는 수준으로 급감했다.    지난해 9월 서울 아파트 거래량은 총 2천706건으로 전월(4천217건)의 64% 수준으로 줄어든 뒤 10월 2천174건, 11월 1천354건으로 계속 감소했다.     이는 2008년(9월 1천849건, 10월 1천519건, 11월 1천163건) 이후 각각 13년 만에 최저치다.\\n\\n\\n\\n\\n\\n\\n\\n서울시내 아파트 [연합뉴스 자료사진]특히 작년 12월 거래량은 이달 1일까지 신고된 건수를 기준으로 567건에 그쳐 2008년 12월(1천523건)을 밑도는 역대 최저를 기록할 전망이다.    12월 거래는 이달 말까지 거래신고 기간이 남아 있지만 최근 침체된 분위기를 고려할 때 이런 흐름이 달라지진 않을 것으로 보인다.     구별로는 상대적으로 중저가 아파트가 많은 \\'노도강\\'(노원·도봉·강북) 지역의 거래량 감소가 심각했다.    도봉구의 지난해 거래량이 1천819건으로 2020년(4천374건) 대비 무려 58.4%가 급감했고 강북구도 2020년 2천112건에서 지난해 898건으로 57.5%나 줄어들었다. 2020년 거래량이 8천724건에 달했던 노원구는 지난해 거래량이 3천834건으로 56% 감소했다.     송파구(-54.8%), 강동구(-53.2%), 강서구(-51.1%), 은평구(-51.4%) 등도 거래량이 작년과 비교해 반 토막이 났다.\\n\\n\\n\\n서울의 한 중개업소 모습 [연합뉴스 자료사진]최근 극심한 거래 침체는 금융당국의 강력한 가계부채관리 방안에 따른 \\'돈줄 옥죄기\\'와 금리 인상, 올해 집값이 단기 급등한 데 따른 고점 인식 등이 합쳐진 결과다.    여기에 3월 대선을 앞두고 주요 후보들이 앞다퉈 양도소득세와 종합부동산세 등 세금 관련 규제 완화 공약을 내놓으면서 시장의 관망세는 더욱 짙어지는 분위기다.    다주택자는 양도세 중과 유예가 시행된 후 팔려고 매물을 거둬들이고, 매수자는 양도세 중과 회피 매물이 늘어 집값이 하락한 뒤 사려고 관망하면서 거래 공백 상태가 지속되는 것이다.     이 때문에 작년 여름까지는 매물 감소 속에 신고가를 경신하는 거래가 많았다면 최근 들어서는 직전 거래가보다 수천만원씩 내린 하락 거래들이 늘어나는 추세다.    일시적 2주택자나 개인 사정으로 당장 집을 팔아야 하는 수요자들이 내놓는 급매물을 위주로 거래가 이뤄지는 것이다.     집값 관련 통계를 봐도 하락 지표들이 늘고 있다.    한국부동산원 조사 결과 서울 아파트값 하락 지역이 2주 전 은평구 한 곳에서 지난주엔 은평·강북·도봉구 등 3곳으로 증가했다.    도봉구 도봉동 서원아파트 전용 40㎡는 지난달 3일 직전 11월의 거래가(4억3천만원)보다 3천만원 낮은 4억원에 계약이 이뤄졌고, 쌍문동 한양2차 전용 84.9㎡는 지난해 11월 말에 직전 거래가(9월 7억원)보다 1천500만원 떨어진 6억8천500만원에 팔렸다.    한국부동산원의 서울 아파트 매매수급지수 역시 지난주 93.5를 기록하며 2019년 9월 16일(93.0) 이후 2년 3개월 만에 최저를 나타냈다. \\n\\n\\n\\n[홍소영 제작] 일러스트전문가들은 3월 대선이 올해 집값을 좌우할 가장 큰 변수로 떠오른 가운데 당장 이달부터 총대출액이 2억원 이상이면 차주 단위의 총부채원리금상환비율(DSR)이 적용되는 등 대출 규제가 더욱 강화됨에 따라 거래 부진이 한동안 지속될 것으로 내다봤다.     이로 인해 서울 아파트값도 조만간 하락 전환될 것이라는 관측이 나온다. 차기 정부에서 다주택자 양도세 중과 유예 등이 시행될 경우 절세 매물이 증가하면서 서울 아파트값 하락폭은 전문가들의 예상보다 더 커질 수도 있다.    한 부동산 전문가는 \"미국 연방준비제도(Fed·연준)가 올해 금리 인상을 예고한 가운데 우리나라도 도미노 인상이 이뤄지면 \\'영끌족\\' 등의 대출 부담이 더 커질 전망\"이라며 \"올해 서울 아파트 입주 물량 감소, 전셋값 불안, 재개발·재건축 사업 활성화 등 집값 상승 변수들이 있지만, 하락 요인 역시 만만치 않다는 점을 염두에 둬야 한다\"고 말했다.    sms@yna.co.kr\\n]',\n",
              " '[\\nKB·부동산원 통계 모두 상승률 1위…3.3㎡당 가격 순위 16위\\n\\n\\n\\n서울 노원구 일대 아파트[연합뉴스 자료사진] (서울=연합뉴스) 홍국기 기자 = 지난해 서울 25개 구 중에서 아파트값이 가장 많이 오른 곳은 노원구로 나타났다.    6일 민간 시세 조사기관인 KB국민은행 월간 시계열 통계에 따르면 작년 한 해 서울 아파트값이 16.40% 상승한 가운데 지역별로는 노원구의 상승률이 23.64%로 가장 높았다.     정부 공인 시세 조사기관인 한국부동산원 통계로도 작년에 12월 넷째 주까지 서울에서 아파트값 누적 상승률이 가장 높은 지역은 노원구(9.83%)였다.    노원구 중계동 주공5단지 전용면적 76.51㎡는 2020년 12월 12일 9억4천500만원(13층)에 팔렸지만, 작년 12월 11일에는 10억5천만원(10층)에 매매 계약이 체결되며 1억원 넘게 올랐다.    집값이 고점이라는 인식이 확산하기 전인 지난해 7월 17일에는 같은 면적이 11억8천500만원(13층)에 팔려 역대 최고가를 경신하기도 했다.     노원구는 지난해 상반기 서울시장 선거를 계기로 도시정비사업에 대한 규제 완화 기대감이 커지면서 재건축을 추진하는 노후 아파트가 많은 상계동을 필두로 아파트값이 급등세를 나타냈다.    이른바 서울 3대 학군(대치동·목동·중계동) 중 하나인 중계동 지역은 상계역과 왕십리역을 잇는 동북선 경전철 공사로 그간 불편했던 교통이 개선된다는 기대감이 더해져 강세를 보였다.    이 밖에 4호선 당고개역에서 진접역을 연장하는 진접선 복선 전철 개통 예정, 월계동 광운대역 광역급행철도(GTX) C노선 신설과 역세권 개발 등 각종 개발 호재도 가격 상승을 뒷받침했다. \\n\\n\\n\\n \\'영끌\\', \\'빚투\\' (PG)[장현경 제작] 일러스트작년에는 노원구 외에도 KB 통계 기준 도봉구(19.94%), 강서구(19.84%), 구로구(18.61%) 등 중저가 주택이 많은 서울 외곽 지역의 아파트값 상승률이 상대적으로 높았다.     3.3㎡당 아파트값은 노원구(3천727만원)와 도봉구(3천263만원)의 순위가 2020년 각각 19위, 24위에서 지난해 16위, 21위로 세 계단씩 오르며 서울에서 가장 큰 상승폭을 기록했다.     특히 노원구는 성북구(3천716만원)와 종로구(3천680만원)를 제친 데 이어 서대문구(3천746만원)까지 넘어설 태세다.    노원구는 부동산원 거래 현황 통계로 지난해 11월까지 20대 이하의 아파트 매입 비중(7.5%)이 서울 25개 구 가운데 가장 높았다.    박원갑 KB국민은행 수석부동산전문위원은 \"작년 서울 아파트 시장은 상대적으로 저렴하고 개발 기대감이 큰 곳에 무주택 젊은 층의 매수세가 몰린 것이 핵심적 상승 요인의 하나\"라며 \"노원은 그런 측면에서 \\'비강남의 반란\\' 현상에서 큰 몫을 차지하고 있다\"고 평가했다.    redflag@yna.co.kr\\n]',\n",
              " '[\\n\\n\\n\\n\\n양희성 기자 yohan@donga.com서울 성동구, 광진구 등 서울 4개 구 아파트 가격 상승세가 멈췄다. 하락세를 보이고 있는 강북, 도봉, 은평구, 기존 보합 지역인 관악, 금천구까지 합하면 25개 구 중 3분의 1이 넘는다.   한국부동산원이 6일 내놓은 주간 아파트 가격 동향에 따르면 이달 첫째 주(3일 기준) 서울의 아파트 매매가격은 전주(0.04%) 대비 0.03% 오르며 상승폭이 축소됐다. 같은 기간 수도권(0.04%→0.03%), 지방(0.05%→0.03%)도 각각 상승폭이 줄어들었다.  서울은 동대문·성동·광진·성북 등 강북권 4개구가 0% 상승률로 보합세를 보였다. 강북(―0.01%)·도봉(―0.01%)·은평구(―0.01%)는 지난주에 이어 하락세를 유지했다. 다만 서울 25개 구 중 처음으로 하락세로 전환된 은평구의 경우 3주 연속 가격이 하락했지만 하락폭은 ―0.01%로 지난주 ―0.02%보다 줄어들었다.  강남권의 경우 서초구(0.07%)는 구축 대단지 위주로, 강남구(0.05%)는 상대적으로 저평가됐다는 인식이 있는 중대형 평형이나 사업 진척 기대감이 있는 재건축 단지 위주로 가격이 올랐다, 송파구(0.03%)는 상승세가 이어졌지만 상승폭은 축소됐다. 관악, 금천구는 0% 변동률을 유지했다.   부동산원 측은 “매수심리와 거래활동 위축이 지속되며 급매물 위주로 간헐적으로 거래되는 가운데 호가를 유지하던 강남권 아파트도 하락한 가격으로 실거래가 이뤄지며 상승폭이 축소됐다”고 설명했다.   경기(0.04%→0.02%)의 경우 수원 팔달, 고양 일산서구가 0% 변동률을 보이며 상승세를 멈췄다. 의정부(―0.02%), 하남시(―0.07%)는 가격이 떨어지기 시작했다. 부동산원은 “경기도 45개 시군구 중 25곳의 매매가격 상승폭이 줄어들었다”고 밝혔다. 인천도 지난주 0.09%에서 0.07%로 상승폭이 축소됐다.   아파트 전세가격 역시 매물이 쌓이고 매수심리가 위축되며 안정세가 지속됐다. 수도권(0.03%→0.02%) 및 서울(0.04%→0.02%), 지방(0.07%→0.06%) 모두 상승세가 완만해졌다.\\n]',\n",
              " '[\\n지난해 연간 매매거래, 전년比 반토막거래절벽인 줄 알았는데…거래 빙하기“돈줄 차단…새해에도 거래활동 위축”[헤럴드경제=양영경 기자] 지난해 서울 아파트 매매거래량이 연말로 갈수록 쪼그라들면서 직전 해의 절반 수준까지 급감한 것으로 나타났다. 집값 급등에 대출 규제, 금리 인상, 세 부담 증가 등으로 매수심리가 얼어붙은 데다 대선 후보들의 부동산 세제 완화 공약으로 관망세가 짙어진 영향으로 분석된다. 이 같은 분위기는 새해에도 이어져 당분간 ‘역대급 거래 빙하기’가 펼쳐질 것이라는 전망에 무게가 실린다.\\n\\n\\n\\n서울의 부동산 중개업소 모습. [연합뉴스]8일 서울부동산정보광장에 따르면 지난해 1~11월 서울 아파트 매매건수는 4만4110건으로, 2020년 1~11월(7만3648건)과 비교해 44.1% 줄었다. 지난해 7~8월 4000건대에서 9~10월 2000건대, 11월 1360건 등 연말로 갈수록 급감한 데 따른 것이다.아직 신고기한이 남은 12월 아파트 매매거래량은 이날 기준 739건에 그쳤다. 최근 ‘거래 실종’으로 요약되는 시장 상황을 고려하면 1000건 안팎이 될 것으로 업계는 내다보고 있다. 이를 고려하면 지난해 연간 매매거래량은 2020년 8만1193건의 절반 수준을 살짝 넘길 것으로 예상된다. 현 추세로 보면 글로벌 금융위기 여파가 있었던 2008년 11월에 찍힌 월간 최저치(1163건) 기록을 갈아치울 수 있다는 전망도 나온다.일선 공인중개사들은 일부 급매물을 제외하고는 거래가 올스톱된 상황이라고 전한다. 서울 마포구의 한 공인중개사는 “(매수자가) 사고 싶어도 대출이 안 나오다 보니 현실적인 어려움이 있다”면서 “간혹 매수 희망자가 ‘좀 깎아주면 사겠다’면서 관심을 보여도 집주인들이 호가를 크게 조정해주는 분위기는 아니어서 거래로 이어지진 않는다”고 말했다.내년 3월 대선을 앞두고 쏟아진 부동산 세제 완화 공약에 ‘일단 기다려보자’는 분위기가 확산, 이에 따라 거래절벽이 심화하고 있다는 전언도 이어진다.매매거래가 얼마나 활발한지 나타내는 KB국민은행 매매거래지수를 보면 서울은 이달 3일 1.0을 나타냈다. 이는 2019년 3월18일(1.0) 이후 가장 낮은 수준이다. 매매거래지수는 KB국민은행 회원 중개업소를 통해 파악하는 지표로, 0~200 범위에서 100보다 낮을수록 “한산하다”고 답한 중개업소가 “활발하다”고 말한 곳보다 많다는 의미다. 새해 첫 주부터 99%가 “한산하다”고 답변한 것이다.임병철 부동산R114 수석연구원은 “총부채원리금상환비율(DSR) 2단계 규제 도입과 추가 금리 인상 등 금융당국의 ‘돈줄 옥죄기’가 이어지면서 매수심리 회복이 쉽지 않은 상황”이라며 “지난해 하반기부터 이어졌던 매수심리·거래활동 위축 현상이 새해에도 계속되고 있다”고 봤다.부동산 시장에서 통상 거래량 감소는 집값 하락의 전조 현상으로 여겨진다. 정부 역시 최근 거래 현황과 아파트값 상승폭 축소 등을 언급하며 ‘안정세’에 무게를 싣고 있다. 다만, 최근 거래 감소는 대출 규제와 정책 불확실성 등의 영향이 큰 데다 여전히 집값 불안 요인도 상존해 향후 집값 움직임을 주시할 필요가 있다는 시각도 있다.임 수석연구원은 “서울을 중심으로 아파트 공급이 지난해보다 30% 이상 감소하고, 도심 주택 공급을 위한 재개발·재건축 사업도 이슈가 되고 있다”며 “올해 7월이 새 임대차법 시행 2년차가 되는 것에 더해 대선 후보들의 세금 완화 정책 등도 부동산 시장에 적지 않은 영향을 줄 것으로 보인다”고 했다.\\n\\n\\n\\n\\u3000\\n]',\n",
              " '[\\n매매지수 2년4개월만에 최저대출 추가 규제 여파 더 위축아파트값 상승폭 7주째 감소\\n\\n\\n\\n9일 송파구 한 건물에서 내려다 본 시내 아파트. 연합뉴스    차주 단위 총부채원리금상환비율(DSR) 2·3단계 조기 도입과 금리 추가 인상 예고 등 금융당국의 \\'돈줄 옥죄기\\'가 이어지면서 매수 심리가 더 얼어붙은 것으로 나타났다. 서울 아파트 매매시장은 8주 연속 \\'팔자\\'가 \\'사자\\'보다 많고 아파트값 상승폭은 7주째 감소했다.9일 한국부동산원의 아파트 수급동향에 따르면 1월 첫째주(3일 기준) 서울 아파트 매매수급지수는 92.8로 지난주 93.5보다 0.7포인트 하락했다. 2019년 9월 9일 92.6 이후 2년4개월 만에 최저 수준을 기록했다.수급지수는 부동산원이 중개업소 설문을 통해 수요와 공급 비중을 0∼200까지로 지수화한 것이다. 매매지수가 기준선인 100 미만이라는 것은 현재 시장에 집을 살 사람보다 팔 사람이 많다는 것을 의미한다.서울은 지난해 11월 15일 기준선 아래(99.6)로 떨어진 후 8주 연속 지수가 매수자보다 매도자가 많은 \\'공급우위\\'가 지속되고 있다. 권역별로 보면 중구·종로·용산구 등이 포함된 도심권이 89.8로, 90선이 깨지면서 5개 권역 중 가장 낮았다.\\'노도강\\'(노원·도봉·강북구)이 속한 동북권(92.4)과 강남권(93.9), 서남권(94.4), 동남권(93.3) 모두 하락세를 이어갔다. 은평·서대문·마포구가 포함된 서북권은 90.8로 전주와 같은 수치를 유지했다.서울 아파트 전세수급지수도 94.5로 전주(95.7)보다 1.2포인트 하락하며 5주 연속 기준선을 밑돌았다. 거래절벽 현상이 지속되면서 가격도 하락 조짐을 보이고 있다. 부동산R114에 따르면 지난주 서울 아파트값은 0.02% 올랐으나 지난해 11월 말부터 7주째 상승폭이 0.01%포인트씩 줄고 있다. 광진구(-0.03%)와 서대문구(-0.01%) 아파트값이 떨어지면서 25개 자치구 중 절반 이상(16곳)이 보합 또는 하락했다.전세시장은 겨울 비수기로 수요가 줄면서 지난주 0.00% 변동률로 보합세 보였다. 지난 2019년 6월 말(6.28, 0.00%) 이후 주간 변동률 기준 가장 낮은 변동률을 나타냈다.광진구(-0.06%)와 관악구(-0.06%), 동작구(-0.05%), 양천구(-0.02%), 노원구(-0.02%), 성북구(-0.01%), 강남구(-0.01%) 등 7곳이 떨어져 상승한 지역(5곳)보다 하락한 지역이 더 많았다.임병철 부동산R114 리서치팀 수석연구원은 \"지난해 아파트 매매 상승폭이 컸던 지역을 중심으로 호가를 낮춘 매물이 늘고 있지만, 대출 규제와 금리 인상 등으로 매수 심리 회복이 쉽지 않은 상황\"이라고 말했다. 이어 \"집값 불안요인도 상존하고 있다\"며 \"서울을 중심으로 아파트 공급이 지난해보다 30% 이상 감소하고 도심 주택 공급을 위한 재개발·재건축 사업도 이슈가 되고 있다\"고 덧붙였다.그는 \"새 임대차2법 시행 2년차가 올해 7월에 돌아오는 것도 변수\"라며 \"대선 후보들의 세금 완화 정책과 경쟁적으로 나올 공급 대책 등도 부동산 시장에는 적지 않은 영향을 줄 것으로 보인다\"고 말했다.\\n]',\n",
              " '[\\n지방에는 1천만원 미만 초저가 소형 아파트도\\n\\n\\n\\n고가아파트 더올라…주택구입부담 양극화 심화 (CG)[연합뉴스TV 제공](서울=연합뉴스) 홍국기 기자 = 전국적으로 아파트값의 양극화가 역대 최대로 심화된 가운데 지방에서는 여전히 1천만원을 밑도는 초저가 소형 아파트도 있는 것으로 나타났다.    3일 연합뉴스가 국토교통부 실거래가 공개시스템을 분석한 결과 지난달 기준 전국적으로 가장 낮은 가격에 팔린 아파트 단지는 전남도 고흥군에 있는 \\'뉴코아\\'(전용면적 22.68㎡ 단일)로 13일 800만원에 3채(2층·3층), 950만원(3층)에 1채가 각각 팔렸다.    반면 같은 기간 전국에서 가장 높은 가격에 매매된 아파트는 서울 용산구 한남동 \\'파르크한남\\' 전용 268.95㎡로, 지난달 13일 120억원(2층)에 계약이 체결됐다.    파르크한남 한 채를 팔면 뉴코아를 최소 1천263채, 최대 1천500채를 살 수 있는 셈이다.\\n\\n\\n\\n[그래픽] 전국 아파트 매매·전세 5분위 배율 추이(서울=연합뉴스) 김영은 기자 = 0eun@yna.co.kr    페이스북 tuney.kr/LeYN1 트위터 @yonhap_graphicsKB국민은행의 월간 주택시장동향 시계열 통계에 따르면 지난달 기준 전국 아파트값 5분위 배율은 9.5로, 2008년 12월 관련 월간 조사가 시작된 이래 역대로 가장 높은 수치를 기록했다.    5분위 배율은 주택을 가격순으로 5등분해 상위 20%(5분위)의 평균 가격을 하위 20%(1분위)의 평균 가격으로 나눈 값이다.    고가주택과 저가주택 사이의 가격 격차를 나타내는 것으로, 배율이 높을수록 양극화가 심하다는 것을 의미한다.    지난달 전국적으로 가격 상위 20% 아파트값과 하위 20% 아파트값이 평균 9.5배 벌어지며 양극화가 역대 최대로 심화한 것이다.    뉴코아 외에도 경북 칠곡군 \\'성재\\' 아파트 전용 31.62㎡가 지난달 3일 950만원(1층)에, 경북 포항 남구 \\'신형석리\\' 아파트 전용 53.72㎡가 같은 달 7일 900만원(5층)에 매매 계약서를 쓰면서 1천만원 미만에 거래된 아파트 단지에 이름을 올렸다.\\n\\n\\n\\n거래 급감 속 신고가도…양극화하는 집값 (CG)[연합뉴스TV 제공]최근 집값이 고점이라는 인식이 확산하면서 매매가의 상승폭이 둔화되거나 지역별 하락세가 두드러졌지만, 초고가 아파트는 외려 가격이 계속 오르면서 양극화가 심해지는 것으로 풀이된다.    KB시세 통계로 지난달 전국 하위 20%의 아파트값은 평균 1억2천491만원으로 전달보다 84만원 떨어졌지만, 상위 20%의 아파트값은 평균 2천232만원 오른 11억8천975만원으로 조사됐다.    작년 전국 아파트값 1위를 기록한 파르크한남(전용 268.95㎡)의 경우 지난달 13일 매매가(120억원)는 전달 26일 거래(117억원)보다 3억원 오르며 역대 최고가를 경신했다.    박원갑 KB국민은행 수석부동산전문위원은 \"지난해에는 저금리에 따른 과잉 유동성으로 지방에서도 아파트값이 전반적으로 올랐지만, 올해는 금리 인상 압박이 커지고 입주 물량마저 늘어나 수도권과의 탈 동조화 현상이 나타날 것\"이라며 \"이 과정에서 서울 초고가 아파트값과 지방 초저가 아파트값의 격차는 더욱 벌어질 것으로 예상된다\"고 분석했다.\\n\\n\\n\\n고가아파트 - 저가아파트 가격 차 심화 (PG)[박은주 제작] 사진합성·일러스트redflag@yna.co.kr\\n]',\n",
              " '[\\n거래절벽 속 7주째 상승폭 둔화…16개구 보합·하락대출 규제, 공급 감소, 대선 공약 등 매매 심리 영향\\n\\n\\n\\n서울 주요 지역 주간 매매가격 변동률(부동산R114 제공)© 뉴스1(서울=뉴스1) 금준혁 기자 = 금융규제 등으로 거래시장이 위축하며 서울 아파트값 상승폭이 7주 연속 둔화 현상을 보였다. 2020년 5월 말 이후 가장 낮은 주간 변동률을 기록했다. 지난해 아파트 매매 상승폭이 컸던 지역을 중심으로 호가를 낮춘 매물이 늘고 있지만 거래는 쉽지 않은 상황이다. 서울 25개 자치구 중 광진구와 서대문구 아파트값이 떨어지면서 16곳 이상이 보합 또는 하락했다. ◇서울 아파트값 7주째 오름폭 축소…재건축은 0.07%상승7일 부동산R114에 따르면 이번주 서울 아파트값은 0.02% 올라 7주 연속 오름폭이 축소됐다. 재건축이 0.07%, 일반 아파트가 0.01% 상승했다. 이밖에 신도시가 0.01% 떨어졌고 경기·인천은 0.02% 올랐다.  서울은 거래 절벽 현상이 지속되면서 보합 또는 하락 지역이 늘고 있다. 지역별로는 Δ강남(0.08%) Δ강서(0.07%) Δ강동(0.06%) Δ용산(0.06%) Δ관악(0.05%) Δ도봉(0.05%) Δ구로(0.04%) Δ금천(0.03%) Δ서초(0.01%)순으로 상승했다.신도시는 Δ중동(0.06%) Δ일산(0.03%) Δ평촌(0.01%) Δ김포한강(0.01%)이 상승했고 ▽동탄(-0.08%)은 하락했다. 경기·인천은 Δ포천(0.23%) Δ수원(0.08%) Δ이천(0.06%) Δ양주(0.06%) Δ김포(0.05%) Δ의정부(0.04%) Δ화성(0.04%) Δ구리(0.03%) Δ용인(0.03%)이 상승했으나 ▽성남(-0.07%)은 떨어졌다.\\n\\n\\n\\n서울 주요 지역 주간 전세가격 변동률(부동산R114 제공)© 뉴스1◇매매가격 변동률 보합 전환 임박…공급감소, 대선 등 변수 있어전세시장은 겨울 비수기로 수요가 줄면서 서울과 신도시가 0.00% 변동률로 보합세 보였다. 경기·인천은 0.01% 올랐다.서울은 지난 2019년 6월 말(6.28, 0.00%) 이후 주간 변동률 기준 가장 낮은 변동률을 나타냈다. 지역별로는 Δ서대문(0.14%) Δ구로(0.06%) Δ마포(0.03%) Δ서초(0.03%) Δ송파(0.01%)가 올랐고 ▽광진(-0.06%) ▽관악(-0.06%) ▽동작(-0.05%) ▽양천(-0.02%) ▽노원(-0.02%) ▽성북(-0.01%) ▽강남(-0.01%)은 떨어졌다. 신도시는 Δ일산(0.06%) Δ동탄(0.04%) Δ중동(0.03%)이 올랐고 ▽평촌(-0.03%) ▽분당(-0.03%)은 떨어졌다.경기·인천은 Δ포천(0.35%) Δ양주(0.12%) Δ수원(0.08%) Δ김포(0.05%) Δ이천(0.04%) Δ안산(0.03%) Δ용인(0.02%)이 올랐고 ▽성남(-0.07%) ▽인천(-0.01%)은 하락했다.임병철 부동산R114 수석연구원은 \"수도권 아파트 매매가격 변동률의 보합 전환이 임박해지는 분위기\"라며 \"총부채상환비율(DSR) 2단계 조기 도입과 금리 추가 인상(예고) 등 금융당국의 \\'돈줄 옥죄기\\'가 이어지면서 매수 심리 회복이 쉽지 않은 상황\"이라고 설명했다.그러면서 \"서울을 중심으로 아파트 공급이 지난해보다 30% 이상 감소하고 도심 주택 공급을 위한 재개발·재건축 사업도 이슈가 되고 있다\"며 \"새 임대차2법 시행 2년 차가 올해 7월에 돌아오고 대선 후보들의 세금 완화 정책과 공급 대책 등도 부동산 시장에 적지 않은 영향을 줄 것\"이라고 말했다.\\n\\t\\t]']"
            ]
          },
          "metadata": {},
          "execution_count": 26
        }
      ]
    },
    {
      "cell_type": "code",
      "source": [
        "news_df.loc[0, 'link']"
      ],
      "metadata": {
        "id": "TqHTTnF7L4l0",
        "colab": {
          "base_uri": "https://localhost:8080/",
          "height": 40
        },
        "outputId": "fb044570-4d88-4fce-cbdf-b3138cc7e7cf"
      },
      "execution_count": null,
      "outputs": [
        {
          "output_type": "execute_result",
          "data": {
            "text/plain": [
              "'https://n.news.naver.com/mnews/article/001/0012950872?sid=101'"
            ],
            "application/vnd.google.colaboratory.intrinsic+json": {
              "type": "string"
            }
          },
          "metadata": {},
          "execution_count": 24
        }
      ]
    },
    {
      "cell_type": "code",
      "source": [
        "news_df['name'].unique()"
      ],
      "metadata": {
        "colab": {
          "base_uri": "https://localhost:8080/"
        },
        "id": "ql0mr_hhgsHg",
        "outputId": "99a613f0-f42a-466c-8af6-1a0da4325ec5"
      },
      "execution_count": null,
      "outputs": [
        {
          "output_type": "execute_result",
          "data": {
            "text/plain": [
              "array(['연합뉴스', '뉴시스', 'TV조선', '머니S', '매일경제', '뉴스1', '한국경제', '더팩트',\n",
              "       '매경이코노미', '아시아경제', '국민일보', '머니투데이', '서울경제', '헤럴드경제', '경향신문',\n",
              "       '동아일보', '조선일보', '세계일보', 'CJB청주방송', '스포츠경향', '데일리안', '중앙일보', '주간동아',\n",
              "       '조선비즈', 'SBS', '이데일리', '채널A', '아이뉴스24', '시사저널', '파이낸셜뉴스', '대전일보',\n",
              "       '연합뉴스TV', '여성신문', '문화일보', 'KBS', '한국경제TV', '노컷뉴스', '디지털타임스',\n",
              "       '부산일보', '한국일보', 'SBS Biz', '한경비즈니스', 'MBN', '스타뉴스', '한겨레', 'YTN'],\n",
              "      dtype=object)"
            ]
          },
          "metadata": {},
          "execution_count": 32
        }
      ]
    },
    {
      "cell_type": "code",
      "source": [
        "news_df['name'].value_counts()"
      ],
      "metadata": {
        "colab": {
          "base_uri": "https://localhost:8080/"
        },
        "id": "LNpH1n_FlmZb",
        "outputId": "e9b65c8a-d77a-4d26-e4df-32129854264a"
      },
      "execution_count": null,
      "outputs": [
        {
          "output_type": "execute_result",
          "data": {
            "text/plain": [
              "연합뉴스       20\n",
              "뉴스1        18\n",
              "뉴시스        18\n",
              "아시아경제      16\n",
              "한국경제       15\n",
              "매일경제       13\n",
              "중앙일보       13\n",
              "국민일보       11\n",
              "조선일보       10\n",
              "이데일리        9\n",
              "서울경제        9\n",
              "경향신문        9\n",
              "동아일보        9\n",
              "머니투데이       8\n",
              "파이낸셜뉴스      7\n",
              "세계일보        7\n",
              "조선비즈        7\n",
              "헤럴드경제       7\n",
              "더팩트         7\n",
              "매경이코노미      6\n",
              "아이뉴스24      6\n",
              "연합뉴스TV      5\n",
              "디지털타임스      4\n",
              "머니S         4\n",
              "TV조선        4\n",
              "문화일보        4\n",
              "데일리안        4\n",
              "노컷뉴스        4\n",
              "KBS         3\n",
              "SBS         3\n",
              "채널A         3\n",
              "시사저널        3\n",
              "대전일보        3\n",
              "CJB청주방송     3\n",
              "여성신문        3\n",
              "한국일보        3\n",
              "SBS Biz     2\n",
              "주간동아        2\n",
              "한국경제TV      2\n",
              "스포츠경향       2\n",
              "부산일보        1\n",
              "한경비즈니스      1\n",
              "MBN         1\n",
              "스타뉴스        1\n",
              "한겨레         1\n",
              "YTN         1\n",
              "Name: name, dtype: int64"
            ]
          },
          "metadata": {},
          "execution_count": 33
        }
      ]
    },
    {
      "cell_type": "code",
      "source": [
        "import numpy as np"
      ],
      "metadata": {
        "id": "mo-1AZY-l_SH"
      },
      "execution_count": null,
      "outputs": []
    },
    {
      "cell_type": "code",
      "source": [
        "np.count(news_df['name'].values)"
      ],
      "metadata": {
        "colab": {
          "base_uri": "https://localhost:8080/",
          "height": 328
        },
        "id": "-p8Fx5A_lr4K",
        "outputId": "b5b40fde-c11a-4086-be46-87c3c71fecaa"
      },
      "execution_count": null,
      "outputs": [
        {
          "output_type": "error",
          "ename": "AttributeError",
          "evalue": "ignored",
          "traceback": [
            "\u001b[0;31m---------------------------------------------------------------------------\u001b[0m",
            "\u001b[0;31mAttributeError\u001b[0m                            Traceback (most recent call last)",
            "\u001b[0;32m<ipython-input-38-8640ee6c77b0>\u001b[0m in \u001b[0;36m<cell line: 1>\u001b[0;34m()\u001b[0m\n\u001b[0;32m----> 1\u001b[0;31m \u001b[0mnp\u001b[0m\u001b[0;34m.\u001b[0m\u001b[0mcount\u001b[0m\u001b[0;34m(\u001b[0m\u001b[0mnews_df\u001b[0m\u001b[0;34m[\u001b[0m\u001b[0;34m'name'\u001b[0m\u001b[0;34m]\u001b[0m\u001b[0;34m.\u001b[0m\u001b[0mvalues\u001b[0m\u001b[0;34m)\u001b[0m\u001b[0;34m\u001b[0m\u001b[0;34m\u001b[0m\u001b[0m\n\u001b[0m",
            "\u001b[0;32m/usr/local/lib/python3.9/dist-packages/numpy/__init__.py\u001b[0m in \u001b[0;36m__getattr__\u001b[0;34m(attr)\u001b[0m\n\u001b[1;32m    313\u001b[0m             \u001b[0;32mreturn\u001b[0m \u001b[0mTester\u001b[0m\u001b[0;34m\u001b[0m\u001b[0;34m\u001b[0m\u001b[0m\n\u001b[1;32m    314\u001b[0m \u001b[0;34m\u001b[0m\u001b[0m\n\u001b[0;32m--> 315\u001b[0;31m         raise AttributeError(\"module {!r} has no attribute \"\n\u001b[0m\u001b[1;32m    316\u001b[0m                              \"{!r}\".format(__name__, attr))\n\u001b[1;32m    317\u001b[0m \u001b[0;34m\u001b[0m\u001b[0m\n",
            "\u001b[0;31mAttributeError\u001b[0m: module 'numpy' has no attribute 'count'"
          ]
        }
      ]
    },
    {
      "cell_type": "code",
      "source": [
        "news_df['name'].value_counts().sum()"
      ],
      "metadata": {
        "colab": {
          "base_uri": "https://localhost:8080/"
        },
        "id": "eeV1XZsel1ab",
        "outputId": "3e7e5ab6-d82e-4284-8d1d-fb913f254f26"
      },
      "execution_count": null,
      "outputs": [
        {
          "output_type": "execute_result",
          "data": {
            "text/plain": [
              "292"
            ]
          },
          "metadata": {},
          "execution_count": 39
        }
      ]
    },
    {
      "cell_type": "code",
      "source": [
        "news_df.loc[249, 'content'] = '[서울=뉴시스] 5일 한국감정원에 따르면, 지난 2일 기준 서울 아파트 매매가격이 0.1% 상승 했다. 전국은 지난주 대비 상승폭이 축소됐다. (그래픽=안지혜 기자)'"
      ],
      "metadata": {
        "id": "QHONSl4rSc4Y"
      },
      "execution_count": null,
      "outputs": []
    },
    {
      "cell_type": "code",
      "source": [
        "news_df.loc[249, 'content']"
      ],
      "metadata": {
        "colab": {
          "base_uri": "https://localhost:8080/",
          "height": 60
        },
        "id": "m3iL5QuFSt_t",
        "outputId": "cf05f3bd-cba7-4ce8-a588-452c86a97eb4"
      },
      "execution_count": null,
      "outputs": [
        {
          "output_type": "execute_result",
          "data": {
            "text/plain": [
              "'[서울=뉴시스] 5일 한국감정원에 따르면, 지난 2일 기준 서울 아파트 매매가격이 0.1% 상승 했다. 전국은 지난주 대비 상승폭이 축소됐다. (그래픽=안지혜 기자)'"
            ],
            "application/vnd.google.colaboratory.intrinsic+json": {
              "type": "string"
            }
          },
          "metadata": {},
          "execution_count": 25
        }
      ]
    },
    {
      "cell_type": "code",
      "source": [
        "news_df = news_df[news_df['name'].str.strip().astype(bool)]"
      ],
      "metadata": {
        "id": "gKJExABeTZJu"
      },
      "execution_count": null,
      "outputs": []
    },
    {
      "cell_type": "code",
      "source": [
        "news_df[news_df['name'].isna()]"
      ],
      "metadata": {
        "colab": {
          "base_uri": "https://localhost:8080/",
          "height": 52
        },
        "id": "xA47Otv3VTGQ",
        "outputId": "d055e599-e43d-4b3d-f298-e65827cf538a"
      },
      "execution_count": null,
      "outputs": [
        {
          "output_type": "execute_result",
          "data": {
            "text/plain": [
              "Empty DataFrame\n",
              "Columns: [date, name, title, content, link]\n",
              "Index: []"
            ],
            "text/html": [
              "\n",
              "  <div id=\"df-d6c0b750-79aa-4900-9e43-53ed2108a477\">\n",
              "    <div class=\"colab-df-container\">\n",
              "      <div>\n",
              "<style scoped>\n",
              "    .dataframe tbody tr th:only-of-type {\n",
              "        vertical-align: middle;\n",
              "    }\n",
              "\n",
              "    .dataframe tbody tr th {\n",
              "        vertical-align: top;\n",
              "    }\n",
              "\n",
              "    .dataframe thead th {\n",
              "        text-align: right;\n",
              "    }\n",
              "</style>\n",
              "<table border=\"1\" class=\"dataframe\">\n",
              "  <thead>\n",
              "    <tr style=\"text-align: right;\">\n",
              "      <th></th>\n",
              "      <th>date</th>\n",
              "      <th>name</th>\n",
              "      <th>title</th>\n",
              "      <th>content</th>\n",
              "      <th>link</th>\n",
              "    </tr>\n",
              "  </thead>\n",
              "  <tbody>\n",
              "  </tbody>\n",
              "</table>\n",
              "</div>\n",
              "      <button class=\"colab-df-convert\" onclick=\"convertToInteractive('df-d6c0b750-79aa-4900-9e43-53ed2108a477')\"\n",
              "              title=\"Convert this dataframe to an interactive table.\"\n",
              "              style=\"display:none;\">\n",
              "        \n",
              "  <svg xmlns=\"http://www.w3.org/2000/svg\" height=\"24px\"viewBox=\"0 0 24 24\"\n",
              "       width=\"24px\">\n",
              "    <path d=\"M0 0h24v24H0V0z\" fill=\"none\"/>\n",
              "    <path d=\"M18.56 5.44l.94 2.06.94-2.06 2.06-.94-2.06-.94-.94-2.06-.94 2.06-2.06.94zm-11 1L8.5 8.5l.94-2.06 2.06-.94-2.06-.94L8.5 2.5l-.94 2.06-2.06.94zm10 10l.94 2.06.94-2.06 2.06-.94-2.06-.94-.94-2.06-.94 2.06-2.06.94z\"/><path d=\"M17.41 7.96l-1.37-1.37c-.4-.4-.92-.59-1.43-.59-.52 0-1.04.2-1.43.59L10.3 9.45l-7.72 7.72c-.78.78-.78 2.05 0 2.83L4 21.41c.39.39.9.59 1.41.59.51 0 1.02-.2 1.41-.59l7.78-7.78 2.81-2.81c.8-.78.8-2.07 0-2.86zM5.41 20L4 18.59l7.72-7.72 1.47 1.35L5.41 20z\"/>\n",
              "  </svg>\n",
              "      </button>\n",
              "      \n",
              "  <style>\n",
              "    .colab-df-container {\n",
              "      display:flex;\n",
              "      flex-wrap:wrap;\n",
              "      gap: 12px;\n",
              "    }\n",
              "\n",
              "    .colab-df-convert {\n",
              "      background-color: #E8F0FE;\n",
              "      border: none;\n",
              "      border-radius: 50%;\n",
              "      cursor: pointer;\n",
              "      display: none;\n",
              "      fill: #1967D2;\n",
              "      height: 32px;\n",
              "      padding: 0 0 0 0;\n",
              "      width: 32px;\n",
              "    }\n",
              "\n",
              "    .colab-df-convert:hover {\n",
              "      background-color: #E2EBFA;\n",
              "      box-shadow: 0px 1px 2px rgba(60, 64, 67, 0.3), 0px 1px 3px 1px rgba(60, 64, 67, 0.15);\n",
              "      fill: #174EA6;\n",
              "    }\n",
              "\n",
              "    [theme=dark] .colab-df-convert {\n",
              "      background-color: #3B4455;\n",
              "      fill: #D2E3FC;\n",
              "    }\n",
              "\n",
              "    [theme=dark] .colab-df-convert:hover {\n",
              "      background-color: #434B5C;\n",
              "      box-shadow: 0px 1px 3px 1px rgba(0, 0, 0, 0.15);\n",
              "      filter: drop-shadow(0px 1px 2px rgba(0, 0, 0, 0.3));\n",
              "      fill: #FFFFFF;\n",
              "    }\n",
              "  </style>\n",
              "\n",
              "      <script>\n",
              "        const buttonEl =\n",
              "          document.querySelector('#df-d6c0b750-79aa-4900-9e43-53ed2108a477 button.colab-df-convert');\n",
              "        buttonEl.style.display =\n",
              "          google.colab.kernel.accessAllowed ? 'block' : 'none';\n",
              "\n",
              "        async function convertToInteractive(key) {\n",
              "          const element = document.querySelector('#df-d6c0b750-79aa-4900-9e43-53ed2108a477');\n",
              "          const dataTable =\n",
              "            await google.colab.kernel.invokeFunction('convertToInteractive',\n",
              "                                                     [key], {});\n",
              "          if (!dataTable) return;\n",
              "\n",
              "          const docLinkHtml = 'Like what you see? Visit the ' +\n",
              "            '<a target=\"_blank\" href=https://colab.research.google.com/notebooks/data_table.ipynb>data table notebook</a>'\n",
              "            + ' to learn more about interactive tables.';\n",
              "          element.innerHTML = '';\n",
              "          dataTable['output_type'] = 'display_data';\n",
              "          await google.colab.output.renderOutput(dataTable, element);\n",
              "          const docLink = document.createElement('div');\n",
              "          docLink.innerHTML = docLinkHtml;\n",
              "          element.appendChild(docLink);\n",
              "        }\n",
              "      </script>\n",
              "    </div>\n",
              "  </div>\n",
              "  "
            ]
          },
          "metadata": {},
          "execution_count": 57
        }
      ]
    },
    {
      "cell_type": "code",
      "source": [
        "news_df[news_df['name'] == '']"
      ],
      "metadata": {
        "colab": {
          "base_uri": "https://localhost:8080/",
          "height": 52
        },
        "id": "2B9WbEoQTwbu",
        "outputId": "e27b7b06-8db3-4afa-de78-9f969b1430a2"
      },
      "execution_count": null,
      "outputs": [
        {
          "output_type": "execute_result",
          "data": {
            "text/plain": [
              "Empty DataFrame\n",
              "Columns: [date, name, title, content, link]\n",
              "Index: []"
            ],
            "text/html": [
              "\n",
              "  <div id=\"df-c0685ac7-e3b1-4ddc-b568-c9158d5dd847\">\n",
              "    <div class=\"colab-df-container\">\n",
              "      <div>\n",
              "<style scoped>\n",
              "    .dataframe tbody tr th:only-of-type {\n",
              "        vertical-align: middle;\n",
              "    }\n",
              "\n",
              "    .dataframe tbody tr th {\n",
              "        vertical-align: top;\n",
              "    }\n",
              "\n",
              "    .dataframe thead th {\n",
              "        text-align: right;\n",
              "    }\n",
              "</style>\n",
              "<table border=\"1\" class=\"dataframe\">\n",
              "  <thead>\n",
              "    <tr style=\"text-align: right;\">\n",
              "      <th></th>\n",
              "      <th>date</th>\n",
              "      <th>name</th>\n",
              "      <th>title</th>\n",
              "      <th>content</th>\n",
              "      <th>link</th>\n",
              "    </tr>\n",
              "  </thead>\n",
              "  <tbody>\n",
              "  </tbody>\n",
              "</table>\n",
              "</div>\n",
              "      <button class=\"colab-df-convert\" onclick=\"convertToInteractive('df-c0685ac7-e3b1-4ddc-b568-c9158d5dd847')\"\n",
              "              title=\"Convert this dataframe to an interactive table.\"\n",
              "              style=\"display:none;\">\n",
              "        \n",
              "  <svg xmlns=\"http://www.w3.org/2000/svg\" height=\"24px\"viewBox=\"0 0 24 24\"\n",
              "       width=\"24px\">\n",
              "    <path d=\"M0 0h24v24H0V0z\" fill=\"none\"/>\n",
              "    <path d=\"M18.56 5.44l.94 2.06.94-2.06 2.06-.94-2.06-.94-.94-2.06-.94 2.06-2.06.94zm-11 1L8.5 8.5l.94-2.06 2.06-.94-2.06-.94L8.5 2.5l-.94 2.06-2.06.94zm10 10l.94 2.06.94-2.06 2.06-.94-2.06-.94-.94-2.06-.94 2.06-2.06.94z\"/><path d=\"M17.41 7.96l-1.37-1.37c-.4-.4-.92-.59-1.43-.59-.52 0-1.04.2-1.43.59L10.3 9.45l-7.72 7.72c-.78.78-.78 2.05 0 2.83L4 21.41c.39.39.9.59 1.41.59.51 0 1.02-.2 1.41-.59l7.78-7.78 2.81-2.81c.8-.78.8-2.07 0-2.86zM5.41 20L4 18.59l7.72-7.72 1.47 1.35L5.41 20z\"/>\n",
              "  </svg>\n",
              "      </button>\n",
              "      \n",
              "  <style>\n",
              "    .colab-df-container {\n",
              "      display:flex;\n",
              "      flex-wrap:wrap;\n",
              "      gap: 12px;\n",
              "    }\n",
              "\n",
              "    .colab-df-convert {\n",
              "      background-color: #E8F0FE;\n",
              "      border: none;\n",
              "      border-radius: 50%;\n",
              "      cursor: pointer;\n",
              "      display: none;\n",
              "      fill: #1967D2;\n",
              "      height: 32px;\n",
              "      padding: 0 0 0 0;\n",
              "      width: 32px;\n",
              "    }\n",
              "\n",
              "    .colab-df-convert:hover {\n",
              "      background-color: #E2EBFA;\n",
              "      box-shadow: 0px 1px 2px rgba(60, 64, 67, 0.3), 0px 1px 3px 1px rgba(60, 64, 67, 0.15);\n",
              "      fill: #174EA6;\n",
              "    }\n",
              "\n",
              "    [theme=dark] .colab-df-convert {\n",
              "      background-color: #3B4455;\n",
              "      fill: #D2E3FC;\n",
              "    }\n",
              "\n",
              "    [theme=dark] .colab-df-convert:hover {\n",
              "      background-color: #434B5C;\n",
              "      box-shadow: 0px 1px 3px 1px rgba(0, 0, 0, 0.15);\n",
              "      filter: drop-shadow(0px 1px 2px rgba(0, 0, 0, 0.3));\n",
              "      fill: #FFFFFF;\n",
              "    }\n",
              "  </style>\n",
              "\n",
              "      <script>\n",
              "        const buttonEl =\n",
              "          document.querySelector('#df-c0685ac7-e3b1-4ddc-b568-c9158d5dd847 button.colab-df-convert');\n",
              "        buttonEl.style.display =\n",
              "          google.colab.kernel.accessAllowed ? 'block' : 'none';\n",
              "\n",
              "        async function convertToInteractive(key) {\n",
              "          const element = document.querySelector('#df-c0685ac7-e3b1-4ddc-b568-c9158d5dd847');\n",
              "          const dataTable =\n",
              "            await google.colab.kernel.invokeFunction('convertToInteractive',\n",
              "                                                     [key], {});\n",
              "          if (!dataTable) return;\n",
              "\n",
              "          const docLinkHtml = 'Like what you see? Visit the ' +\n",
              "            '<a target=\"_blank\" href=https://colab.research.google.com/notebooks/data_table.ipynb>data table notebook</a>'\n",
              "            + ' to learn more about interactive tables.';\n",
              "          element.innerHTML = '';\n",
              "          dataTable['output_type'] = 'display_data';\n",
              "          await google.colab.output.renderOutput(dataTable, element);\n",
              "          const docLink = document.createElement('div');\n",
              "          docLink.innerHTML = docLinkHtml;\n",
              "          element.appendChild(docLink);\n",
              "        }\n",
              "      </script>\n",
              "    </div>\n",
              "  </div>\n",
              "  "
            ]
          },
          "metadata": {},
          "execution_count": 58
        }
      ]
    },
    {
      "cell_type": "code",
      "source": [
        "news_df.info()"
      ],
      "metadata": {
        "colab": {
          "base_uri": "https://localhost:8080/"
        },
        "id": "B0qoGCvATVMA",
        "outputId": "910097ea-c12c-4227-dc25-369d51766f29"
      },
      "execution_count": null,
      "outputs": [
        {
          "output_type": "stream",
          "name": "stdout",
          "text": [
            "<class 'pandas.core.frame.DataFrame'>\n",
            "Int64Index: 1334 entries, 0 to 1334\n",
            "Data columns (total 5 columns):\n",
            " #   Column   Non-Null Count  Dtype \n",
            "---  ------   --------------  ----- \n",
            " 0   date     1334 non-null   object\n",
            " 1   name     1334 non-null   object\n",
            " 2   title    1334 non-null   object\n",
            " 3   content  1334 non-null   object\n",
            " 4   link     1334 non-null   object\n",
            "dtypes: object(5)\n",
            "memory usage: 62.5+ KB\n"
          ]
        }
      ]
    },
    {
      "cell_type": "code",
      "source": [
        "news_df.reset_index(drop = True, inplace = True)\n",
        "news_df.info()"
      ],
      "metadata": {
        "colab": {
          "base_uri": "https://localhost:8080/"
        },
        "id": "yt-Th_ZQVisv",
        "outputId": "1e8dbcd8-54c2-443e-fde6-d3f7fd74c4b3"
      },
      "execution_count": null,
      "outputs": [
        {
          "output_type": "stream",
          "name": "stdout",
          "text": [
            "<class 'pandas.core.frame.DataFrame'>\n",
            "RangeIndex: 1334 entries, 0 to 1333\n",
            "Data columns (total 5 columns):\n",
            " #   Column   Non-Null Count  Dtype \n",
            "---  ------   --------------  ----- \n",
            " 0   date     1334 non-null   object\n",
            " 1   name     1334 non-null   object\n",
            " 2   title    1334 non-null   object\n",
            " 3   content  1334 non-null   object\n",
            " 4   link     1334 non-null   object\n",
            "dtypes: object(5)\n",
            "memory usage: 52.2+ KB\n"
          ]
        }
      ]
    },
    {
      "cell_type": "code",
      "source": [
        "news_df[news_df['title'].str.contains('홈즈')]"
      ],
      "metadata": {
        "colab": {
          "base_uri": "https://localhost:8080/",
          "height": 52
        },
        "id": "pHaoV35yV1O9",
        "outputId": "b1a15cb9-c4d5-48e5-acea-bbad737239a6"
      },
      "execution_count": null,
      "outputs": [
        {
          "output_type": "execute_result",
          "data": {
            "text/plain": [
              "Empty DataFrame\n",
              "Columns: [date, name, title, content, link]\n",
              "Index: []"
            ],
            "text/html": [
              "\n",
              "  <div id=\"df-9f34a12e-3424-4d46-be52-fc3c594588ec\">\n",
              "    <div class=\"colab-df-container\">\n",
              "      <div>\n",
              "<style scoped>\n",
              "    .dataframe tbody tr th:only-of-type {\n",
              "        vertical-align: middle;\n",
              "    }\n",
              "\n",
              "    .dataframe tbody tr th {\n",
              "        vertical-align: top;\n",
              "    }\n",
              "\n",
              "    .dataframe thead th {\n",
              "        text-align: right;\n",
              "    }\n",
              "</style>\n",
              "<table border=\"1\" class=\"dataframe\">\n",
              "  <thead>\n",
              "    <tr style=\"text-align: right;\">\n",
              "      <th></th>\n",
              "      <th>date</th>\n",
              "      <th>name</th>\n",
              "      <th>title</th>\n",
              "      <th>content</th>\n",
              "      <th>link</th>\n",
              "    </tr>\n",
              "  </thead>\n",
              "  <tbody>\n",
              "  </tbody>\n",
              "</table>\n",
              "</div>\n",
              "      <button class=\"colab-df-convert\" onclick=\"convertToInteractive('df-9f34a12e-3424-4d46-be52-fc3c594588ec')\"\n",
              "              title=\"Convert this dataframe to an interactive table.\"\n",
              "              style=\"display:none;\">\n",
              "        \n",
              "  <svg xmlns=\"http://www.w3.org/2000/svg\" height=\"24px\"viewBox=\"0 0 24 24\"\n",
              "       width=\"24px\">\n",
              "    <path d=\"M0 0h24v24H0V0z\" fill=\"none\"/>\n",
              "    <path d=\"M18.56 5.44l.94 2.06.94-2.06 2.06-.94-2.06-.94-.94-2.06-.94 2.06-2.06.94zm-11 1L8.5 8.5l.94-2.06 2.06-.94-2.06-.94L8.5 2.5l-.94 2.06-2.06.94zm10 10l.94 2.06.94-2.06 2.06-.94-2.06-.94-.94-2.06-.94 2.06-2.06.94z\"/><path d=\"M17.41 7.96l-1.37-1.37c-.4-.4-.92-.59-1.43-.59-.52 0-1.04.2-1.43.59L10.3 9.45l-7.72 7.72c-.78.78-.78 2.05 0 2.83L4 21.41c.39.39.9.59 1.41.59.51 0 1.02-.2 1.41-.59l7.78-7.78 2.81-2.81c.8-.78.8-2.07 0-2.86zM5.41 20L4 18.59l7.72-7.72 1.47 1.35L5.41 20z\"/>\n",
              "  </svg>\n",
              "      </button>\n",
              "      \n",
              "  <style>\n",
              "    .colab-df-container {\n",
              "      display:flex;\n",
              "      flex-wrap:wrap;\n",
              "      gap: 12px;\n",
              "    }\n",
              "\n",
              "    .colab-df-convert {\n",
              "      background-color: #E8F0FE;\n",
              "      border: none;\n",
              "      border-radius: 50%;\n",
              "      cursor: pointer;\n",
              "      display: none;\n",
              "      fill: #1967D2;\n",
              "      height: 32px;\n",
              "      padding: 0 0 0 0;\n",
              "      width: 32px;\n",
              "    }\n",
              "\n",
              "    .colab-df-convert:hover {\n",
              "      background-color: #E2EBFA;\n",
              "      box-shadow: 0px 1px 2px rgba(60, 64, 67, 0.3), 0px 1px 3px 1px rgba(60, 64, 67, 0.15);\n",
              "      fill: #174EA6;\n",
              "    }\n",
              "\n",
              "    [theme=dark] .colab-df-convert {\n",
              "      background-color: #3B4455;\n",
              "      fill: #D2E3FC;\n",
              "    }\n",
              "\n",
              "    [theme=dark] .colab-df-convert:hover {\n",
              "      background-color: #434B5C;\n",
              "      box-shadow: 0px 1px 3px 1px rgba(0, 0, 0, 0.15);\n",
              "      filter: drop-shadow(0px 1px 2px rgba(0, 0, 0, 0.3));\n",
              "      fill: #FFFFFF;\n",
              "    }\n",
              "  </style>\n",
              "\n",
              "      <script>\n",
              "        const buttonEl =\n",
              "          document.querySelector('#df-9f34a12e-3424-4d46-be52-fc3c594588ec button.colab-df-convert');\n",
              "        buttonEl.style.display =\n",
              "          google.colab.kernel.accessAllowed ? 'block' : 'none';\n",
              "\n",
              "        async function convertToInteractive(key) {\n",
              "          const element = document.querySelector('#df-9f34a12e-3424-4d46-be52-fc3c594588ec');\n",
              "          const dataTable =\n",
              "            await google.colab.kernel.invokeFunction('convertToInteractive',\n",
              "                                                     [key], {});\n",
              "          if (!dataTable) return;\n",
              "\n",
              "          const docLinkHtml = 'Like what you see? Visit the ' +\n",
              "            '<a target=\"_blank\" href=https://colab.research.google.com/notebooks/data_table.ipynb>data table notebook</a>'\n",
              "            + ' to learn more about interactive tables.';\n",
              "          element.innerHTML = '';\n",
              "          dataTable['output_type'] = 'display_data';\n",
              "          await google.colab.output.renderOutput(dataTable, element);\n",
              "          const docLink = document.createElement('div');\n",
              "          docLink.innerHTML = docLinkHtml;\n",
              "          element.appendChild(docLink);\n",
              "        }\n",
              "      </script>\n",
              "    </div>\n",
              "  </div>\n",
              "  "
            ]
          },
          "metadata": {},
          "execution_count": 61
        }
      ]
    },
    {
      "cell_type": "code",
      "source": [
        "outputFileName = f'{s_date} ~ {e_date}.xlsx'\n",
        "news_df.to_excel(outputFileName, sheet_name='sheet1')"
      ],
      "metadata": {
        "id": "A7Ea10QhSbq-"
      },
      "execution_count": null,
      "outputs": []
    },
    {
      "cell_type": "code",
      "source": [],
      "metadata": {
        "id": "hH2gX16AVvWp"
      },
      "execution_count": null,
      "outputs": []
    }
  ]
}